{
 "cells": [
  {
   "cell_type": "markdown",
   "id": "10833be1",
   "metadata": {
    "tags": []
   },
   "source": [
    "# Supervised Machine Learning by @attzulkafli."
   ]
  },
  {
   "cell_type": "markdown",
   "id": "7bae1a97",
   "metadata": {
    "tags": []
   },
   "source": [
    "## Linear Regression"
   ]
  },
  {
   "cell_type": "markdown",
   "id": "4cb89a23",
   "metadata": {
    "tags": []
   },
   "source": [
    "#### \n",
    "$y = \\beta_0 + \\beta_1x$\n",
    "\n",
    "What does each term represent?\n",
    "- $y$ is the response\n",
    "- $x$ is the feature\n",
    "- $\\beta_0$ is the intercept\n",
    "- $\\beta_1$ is the coefficient for x, also called slope\n",
    "\n",
    "<img src=\"../images/slope_intercept.png\">\n",
    "\n",
    "Together, $\\beta_0$ and $\\beta_1$ are called the **model coefficients**. Fitting a model to data means to \"learn\" the optimal values for these coefficients."
   ]
  },
  {
   "cell_type": "markdown",
   "id": "36d897c4",
   "metadata": {},
   "source": [
    "\n",
    "<img src=\"../images/estimating_coefficients.png\">"
   ]
  },
  {
   "cell_type": "code",
   "execution_count": 1,
   "id": "f0ff89d3",
   "metadata": {},
   "outputs": [],
   "source": [
    "import matplotlib.pyplot as plt\n",
    "import seaborn as sns\n",
    "import numpy as np\n",
    "import pandas as pd\n",
    "import sklearn.linear_model\n",
    "import sklearn.metrics\n",
    "import sklearn.preprocessing\n",
    "import sklearn.pipeline\n",
    "import sklearn.datasets\n",
    "\n",
    "sns.set()"
   ]
  },
  {
   "cell_type": "code",
   "execution_count": 18,
   "id": "842e16e7",
   "metadata": {
    "scrolled": true,
    "tags": []
   },
   "outputs": [
    {
     "data": {
      "image/png": "[encoded data removed]",
      "text/plain": [
       "<Figure size 432x288 with 1 Axes>"
      ]
     },
     "metadata": {},
     "output_type": "display_data"
    }
   ],
   "source": [
    "# Create random data\n",
    "rng = np.random.RandomState(1)\n",
    "x = 10 * rng.rand(50)\n",
    "y = -5 + 2 * x + rng.randn(50)\n",
    "plt.scatter(x, y);"
   ]
  },
  {
   "cell_type": "markdown",
   "id": "493c326d",
   "metadata": {},
   "source": [
    "###  Step 1 - Choose model hyperparameters "
   ]
  },
  {
   "cell_type": "markdown",
   "id": "79e6e9d3",
   "metadata": {
    "tags": []
   },
   "source": [
    "If we set this to `False`, then Python expects the data to be centered and simply sets $\\beta_0 = 0$. "
   ]
  },
  {
   "cell_type": "code",
   "execution_count": 19,
   "id": "64a6a9d0",
   "metadata": {},
   "outputs": [],
   "source": [
    "from sklearn.linear_model import LinearRegression"
   ]
  },
  {
   "cell_type": "code",
   "execution_count": 20,
   "id": "ae5ce487",
   "metadata": {},
   "outputs": [
    {
     "data": {
      "text/plain": [
       "LinearRegression()"
      ]
     },
     "execution_count": 20,
     "metadata": {},
     "output_type": "execute_result"
    }
   ],
   "source": [
    "model = LinearRegression(fit_intercept=True)\n",
    "model"
   ]
  },
  {
   "cell_type": "markdown",
   "id": "9d13bbb8",
   "metadata": {},
   "source": [
    "### Step 2 - Arrange data into a features matrix and target vector"
   ]
  },
  {
   "cell_type": "markdown",
   "id": "6514620e",
   "metadata": {},
   "source": [
    "<img src=\"../images/numpy_array.png\">"
   ]
  },
  {
   "cell_type": "code",
   "execution_count": 21,
   "id": "4d8daf98",
   "metadata": {},
   "outputs": [
    {
     "name": "stdout",
     "output_type": "stream",
     "text": [
      "Shape of x: (50,)\n"
     ]
    }
   ],
   "source": [
    "print(\"Shape of x: {}\".format(x.shape))"
   ]
  },
  {
   "cell_type": "code",
   "execution_count": 22,
   "id": "2a854d25",
   "metadata": {},
   "outputs": [
    {
     "name": "stdout",
     "output_type": "stream",
     "text": [
      "Shape of x: (50, 1)\n",
      "[[4.17022005e+00]\n",
      " [7.20324493e+00]\n",
      " [1.14374817e-03]\n",
      " [3.02332573e+00]\n",
      " [1.46755891e+00]\n",
      " [9.23385948e-01]\n",
      " [1.86260211e+00]\n",
      " [3.45560727e+00]\n",
      " [3.96767474e+00]\n",
      " [5.38816734e+00]\n",
      " [4.19194514e+00]\n",
      " [6.85219500e+00]\n",
      " [2.04452250e+00]\n",
      " [8.78117436e+00]\n",
      " [2.73875932e-01]\n",
      " [6.70467510e+00]\n",
      " [4.17304802e+00]\n",
      " [5.58689828e+00]\n",
      " [1.40386939e+00]\n",
      " [1.98101489e+00]\n",
      " [8.00744569e+00]\n",
      " [9.68261576e+00]\n",
      " [3.13424178e+00]\n",
      " [6.92322616e+00]\n",
      " [8.76389152e+00]\n",
      " [8.94606664e+00]\n",
      " [8.50442114e-01]\n",
      " [3.90547832e-01]\n",
      " [1.69830420e+00]\n",
      " [8.78142503e+00]\n",
      " [9.83468338e-01]\n",
      " [4.21107625e+00]\n",
      " [9.57889530e+00]\n",
      " [5.33165285e+00]\n",
      " [6.91877114e+00]\n",
      " [3.15515631e+00]\n",
      " [6.86500928e+00]\n",
      " [8.34625672e+00]\n",
      " [1.82882773e-01]\n",
      " [7.50144315e+00]\n",
      " [9.88861089e+00]\n",
      " [7.48165654e+00]\n",
      " [2.80443992e+00]\n",
      " [7.89279328e+00]\n",
      " [1.03226007e+00]\n",
      " [4.47893526e+00]\n",
      " [9.08595503e+00]\n",
      " [2.93614148e+00]\n",
      " [2.87775339e+00]\n",
      " [1.30028572e+00]]\n"
     ]
    }
   ],
   "source": [
    "x = x[:,np.newaxis]\n",
    "print(\"Shape of x: {}\".format(x.shape))\n",
    "print(x)"
   ]
  },
  {
   "cell_type": "markdown",
   "id": "66ebe1d5",
   "metadata": {},
   "source": [
    "### Step 3 - Fit the model to your data"
   ]
  },
  {
   "cell_type": "code",
   "execution_count": 23,
   "id": "e927d7ca",
   "metadata": {},
   "outputs": [
    {
     "data": {
      "text/plain": [
       "LinearRegression()"
      ]
     },
     "execution_count": 23,
     "metadata": {},
     "output_type": "execute_result"
    }
   ],
   "source": [
    "model.fit(x,y)"
   ]
  },
  {
   "cell_type": "markdown",
   "id": "839c0472",
   "metadata": {},
   "source": [
    "use *.intercept_ to find beta_0/y-intercept"
   ]
  },
  {
   "cell_type": "code",
   "execution_count": 24,
   "id": "f3b2ab83",
   "metadata": {},
   "outputs": [
    {
     "data": {
      "text/plain": [
       "-4.998577085553202"
      ]
     },
     "execution_count": 24,
     "metadata": {},
     "output_type": "execute_result"
    }
   ],
   "source": [
    "model.intercept_"
   ]
  },
  {
   "cell_type": "markdown",
   "id": "4ace664e",
   "metadata": {},
   "source": [
    "use *.coef_ to find slope/beta_1"
   ]
  },
  {
   "cell_type": "code",
   "execution_count": 25,
   "id": "9cb86950",
   "metadata": {},
   "outputs": [
    {
     "data": {
      "text/plain": [
       "array([2.02720881])"
      ]
     },
     "execution_count": 25,
     "metadata": {},
     "output_type": "execute_result"
    }
   ],
   "source": [
    "model.coef_"
   ]
  },
  {
   "cell_type": "markdown",
   "id": "34862e63",
   "metadata": {},
   "source": [
    "### Step 4 - Visually inspect the fit"
   ]
  },
  {
   "cell_type": "code",
   "execution_count": 26,
   "id": "b5aa5733",
   "metadata": {},
   "outputs": [],
   "source": [
    "yfit = model.predict(x)"
   ]
  },
  {
   "cell_type": "code",
   "execution_count": 27,
   "id": "c0fac1a2",
   "metadata": {},
   "outputs": [
    {
     "name": "stdout",
     "output_type": "stream",
     "text": [
      "Shape of yfit: (50,)\n",
      "[ 3.45532973  9.60390451 -4.99625847  1.13033546 -2.02352874 -3.12668096\n",
      " -1.22269367  2.00666042  3.04472811  5.92436322  3.49937104  8.892253\n",
      " -0.85390307 12.80269695 -4.44337338  8.59319935  3.46106263  6.32723234\n",
      " -2.1526407  -0.98264625 11.23418736 14.63010688  1.35518547  9.03624798\n",
      " 12.76766102 13.13696802 -3.27455334 -4.20685508 -1.55575986 12.80320511\n",
      " -3.00488141  3.53815379 14.41984386  5.80979655  9.02721673  1.39758358\n",
      "  8.9182302  11.92102807 -4.62783552 10.20841456 15.04770203 10.16830298\n",
      "  0.68660823 11.001763   -2.90597039  4.08115994 13.420551    0.9535948\n",
      "  0.83522993 -2.36262642]\n"
     ]
    }
   ],
   "source": [
    "print(\"Shape of yfit: {}\".format(yfit.shape))\n",
    "print(yfit)"
   ]
  },
  {
   "cell_type": "code",
   "execution_count": 28,
   "id": "596a022f",
   "metadata": {},
   "outputs": [
    {
     "data": {
      "text/plain": [
       "array([4.17022005])"
      ]
     },
     "execution_count": 28,
     "metadata": {},
     "output_type": "execute_result"
    }
   ],
   "source": [
    "x[0]"
   ]
  },
  {
   "cell_type": "code",
   "execution_count": 29,
   "id": "38ad6e1e",
   "metadata": {},
   "outputs": [
    {
     "data": {
      "text/plain": [
       "2.653267393931881"
      ]
     },
     "execution_count": 29,
     "metadata": {},
     "output_type": "execute_result"
    }
   ],
   "source": [
    "y[0]"
   ]
  },
  {
   "cell_type": "code",
   "execution_count": 30,
   "id": "700fc9ba",
   "metadata": {},
   "outputs": [
    {
     "data": {
      "text/plain": [
       "array([3.45532973])"
      ]
     },
     "execution_count": 30,
     "metadata": {},
     "output_type": "execute_result"
    }
   ],
   "source": [
    "model.intercept_ + model.coef_ * x[0]"
   ]
  },
  {
   "cell_type": "markdown",
   "id": "72b8d7bc",
   "metadata": {},
   "source": [
    "### Let's plot the data "
   ]
  },
  {
   "cell_type": "code",
   "execution_count": 31,
   "id": "bfe0a9f7",
   "metadata": {},
   "outputs": [
    {
     "data": {
      "image/png": "[encoded data removed]",
      "text/plain": [
       "<Figure size 432x288 with 1 Axes>"
      ]
     },
     "metadata": {},
     "output_type": "display_data"
    }
   ],
   "source": [
    "plt.scatter(x, y);"
   ]
  },
  {
   "cell_type": "code",
   "execution_count": 32,
   "id": "98c225b7",
   "metadata": {
    "scrolled": true
   },
   "outputs": [
    {
     "data": {
      "image/png": "[encoded data removed]",
      "text/plain": [
       "<Figure size 432x288 with 1 Axes>"
      ]
     },
     "metadata": {},
     "output_type": "display_data"
    }
   ],
   "source": [
    "plt.plot(x, yfit, color='red');"
   ]
  },
  {
   "cell_type": "markdown",
   "id": "da001ff0",
   "metadata": {},
   "source": [
    "by joining both the linear line and our graph, we will get result as below "
   ]
  },
  {
   "cell_type": "code",
   "execution_count": 33,
   "id": "c3e1c0f0",
   "metadata": {
    "scrolled": true
   },
   "outputs": [
    {
     "data": {
      "image/png": "[encoded data removed]",
      "text/plain": [
       "<Figure size 432x288 with 1 Axes>"
      ]
     },
     "metadata": {},
     "output_type": "display_data"
    }
   ],
   "source": [
    "plt.scatter(x, y);\n",
    "plt.plot(x, yfit, color='red');"
   ]
  },
  {
   "cell_type": "code",
   "execution_count": 34,
   "id": "dc1a653a",
   "metadata": {},
   "outputs": [
    {
     "name": "stdout",
     "output_type": "stream",
     "text": [
      "Model slope (B1):     [2.02720881]\n",
      "Model intercept (B0): -4.998577085553202\n"
     ]
    }
   ],
   "source": [
    "print(\"Model slope (B1):    \", model.coef_)\n",
    "print(\"Model intercept (B0):\", model.intercept_)"
   ]
  },
  {
   "cell_type": "markdown",
   "id": "b98d44f7",
   "metadata": {},
   "source": [
    "### How well does the model fit the data?\n",
    "The quality of a linear regression fit is most commonly described with the **mean squared error (MSE)**, which computes the average of the squared differences between observed and predicted target values:\n",
    "\n",
    "$$MSE = \\frac{1}{N} \\cdot \\sum_i^N (y_i - \\hat y_i)^2$$\n",
    "\n",
    "where:\n",
    "- $y_i$ represents the observed target value for $x_i$\n",
    "- $\\hat y_i$ represents the predicted target value for $x_i$ as per the learned parameters.\n",
    "- $N$ is equal to the number of observations\n",
    "\n",
    "We can easily compute the mean squared error with scikit-learn;"
   ]
  },
  {
   "cell_type": "code",
   "execution_count": 35,
   "id": "828466af",
   "metadata": {},
   "outputs": [],
   "source": [
    "from sklearn.metrics import mean_squared_error"
   ]
  },
  {
   "cell_type": "code",
   "execution_count": 36,
   "id": "6891cfae",
   "metadata": {},
   "outputs": [
    {
     "data": {
      "text/plain": [
       "0.818338857026618"
      ]
     },
     "execution_count": 36,
     "metadata": {},
     "output_type": "execute_result"
    }
   ],
   "source": [
    "\n",
    "mean_squared_error(y_true=y, y_pred=yfit)"
   ]
  },
  {
   "cell_type": "markdown",
   "id": "8577e2f2",
   "metadata": {},
   "source": [
    "#### Another statistical measure is the **coefficient of determination** (also referred to as $R^2$ or R-Squared). $R^2$ describes the ratio of the mean squared error of the model compared to the mean squared error of the **null model**, which is simply a horizontal line through the mean of the observed target variables ($\\beta_0 = mean(y_1, ..., y_N)$ and $\\beta_1 = 0$)\"\n",
    "\n",
    "$$R^2 = 1 - \\frac{MSE_{model}}{MSE_{null}}$$\n",
    "\n",
    "where:\n",
    "- $MSE_{model} = \\frac{1}{N} \\cdot \\sum_i^N (y_i - \\hat y_i)^2$ (as above)\n",
    "- $MSE_{null} = \\frac{1}{N} \\cdot \\sum_i^N (y_i - \\bar y)^2$\n",
    "- and $\\bar y = mean(y_1, ..., y_N)$ is the mean of all observed target values.\n",
    "\n",
    "In other words, $R^2$ is one minus the the ratio of the blue area to the red area.\n",
    "\n",
    "<img src=\"../images/Coefficient_of_Determination.svg\" />\n",
    "\n",
    "Another way of phrasing this is that $R^2$ is the fraction of variance in the data that can be explained by the model. It (usually) lies between 0 and 1, and higher is better because it means that more variance is explained by the model. The remaining variance in data is due to complex relationships between features and target values not considered by the model and random noise.\n",
    "\n",
    "Note that a perfect $R^2 = 1$ should be regarded with suspicion. This means that:\n",
    "\n",
    "- The model fully describes the relationship between features and target values\n",
    "- There is no randomness in the data\n",
    "\n",
    "both of which are extremely unlikely in any real-life scenario.\n",
    "\n",
    "Scikit-Learn also lets us compute the $R^2$ score:"
   ]
  },
  {
   "cell_type": "code",
   "execution_count": 37,
   "id": "c8ff7ed6",
   "metadata": {},
   "outputs": [],
   "source": [
    "from sklearn.metrics import r2_score"
   ]
  },
  {
   "cell_type": "code",
   "execution_count": 38,
   "id": "500a6e73",
   "metadata": {},
   "outputs": [
    {
     "data": {
      "text/plain": [
       "0.9790800609430612"
      ]
     },
     "execution_count": 38,
     "metadata": {},
     "output_type": "execute_result"
    }
   ],
   "source": [
    "r2_score(y_true=y, y_pred=yfit)"
   ]
  },
  {
   "cell_type": "markdown",
   "id": "a1018f8e",
   "metadata": {},
   "source": [
    "### Exercise 1 - Create your first Linear Regression model\n",
    "\n",
    "Given the following X and y, train a linear regression model and show the results.\n",
    "\n",
    "- Create and fit the model using intercept=True\n",
    "- Show the trained parameters (intercept and slope)\n",
    "- Show the MSE and R2 for the predicted target values $\\hat{y_i}$\n",
    "- Plot the original datapoints and the regression line\n",
    "- Repeat the previous steps with intercept=False\n",
    "\n",
    "The data:"
   ]
  },
  {
   "cell_type": "code",
   "execution_count": 39,
   "id": "da5a81e3",
   "metadata": {},
   "outputs": [],
   "source": [
    "rng = np.random.RandomState(1)\n",
    "X_1 = 100 * rng.rand(50)\n",
    "Y_1 = 26 * X_1 - 722 + rng.randn(50)*200"
   ]
  },
  {
   "cell_type": "code",
   "execution_count": 40,
   "id": "d1c1ad58",
   "metadata": {},
   "outputs": [],
   "source": [
    "# tukar dimension dulu\n",
    "X_1 = X_1[:,np.newaxis]"
   ]
  },
  {
   "cell_type": "code",
   "execution_count": 41,
   "id": "f8d0a2b6",
   "metadata": {},
   "outputs": [
    {
     "data": {
      "text/plain": [
       "LinearRegression()"
      ]
     },
     "execution_count": 41,
     "metadata": {},
     "output_type": "execute_result"
    }
   ],
   "source": [
    "#Create and fit the model using intercept=True\n",
    "model_1 = LinearRegression(fit_intercept=True)\n",
    "model_1.fit(X_1,Y_1)\n",
    "model_1"
   ]
  },
  {
   "cell_type": "code",
   "execution_count": 42,
   "id": "2fa1fe1e",
   "metadata": {},
   "outputs": [
    {
     "name": "stdout",
     "output_type": "stream",
     "text": [
      "the slope is [26.54417621]\n",
      "the y-intercept is -721.7154171106408\n"
     ]
    }
   ],
   "source": [
    "#Show the trained parameters (intercept and slope)\n",
    "print(\"the slope is {}\".format(model_1.coef_))\n",
    "print(\"the y-intercept is {}\". format(model_1.intercept_))"
   ]
  },
  {
   "cell_type": "code",
   "execution_count": 45,
   "id": "a9c56422",
   "metadata": {},
   "outputs": [
    {
     "data": {
      "text/plain": [
       "<matplotlib.collections.PathCollection at 0x27568e70a30>"
      ]
     },
     "execution_count": 45,
     "metadata": {},
     "output_type": "execute_result"
    },
    {
     "data": {
      "image/png": "[encoded data removed]",
      "text/plain": [
       "<Figure size 432x288 with 1 Axes>"
      ]
     },
     "metadata": {},
     "output_type": "display_data"
    }
   ],
   "source": [
    "plt.scatter(X_1,Y_1)"
   ]
  },
  {
   "cell_type": "code",
   "execution_count": 51,
   "id": "09e4220c",
   "metadata": {},
   "outputs": [
    {
     "name": "stdout",
     "output_type": "stream",
     "text": [
      "MSE = 32733.554281064695\n",
      "R2 = 0.9525174944395889\n"
     ]
    }
   ],
   "source": [
    "yfit_1 = model_1.predict(X_1)\n",
    "#Show the MSE and R2 for the predicted target values  𝑦𝑖^\n",
    "MSE = mean_squared_error(y_true=Y_1, y_pred=yfit_1)\n",
    "R2 = r2_score(y_true=Y_1, y_pred=yfit_1)\n",
    "\n",
    "print(\"MSE = {}\".format(MSE))\n",
    "print(\"R2 = {}\".format(R2))"
   ]
  },
  {
   "cell_type": "code",
   "execution_count": 55,
   "id": "d6e19ced",
   "metadata": {
    "scrolled": true
   },
   "outputs": [
    {
     "data": {
      "text/plain": [
       "[<matplotlib.lines.Line2D at 0x2756901e220>]"
      ]
     },
     "execution_count": 55,
     "metadata": {},
     "output_type": "execute_result"
    },
    {
     "data": {
      "image/png": "[encoded data removed]",
      "text/plain": [
       "<Figure size 432x288 with 1 Axes>"
      ]
     },
     "metadata": {},
     "output_type": "display_data"
    }
   ],
   "source": [
    "#Plot the original datapoints and the regression line\n",
    "plt.scatter(X_1,Y_1)\n",
    "plt.plot(X_1,yfit_1, c='red')"
   ]
  },
  {
   "cell_type": "markdown",
   "id": "068e51f6",
   "metadata": {},
   "source": [
    "### Linear Regression code in one cell "
   ]
  },
  {
   "cell_type": "code",
   "execution_count": 56,
   "id": "da027659",
   "metadata": {},
   "outputs": [
    {
     "name": "stdout",
     "output_type": "stream",
     "text": [
      "LinearRegression()\n",
      "the slope is [26.54417621]\n",
      "the y-intercept is -721.7154171106408\n",
      "MSE = 32733.554281064695\n",
      "R2 = 0.9525174944395889\n"
     ]
    },
    {
     "data": {
      "text/plain": [
       "[<matplotlib.lines.Line2D at 0x2756a0614c0>]"
      ]
     },
     "execution_count": 56,
     "metadata": {},
     "output_type": "execute_result"
    },
    {
     "data": {
      "image/png": "[encoded data removed]",
      "text/plain": [
       "<Figure size 432x288 with 1 Axes>"
      ]
     },
     "metadata": {},
     "output_type": "display_data"
    }
   ],
   "source": [
    "# Code to fit in one cell\n",
    "rng = np.random.RandomState(1)\n",
    "X_2 = 100 * rng.rand(50)\n",
    "Y_2 = 26 * X_2 - 722 + rng.randn(50)*200\n",
    "\n",
    "# tukar dimension dulu\n",
    "X_2 = X_2[:,np.newaxis]\n",
    "\n",
    "#Create and fit the model using intercept=True\n",
    "model_2 = LinearRegression(fit_intercept=True)\n",
    "model_2.fit(X_2,Y_2)\n",
    "print(model_2)\n",
    "\n",
    "#Show the trained parameters (intercept and slope)\n",
    "print(\"the slope is {}\".format(model_2.coef_))\n",
    "print(\"the y-intercept is {}\". format(model_2.intercept_))\n",
    "\n",
    "yfit_2 = model_2.predict(X_2)\n",
    "\n",
    "#Show the MSE and R2 for the predicted target values  𝑦𝑖^\n",
    "print(\"MSE = {}\".format(mean_squared_error(y_true=Y_2, y_pred=yfit_2)))\n",
    "print(\"R2 = {}\".format(r2_score(y_true=Y_2, y_pred=yfit_2)))\n",
    "\n",
    "#Plot the original datapoints and the regression line\n",
    "plt.scatter(X_2,Y_2)\n",
    "\n",
    "plt.plot(X_2,yfit_2, c='red')"
   ]
  },
  {
   "cell_type": "markdown",
   "id": "82c43006",
   "metadata": {},
   "source": [
    "#  example"
   ]
  },
  {
   "cell_type": "code",
   "execution_count": 57,
   "id": "d6c8f0f5",
   "metadata": {
    "scrolled": true
   },
   "outputs": [
    {
     "name": "stdout",
     "output_type": "stream",
     "text": [
      "LinearRegression()\n",
      "the slope is [1.96741192]\n",
      "the y-intercept is -4.919203607672241\n",
      "MSE = 1.2866375633242018\n",
      "R2 = 0.9276472543676397\n"
     ]
    },
    {
     "data": {
      "text/plain": [
       "[<matplotlib.lines.Line2D at 0x2756a0cd6d0>]"
      ]
     },
     "execution_count": 57,
     "metadata": {},
     "output_type": "execute_result"
    },
    {
     "data": {
      "image/png": "[encoded data removed]",
      "text/plain": [
       "<Figure size 432x288 with 1 Axes>"
      ]
     },
     "metadata": {},
     "output_type": "display_data"
    }
   ],
   "source": [
    "# Create random data\n",
    "rng = np.random.RandomState(1)\n",
    "X = 10 * rng.rand(10)\n",
    "Y = -5 + 2 * X + rng.randn(10)\n",
    "plt.scatter(X, Y);\n",
    "\n",
    "# tukar dimension x dulu\n",
    "X = X[:,np.newaxis]\n",
    "\n",
    "#Create and fit the model using intercept=True\n",
    "modell = LinearRegression(fit_intercept=True)\n",
    "modell.fit(X,Y)\n",
    "print(modell)\n",
    "\n",
    "#Show the trained parameters (intercept and slope)\n",
    "print(\"the slope is {}\".format(modell.coef_))\n",
    "print(\"the y-intercept is {}\". format(modell.intercept_))\n",
    "\n",
    "yfit = modell.predict(X)\n",
    "\n",
    "#Show the MSE and R2 for the predicted target values  𝑦𝑖^\n",
    "print(\"MSE = {}\".format(mean_squared_error(y_true=Y, y_pred=yfit)))\n",
    "print(\"R2 = {}\".format(r2_score(y_true=Y, y_pred=yfit)))\n",
    "\n",
    "#Plot the original datapoints and the regression line\n",
    "plt.scatter(X,Y)\n",
    "plt.plot(X,yfit, c='red')"
   ]
  },
  {
   "cell_type": "code",
   "execution_count": 12,
   "id": "088dd36e",
   "metadata": {},
   "outputs": [
    {
     "data": {
      "text/plain": [
       "array([4.17022005])"
      ]
     },
     "execution_count": 12,
     "metadata": {},
     "output_type": "execute_result"
    }
   ],
   "source": [
    "X[0]"
   ]
  },
  {
   "cell_type": "code",
   "execution_count": 13,
   "id": "e4a8b7c8",
   "metadata": {},
   "outputs": [
    {
     "data": {
      "text/plain": [
       "5.08525185826796"
      ]
     },
     "execution_count": 13,
     "metadata": {},
     "output_type": "execute_result"
    }
   ],
   "source": [
    "Y[0]"
   ]
  },
  {
   "cell_type": "code",
   "execution_count": 24,
   "id": "aec62df7",
   "metadata": {},
   "outputs": [
    {
     "data": {
      "text/plain": [
       "3.2853370231613948"
      ]
     },
     "execution_count": 24,
     "metadata": {},
     "output_type": "execute_result"
    }
   ],
   "source": [
    "yfit[0]"
   ]
  },
  {
   "cell_type": "markdown",
   "id": "7de4323a",
   "metadata": {},
   "source": [
    "y=mx + c, replace the x with value to get y"
   ]
  },
  {
   "cell_type": "code",
   "execution_count": 31,
   "id": "186ae38c",
   "metadata": {},
   "outputs": [
    {
     "data": {
      "text/plain": [
       "array([3.2849041])"
      ]
     },
     "execution_count": 31,
     "metadata": {},
     "output_type": "execute_result"
    }
   ],
   "source": [
    "#y =  c + m * x\n",
    "modell.intercept_ + modell.coef_ * 4.170"
   ]
  }
 ],
 "metadata": {
  "kernelspec": {
   "display_name": "Python 3 (ipykernel)",
   "language": "python",
   "name": "python3"
  },
  "language_info": {
   "codemirror_mode": {
    "name": "ipython",
    "version": 3
   },
   "file_extension": ".py",
   "mimetype": "text/x-python",
   "name": "python",
   "nbconvert_exporter": "python",
   "pygments_lexer": "ipython3",
   "version": "3.8.11"
  }
 },
 "nbformat": 4,
 "nbformat_minor": 5
}

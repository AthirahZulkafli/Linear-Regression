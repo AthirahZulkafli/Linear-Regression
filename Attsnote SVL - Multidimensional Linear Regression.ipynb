{
 "cells": [
  {
   "cell_type": "markdown",
   "id": "10833be1",
   "metadata": {
    "tags": []
   },
   "source": [
    "# Supervised Machine Learning by Athirah Z."
   ]
  },
  {
   "cell_type": "markdown",
   "id": "40551051",
   "metadata": {},
   "source": [
    "## Multidimensional linear regression\n",
    "The ``LinearRegression`` estimator is much more capable than this, however—in addition to simple straight-line fits, it can also handle multidimensional linear models of the form\n",
    "\n",
    "$$y=\\beta_0+\\beta_1x_1+\\beta_2x_2+⋯+\\beta_nx_n$$\n",
    "\n",
    "where there are multiple $x$ values. Geometrically, this is akin to fitting a plane to points in three dimensions, or fitting a hyper-plane to points in higher dimensions.\n",
    "\n",
    "The multidimensional nature of such regressions makes them more difficult to visualize. Nonetheless, the general steps for fitting a model to data outlined for the one-dimensional case above remain the same."
   ]
  },
  {
   "cell_type": "markdown",
   "id": "22f8a575",
   "metadata": {},
   "source": [
    "$$y=\\beta_0+\\beta_1x_1+\\beta_2x_2+⋯+\\beta_nx_n$$\n",
    "Example for below\n",
    "$$y=c+1.5x_1-2x_2+x_n$$\n"
   ]
  },
  {
   "cell_type": "code",
   "execution_count": 32,
   "id": "dbf8ca58",
   "metadata": {},
   "outputs": [
    {
     "name": "stdout",
     "output_type": "stream",
     "text": [
      "Intercept:    0.6592184003314936\n",
      "Coefficients: [ 1.50724916 -2.00572194  1.0024234 ]\n"
     ]
    }
   ],
   "source": [
    "rng = np.random.RandomState(1)\n",
    "X = 10 * rng.rand(100, 3)\n",
    "# b0 = 0.5, b1 = 1.5, b2 = -2, b3 = 1\n",
    "y = 0.5 + 1.5 * X[:, 0] - 2 * X[:, 1] + 1 * X[:, 2] + np.random.randn(100)\n",
    "\n",
    "#create and fit\n",
    "model = LinearRegression()\n",
    "model.fit(X, y)\n",
    "yfit=model.predict(X)\n",
    "\n",
    "print(\"Intercept:    {}\".format(model.intercept_))\n",
    "print(\"Coefficients: {}\".format(model.coef_))"
   ]
  },
  {
   "cell_type": "code",
   "execution_count": 33,
   "id": "90b89837",
   "metadata": {
    "scrolled": true
   },
   "outputs": [
    {
     "data": {
      "text/plain": [
       "(100, 3)"
      ]
     },
     "execution_count": 33,
     "metadata": {},
     "output_type": "execute_result"
    }
   ],
   "source": [
    "X.shape"
   ]
  },
  {
   "cell_type": "code",
   "execution_count": 36,
   "id": "cf49a9ff",
   "metadata": {
    "scrolled": true
   },
   "outputs": [
    {
     "name": "stdout",
     "output_type": "stream",
     "text": [
      "Intercept:    0.6592184003314936\n",
      "Coefficients: [ 1.50724916 -2.00572194  1.0024234 ]\n",
      "MSE: 0.949941995029337\n",
      "R-squares: 0.9857414310934378\n"
     ]
    }
   ],
   "source": [
    "print(\"Intercept:    {}\".format(model.intercept_))\n",
    "print(\"Coefficients: {}\".format(model.coef_))\n",
    "print(\"MSE: {}\". format(mean_squared_error(y,yfit)))\n",
    "print(\"R-squares: {}\". format(r2_score(y,yfit)))"
   ]
  },
  {
   "cell_type": "code",
   "execution_count": 37,
   "id": "458b879e",
   "metadata": {},
   "outputs": [
    {
     "name": "stdout",
     "output_type": "stream",
     "text": [
      "Coefficients: 1.5072491617476702\n"
     ]
    }
   ],
   "source": [
    "print(\"Coefficients: {}\".format(model.coef_[0]))"
   ]
  },
  {
   "cell_type": "markdown",
   "id": "1584a089",
   "metadata": {},
   "source": [
    "### Exercise - Effects of Advertising on Sales\n",
    "\n",
    "Imagine that your company wants to increase sales on a certain product. You cannot increase sales directly, but you can adjust advertising.\n",
    "\n",
    "The advertising dataset in the file `data/advertising.csv` contains information on money spent on advertising via various channels as well as revenue for a product. Each row represents a separate time interval, e.g. a week's worth of sales. For the sake of simplicity we'll ignore confounding factors like seasonality.\n",
    "\n",
    "The features are:\n",
    "- TV: advertising dollars spent on TV\n",
    "- Radio: advertising dollars spent on Radio\n",
    "- Newspaper: advertising dollars spent on Newspaper\n",
    "\n",
    "and the response is:\n",
    "- Sales: sales of a single product in a given market\n",
    "\n",
    "All numbers are in thousands of dollars, e.g. 14.4 is equivalent to \\$14,400."
   ]
  },
  {
   "cell_type": "code",
   "execution_count": 41,
   "id": "d4b54506",
   "metadata": {},
   "outputs": [
    {
     "data": {
      "text/html": [
       "<div>\n",
       "<style scoped>\n",
       "    .dataframe tbody tr th:only-of-type {\n",
       "        vertical-align: middle;\n",
       "    }\n",
       "\n",
       "    .dataframe tbody tr th {\n",
       "        vertical-align: top;\n",
       "    }\n",
       "\n",
       "    .dataframe thead th {\n",
       "        text-align: right;\n",
       "    }\n",
       "</style>\n",
       "<table border=\"1\" class=\"dataframe\">\n",
       "  <thead>\n",
       "    <tr style=\"text-align: right;\">\n",
       "      <th></th>\n",
       "      <th>TV</th>\n",
       "      <th>radio</th>\n",
       "      <th>newspaper</th>\n",
       "      <th>sales</th>\n",
       "    </tr>\n",
       "  </thead>\n",
       "  <tbody>\n",
       "    <tr>\n",
       "      <th>1</th>\n",
       "      <td>230.1</td>\n",
       "      <td>37.8</td>\n",
       "      <td>69.2</td>\n",
       "      <td>22.1</td>\n",
       "    </tr>\n",
       "    <tr>\n",
       "      <th>2</th>\n",
       "      <td>44.5</td>\n",
       "      <td>39.3</td>\n",
       "      <td>45.1</td>\n",
       "      <td>10.4</td>\n",
       "    </tr>\n",
       "    <tr>\n",
       "      <th>3</th>\n",
       "      <td>17.2</td>\n",
       "      <td>45.9</td>\n",
       "      <td>69.3</td>\n",
       "      <td>9.3</td>\n",
       "    </tr>\n",
       "    <tr>\n",
       "      <th>4</th>\n",
       "      <td>151.5</td>\n",
       "      <td>41.3</td>\n",
       "      <td>58.5</td>\n",
       "      <td>18.5</td>\n",
       "    </tr>\n",
       "    <tr>\n",
       "      <th>5</th>\n",
       "      <td>180.8</td>\n",
       "      <td>10.8</td>\n",
       "      <td>58.4</td>\n",
       "      <td>12.9</td>\n",
       "    </tr>\n",
       "  </tbody>\n",
       "</table>\n",
       "</div>"
      ],
      "text/plain": [
       "      TV  radio  newspaper  sales\n",
       "1  230.1   37.8       69.2   22.1\n",
       "2   44.5   39.3       45.1   10.4\n",
       "3   17.2   45.9       69.3    9.3\n",
       "4  151.5   41.3       58.5   18.5\n",
       "5  180.8   10.8       58.4   12.9"
      ]
     },
     "execution_count": 41,
     "metadata": {},
     "output_type": "execute_result"
    }
   ],
   "source": [
    "sales = pd.read_csv(\"../data/advertising.csv\", index_col=0)\n",
    "sales.head()"
   ]
  },
  {
   "cell_type": "code",
   "execution_count": 70,
   "id": "2be2822c",
   "metadata": {},
   "outputs": [
    {
     "name": "stderr",
     "output_type": "stream",
     "text": [
      "*c* argument looks like a single numeric RGB or RGBA sequence, which should be avoided as value-mapping will have precedence in case its length matches with *x* & *y*.  Please use the *color* keyword-argument or provide a 2-D array with a single row if you intend to specify the same RGB or RGBA value for all points.\n"
     ]
    },
    {
     "name": "stdout",
     "output_type": "stream",
     "text": [
      "TV ad intercept: 7.032593549127693\n",
      "TV ad slope:     0.047536640433019764\n",
      "R2 for TV:       0.611875050850071\n"
     ]
    },
    {
     "data": {
      "image/png": "[encoded data removed]",
      "text/plain": [
       "<Figure size 432x288 with 1 Axes>"
      ]
     },
     "metadata": {},
     "output_type": "display_data"
    }
   ],
   "source": [
    "model_tv = LinearRegression().fit(sales[[\"TV\"]], sales[\"sales\"])\n",
    "print(\"TV ad intercept: {}\".format(model_tv.intercept_))\n",
    "print(\"TV ad slope:     {}\".format(model_tv.coef_[0]))\n",
    "\n",
    "r2score_tv = r2_score(sales[\"sales\"], model_tv.predict(sales[[\"TV\"]]))\n",
    "print(\"R2 for TV:       {}\".format(r2score_tv))\n",
    "\n",
    "sales.plot(x=\"TV\", y=\"sales\", kind=\"scatter\")\n",
    "plt.plot(sales[[\"TV\"]], model_tv.predict(sales[[\"TV\"]]), c='red');"
   ]
  },
  {
   "cell_type": "code",
   "execution_count": 71,
   "id": "f058caea",
   "metadata": {
    "scrolled": true
   },
   "outputs": [
    {
     "name": "stderr",
     "output_type": "stream",
     "text": [
      "*c* argument looks like a single numeric RGB or RGBA sequence, which should be avoided as value-mapping will have precedence in case its length matches with *x* & *y*.  Please use the *color* keyword-argument or provide a 2-D array with a single row if you intend to specify the same RGB or RGBA value for all points.\n"
     ]
    },
    {
     "name": "stdout",
     "output_type": "stream",
     "text": [
      "Radio ad intercept: 9.311638095158283\n",
      "Radio ad slope:     [0.20249578]\n",
      "R2 for Radio:       0.33203245544529525\n"
     ]
    },
    {
     "data": {
      "image/png": "[encoded data removed]",
      "text/plain": [
       "<Figure size 432x288 with 1 Axes>"
      ]
     },
     "metadata": {},
     "output_type": "display_data"
    }
   ],
   "source": [
    "model_radio = LinearRegression().fit(sales[[\"radio\"]], sales[\"sales\"])\n",
    "r2score_radio = r2_score(sales[\"sales\"],model_radio.predict(sales[[\"radio\"]]))\n",
    "\n",
    "sales.plot(\"radio\", \"sales\", \"scatter\")\n",
    "plt.plot(sales[[\"radio\"]], model_radio.predict(sales[[\"radio\"]]), 'red');\n",
    "\n",
    "print(\"Radio ad intercept: {}\".format(model_radio.intercept_))\n",
    "print(\"Radio ad slope:     {}\".format(model_radio.coef_))\n",
    "print(\"R2 for Radio:       {}\".format(r2score_radio))"
   ]
  },
  {
   "cell_type": "code",
   "execution_count": 72,
   "id": "4f3935ef",
   "metadata": {},
   "outputs": [
    {
     "name": "stderr",
     "output_type": "stream",
     "text": [
      "*c* argument looks like a single numeric RGB or RGBA sequence, which should be avoided as value-mapping will have precedence in case its length matches with *x* & *y*.  Please use the *color* keyword-argument or provide a 2-D array with a single row if you intend to specify the same RGB or RGBA value for all points.\n"
     ]
    },
    {
     "name": "stdout",
     "output_type": "stream",
     "text": [
      "Newspaper ad intercept: 12.35140706927816\n",
      "Newspaper ad slope:     [0.0546931]\n",
      "R2 for newspaper:       0.05212044544430516\n"
     ]
    },
    {
     "data": {
      "image/png": "[encoded data removed]",
      "text/plain": [
       "<Figure size 432x288 with 1 Axes>"
      ]
     },
     "metadata": {},
     "output_type": "display_data"
    }
   ],
   "source": [
    "model_np = LinearRegression().fit(sales[[\"newspaper\"]], sales[\"sales\"])\n",
    "r2score_np = r2_score(sales[\"sales\"],model_np.predict(sales[[\"newspaper\"]]))\n",
    "\n",
    "sales.plot(\"newspaper\", \"sales\", \"scatter\")\n",
    "plt.plot(sales[[\"newspaper\"]], model_np.predict(sales[[\"newspaper\"]]), 'red');\n",
    "\n",
    "print(\"Newspaper ad intercept: {}\".format(model_np.intercept_))\n",
    "print(\"Newspaper ad slope:     {}\".format(model_np.coef_))\n",
    "print(\"R2 for newspaper:       {}\".format(r2score_np))"
   ]
  },
  {
   "cell_type": "code",
   "execution_count": null,
   "id": "cac9427a",
   "metadata": {},
   "outputs": [],
   "source": [
    "# you can do this too / alternative\n",
    "\n",
    "X=sales[[\"TV\"]]\n",
    "Y=sales[\"sales\"]\n",
    "\n",
    "model_tv = LinearRegression()\n",
    "model_tv.fit(X,Y)\n",
    "print(\"TV ad intercept: {}\".format(model_tv.intercept_))\n",
    "print(\"TV ad slope:     {}\".format(model_tv.coef_))\n",
    "\n",
    "\n",
    "yfit = model_tv.predict(X)\n",
    "r2score_tv = r2_score(Y,yfit)\n",
    "print(\"R2 for TV:       {}\".format(r2score_tv))\n",
    "\n",
    "plt.scatter(X,Y)\n",
    "plt.xlabel(\"TV ad cost\")\n",
    "plt.ylabel(\"Sales\");\n",
    "plt.plot(X, yfit, c='red');"
   ]
  },
  {
   "cell_type": "markdown",
   "id": "80008957",
   "metadata": {},
   "source": [
    "**Discussion questions:**\n",
    "\n",
    "#### Which ad types have the strongest and weakest influence on sales?\n",
    "\n",
    "The R2 score indicates how good a fit is and therefore how strong a feature's influence is.\n",
    "A low R2 score means that the model is extremely unreliable and a large fraction of the variation\n",
    "in the target values (i.e. sales) cannot be explained by the model. That means even if we \n",
    "increased the budget for newspaper ads, we can't be sure that would actually lead to an \n",
    "increase in sales. A look at the plot above shows that there is virtually no correlation between \n",
    "sales and newspaper ad budget.\n",
    "\n",
    "On the other hand, the budget for TV predict sales quite accurately, i.e. the model trained only on \n",
    "the TV ad budget explains a large fraction of the variance in the sales numbers. We can be reasonably\n",
    "certain that an increase in the TV ad budget will lead to an increase in sales.\n",
    "\n",
    "\n",
    "#### For each ad type, how much is the expected sales given an additional budget of 10 thousand dollar for that ad type?\n",
    "\n",
    "If the target value, sales, is expressed as\n",
    "sales = intercept_ + coef_ * ad_budget\n",
    "then the slope (coef_) indicates how much the sales value changes when ad_budget changes.\n",
    "The increase in expected sales can be determined via\n",
    "\n",
    "  sales = intercept_ + coef_ * (ad_budget + 10)\n",
    "  \n",
    "        = intercept_ + coef_ * ad_budget + 10 * coef_\n",
    "        \n",
    "        \n",
    "So that an increase of 10k in an advertisement's budget leads to an increase of 10 * coef_ in sales"
   ]
  },
  {
   "cell_type": "code",
   "execution_count": 73,
   "id": "b4d32583",
   "metadata": {},
   "outputs": [],
   "source": [
    "sale_pred1 = model_tv.intercept_ +  model_tv.coef_*X\n",
    "sale_pred2 = sale_pred1 + model_tv.coef_*10"
   ]
  },
  {
   "cell_type": "code",
   "execution_count": 74,
   "id": "2b0dc98f",
   "metadata": {},
   "outputs": [
    {
     "data": {
      "text/plain": [
       "array([0.4753664])"
      ]
     },
     "execution_count": 74,
     "metadata": {},
     "output_type": "execute_result"
    }
   ],
   "source": [
    "# for TV\n",
    "model_tv.coef_ * (10)  #increase"
   ]
  },
  {
   "cell_type": "code",
   "execution_count": 75,
   "id": "8560e789",
   "metadata": {},
   "outputs": [
    {
     "data": {
      "text/plain": [
       "array([2.02495783])"
      ]
     },
     "execution_count": 75,
     "metadata": {},
     "output_type": "execute_result"
    }
   ],
   "source": [
    "# for radio\n",
    "model_radio.coef_ * (10)       # increase"
   ]
  },
  {
   "cell_type": "code",
   "execution_count": 77,
   "id": "cece3597",
   "metadata": {},
   "outputs": [
    {
     "data": {
      "text/plain": [
       "array([0.54693098])"
      ]
     },
     "execution_count": 77,
     "metadata": {},
     "output_type": "execute_result"
    }
   ],
   "source": [
    "# for newspaper\n",
    "model_np.coef_ * (10)       # increase"
   ]
  },
  {
   "cell_type": "markdown",
   "id": "21884b9d",
   "metadata": {},
   "source": [
    "Let's see if we can improve the model performance with a multiple linear regression\n",
    "- Train a multiple linear regression model on all ad types simultaneously. How well does it perform?\n",
    "- How do the coefficients change versus the simple linear regression?"
   ]
  },
  {
   "cell_type": "code",
   "execution_count": 79,
   "id": "98b04d15",
   "metadata": {},
   "outputs": [
    {
     "name": "stdout",
     "output_type": "stream",
     "text": [
      "R2 of MLR:        0.8972106381789522\n",
      "\n",
      "TV ad SLR:        0.047536640433019764\n",
      "TV ad MLR:        0.04576464545539761\n",
      "\n",
      "Radio ad SLR:     0.20249578339243965\n",
      "Radio ad MLR:     0.18853001691820462\n",
      "\n",
      "Newspaper ad SLR: 0.05469309847227336\n",
      "Newspaper ad MLR: -0.0010374930424762972\n"
     ]
    }
   ],
   "source": [
    "# MC\n",
    "model = LinearRegression().fit(sales[[\"TV\", \"radio\", \"newspaper\"]], sales[\"sales\"])\n",
    "\n",
    "r2score = r2_score(sales[\"sales\"], model.predict(sales[[\"TV\", \"radio\", \"newspaper\"]]))\n",
    "print(\"R2 of MLR:        {}\".format(r2score))\n",
    "print()\n",
    "print(\"TV ad SLR:        {}\".format(model_tv.coef_[0]))\n",
    "print(\"TV ad MLR:        {}\".format(model.coef_[0]))\n",
    "print()\n",
    "print(\"Radio ad SLR:     {}\".format(model_radio.coef_[0]))\n",
    "print(\"Radio ad MLR:     {}\".format(model.coef_[1]))\n",
    "print()\n",
    "print(\"Newspaper ad SLR: {}\".format(model_np.coef_[0]))\n",
    "print(\"Newspaper ad MLR: {}\".format(model.coef_[2]))"
   ]
  },
  {
   "cell_type": "markdown",
   "id": "aa76afeb",
   "metadata": {},
   "source": [
    "- What are the expected sales given a new budget of TV=100, Radio=25 and Newspaper=25?"
   ]
  },
  {
   "cell_type": "code",
   "execution_count": 80,
   "id": "b142a6a4",
   "metadata": {},
   "outputs": [
    {
     "data": {
      "text/plain": [
       "array([12.20266701])"
      ]
     },
     "execution_count": 80,
     "metadata": {},
     "output_type": "execute_result"
    }
   ],
   "source": [
    "model.predict(X=[[100, 25, 25]])"
   ]
  },
  {
   "cell_type": "markdown",
   "id": "b499cd5f",
   "metadata": {},
   "source": [
    "# Feature Scaling\n",
    "\n",
    "\n",
    "#### Standardisation:\n",
    "\n",
    "$$x_{scaled} = \\frac{x - \\bar {x}}{s}$$\n",
    "\n",
    "Where $\\bar{x} =  mean(x)$, and $s = std(x)$.\n",
    "\n",
    "Therefore, $mean(x_{scaled}) = 0$ , and $std(x_{scaled}) = 1$. \n",
    "In case of presence of outliers for the feature x, this method is not helpful to set the range of $x_{scaled}$. \n",
    "\n",
    "\n",
    "#### Min-Max Scaling: \n",
    "\n",
    "$$x_{scaled}=\\frac{x-x_{min}}{x_{max} - x_{min}} $$\n",
    "\n",
    "Therefore, $range(x_{scaled}) = [0 , 1]$\n",
    "\n",
    "\n",
    "#### Mapping to a Gaussian distribution, PowerTransformer:\n",
    "\n",
    "PowerTransformer aims to map data from any distribution to as close to a Gaussian (Normal) distribution as possible in order to stabilize variance and minimize skewness. In general, you'll only want to normalize your data if you're going to use a machine learning or statistics technique that assumes your data is normally distributed. Some examples of these include t-tests, ANOVAs, linear regression, and Gaussian naive Bayes. \n",
    "\n",
    "\n",
    "### Feature Scaling in Python:\n",
    "\n",
    "For each scaling methods \"Standardisation\" and Min-Max Scaling, we can call the relevant methods from `sklearn.preprocessing`. \n",
    "\n",
    "\n",
    "#### Standardisation in Python:\n",
    "\n",
    "`from sklearn.preprocessing import StandardScaler`\n",
    "\n",
    "`scaler = StandardScaler().fit(x)`\n",
    "\n",
    "`x_scaled = scaler.transform(x)`\n",
    "\n",
    "\n",
    "#### Min-Max Scaling in Python: \n",
    "\n",
    "`from sklearn.preprocessing import MinMaxScaler`\n",
    "\n",
    "`scaler = MinMaxScaler().fit(x)`\n",
    "\n",
    "`x_scaled = scaler.transform(x)`\n",
    "\n",
    "\n",
    "#### Mapping to a Gaussian distribution, PowerTransformer:\n",
    "\n",
    "`from sklearn.preprocessing import PowerTransformer`\n",
    "\n",
    "`pt = PowerTransformer(method='box-cox', standardize=True)`\n",
    "\n",
    "In PowerTransformer, you need to set the hyperparameter `method='box-cox'` if the data is positive. For negative data you need to set `method='yeo-johnson'`. Hyperparameter `standardize=True` applies zero-mean, unit-variance normalization to the transformed output.\n",
    "\n",
    "`x_scaled = pt.fit_transform(x)` "
   ]
  },
  {
   "cell_type": "code",
   "execution_count": 82,
   "id": "abdc7e07",
   "metadata": {},
   "outputs": [],
   "source": [
    "from sklearn.preprocessing import StandardScaler, MinMaxScaler, PowerTransformer "
   ]
  },
  {
   "cell_type": "code",
   "execution_count": 83,
   "id": "5a58e718",
   "metadata": {
    "scrolled": true
   },
   "outputs": [
    {
     "name": "stderr",
     "output_type": "stream",
     "text": [
      "C:\\ProgramData\\Anaconda3\\lib\\site-packages\\seaborn\\distributions.py:2557: FutureWarning: `distplot` is a deprecated function and will be removed in a future version. Please adapt your code to use either `displot` (a figure-level function with similar flexibility) or `histplot` (an axes-level function for histograms).\n",
      "  warnings.warn(msg, FutureWarning)\n",
      "C:\\ProgramData\\Anaconda3\\lib\\site-packages\\seaborn\\distributions.py:2557: FutureWarning: `distplot` is a deprecated function and will be removed in a future version. Please adapt your code to use either `displot` (a figure-level function with similar flexibility) or `histplot` (an axes-level function for histograms).\n",
      "  warnings.warn(msg, FutureWarning)\n",
      "C:\\ProgramData\\Anaconda3\\lib\\site-packages\\seaborn\\distributions.py:2557: FutureWarning: `distplot` is a deprecated function and will be removed in a future version. Please adapt your code to use either `displot` (a figure-level function with similar flexibility) or `histplot` (an axes-level function for histograms).\n",
      "  warnings.warn(msg, FutureWarning)\n",
      "C:\\ProgramData\\Anaconda3\\lib\\site-packages\\seaborn\\distributions.py:2557: FutureWarning: `distplot` is a deprecated function and will be removed in a future version. Please adapt your code to use either `displot` (a figure-level function with similar flexibility) or `histplot` (an axes-level function for histograms).\n",
      "  warnings.warn(msg, FutureWarning)\n"
     ]
    },
    {
     "data": {
      "image/png": "[encoded data removed]",
      "text/plain": [
       "<Figure size 720x1080 with 4 Axes>"
      ]
     },
     "metadata": {},
     "output_type": "display_data"
    }
   ],
   "source": [
    "# set seed for reproducibility\n",
    "np.random.seed(0)\n",
    "\n",
    "# generate 1000 data points randomly drawn from an exponential distribution\n",
    "original_data = np.random.exponential(size = 1000)[:,np.newaxis]\n",
    "\n",
    "# StandardScaler scale the data between 0 and 1\n",
    "scaler_std = StandardScaler().fit(original_data)\n",
    "scaled_std = scaler_std.transform(original_data)\n",
    "\n",
    "# MinMaxScaler scale the data between 0 and 1\n",
    "scaler_Mm = MinMaxScaler().fit(original_data)\n",
    "scaled_Mm = scaler_Mm.transform(original_data)\n",
    "\n",
    "# MinMaxScaler scale the data between 0 and 1\n",
    "scaler_PT = PowerTransformer().fit(original_data)\n",
    "scaled_PT = scaler_PT.transform(original_data)\n",
    "\n",
    "# plot both together to compare\n",
    "fig, ax=plt.subplots(4,1)\n",
    "fig.set_size_inches(10, 15)\n",
    "\n",
    "sns.distplot(original_data, ax=ax[0])\n",
    "ax[0].vlines(np.mean(original_data), ymin = 0, ymax = 1, \n",
    "                               color = 'orange', label = 'mean')\n",
    "ax[0].vlines(np.median(original_data), ymin = 0, ymax = 1, \n",
    "                            color = 'red', label = 'median')\n",
    "ax[0].vlines(np.mean(original_data) - np.std(original_data, ddof = 1), ymin = 0, ymax = 1, \n",
    "                               color = 'green', label = '1-std below')\n",
    "ax[0].vlines(np.mean(original_data) + np.std(original_data, ddof = 1), ymin = 0, ymax = 1, \n",
    "                               color = 'purple', label = '1-std above')\n",
    "ax[0].set_title(\"Original Data\")\n",
    "\n",
    "\n",
    "sns.distplot(scaled_std, ax=ax[1])\n",
    "ax[1].set_title(\"StandardScaler: Scaled data\")\n",
    "ax[1].vlines(np.mean(scaled_std), ymin = 0, ymax = 1, \n",
    "                               color = 'orange', label = 'mean')\n",
    "ax[1].vlines(np.median(scaled_std), ymin = 0, ymax = 1, \n",
    "                            color = 'red', label = 'median')\n",
    "ax[1].vlines(np.mean(scaled_std) - np.std(scaled_std, ddof = 1), ymin = 0, ymax = 1, \n",
    "                               color = 'green', label = '1-std below')\n",
    "ax[1].vlines(np.mean(scaled_std) + np.std(scaled_std, ddof = 1), ymin = 0, ymax = 1, \n",
    "                               color = 'purple', label = '1-std above')\n",
    "\n",
    "\n",
    "sns.distplot(scaled_Mm, ax=ax[2])\n",
    "ax[2].set_title(\"MinMaxScaler: Scaled data\")\n",
    "ax[2].vlines(np.mean(scaled_Mm), ymin = 0, ymax = 8, \n",
    "                               color = 'orange', label = 'mean')\n",
    "ax[2].vlines(np.median(scaled_Mm), ymin = 0, ymax = 8, \n",
    "                            color = 'red', label = 'median')\n",
    "ax[2].vlines(np.mean(scaled_Mm) - np.std(scaled_Mm, ddof = 1), ymin = 0, ymax = 8, \n",
    "                               color = 'green', label = '1-std below')\n",
    "ax[2].vlines(np.mean(scaled_Mm) + np.std(scaled_Mm, ddof = 1), ymin = 0, ymax = 8, \n",
    "                               color = 'purple', label = '1-std above')\n",
    "\n",
    "\n",
    "sns.distplot(scaled_PT, ax=ax[3])\n",
    "ax[3].set_title(\"PowerTransformer: Scaled data\")\n",
    "ax[3].vlines(np.mean(scaled_PT), ymin = 0, ymax = .4, \n",
    "                               color = 'orange', label = 'mean')\n",
    "ax[3].vlines(np.median(scaled_PT), ymin = 0, ymax = .4, \n",
    "                            color = 'red', label = 'median')\n",
    "ax[3].vlines(np.mean(scaled_PT) - np.std(scaled_PT, ddof = 1), ymin = 0, ymax = .4, \n",
    "                               color = 'green', label = '1-std below')\n",
    "ax[3].vlines(np.mean(scaled_PT) + np.std(scaled_PT, ddof = 1), ymin = 0, ymax = .4, \n",
    "                               color = 'purple', label = '1-std above')\n",
    "\n",
    "plt.legend()\n",
    "plt.show()"
   ]
  },
  {
   "cell_type": "markdown",
   "id": "3ee7f3ff",
   "metadata": {},
   "source": [
    "**Example: Impact of scaling on sales dataset**"
   ]
  },
  {
   "cell_type": "code",
   "execution_count": 84,
   "id": "c1e6d1ee",
   "metadata": {},
   "outputs": [
    {
     "data": {
      "text/html": [
       "<div>\n",
       "<style scoped>\n",
       "    .dataframe tbody tr th:only-of-type {\n",
       "        vertical-align: middle;\n",
       "    }\n",
       "\n",
       "    .dataframe tbody tr th {\n",
       "        vertical-align: top;\n",
       "    }\n",
       "\n",
       "    .dataframe thead th {\n",
       "        text-align: right;\n",
       "    }\n",
       "</style>\n",
       "<table border=\"1\" class=\"dataframe\">\n",
       "  <thead>\n",
       "    <tr style=\"text-align: right;\">\n",
       "      <th></th>\n",
       "      <th>TV</th>\n",
       "      <th>radio</th>\n",
       "      <th>newspaper</th>\n",
       "    </tr>\n",
       "  </thead>\n",
       "  <tbody>\n",
       "    <tr>\n",
       "      <th>1</th>\n",
       "      <td>230.1</td>\n",
       "      <td>37.8</td>\n",
       "      <td>69.2</td>\n",
       "    </tr>\n",
       "    <tr>\n",
       "      <th>2</th>\n",
       "      <td>44.5</td>\n",
       "      <td>39.3</td>\n",
       "      <td>45.1</td>\n",
       "    </tr>\n",
       "    <tr>\n",
       "      <th>3</th>\n",
       "      <td>17.2</td>\n",
       "      <td>45.9</td>\n",
       "      <td>69.3</td>\n",
       "    </tr>\n",
       "    <tr>\n",
       "      <th>4</th>\n",
       "      <td>151.5</td>\n",
       "      <td>41.3</td>\n",
       "      <td>58.5</td>\n",
       "    </tr>\n",
       "    <tr>\n",
       "      <th>5</th>\n",
       "      <td>180.8</td>\n",
       "      <td>10.8</td>\n",
       "      <td>58.4</td>\n",
       "    </tr>\n",
       "  </tbody>\n",
       "</table>\n",
       "</div>"
      ],
      "text/plain": [
       "      TV  radio  newspaper\n",
       "1  230.1   37.8       69.2\n",
       "2   44.5   39.3       45.1\n",
       "3   17.2   45.9       69.3\n",
       "4  151.5   41.3       58.5\n",
       "5  180.8   10.8       58.4"
      ]
     },
     "execution_count": 84,
     "metadata": {},
     "output_type": "execute_result"
    }
   ],
   "source": [
    "X = sales[[\"TV\", \"radio\", \"newspaper\"]]\n",
    "X.head()"
   ]
  },
  {
   "cell_type": "code",
   "execution_count": 97,
   "id": "804a1b88",
   "metadata": {},
   "outputs": [
    {
     "data": {
      "text/plain": [
       "array([[ 0.94867429,  0.96224689,  1.51433531],\n",
       "       [-1.19131426,  1.0401788 ,  0.78768252],\n",
       "       [-1.6477566 ,  1.37070964,  1.51699753],\n",
       "       [ 0.14102023,  1.14238689,  1.21465643]])"
      ]
     },
     "execution_count": 97,
     "metadata": {},
     "output_type": "execute_result"
    }
   ],
   "source": [
    "scaled_X = PowerTransformer().fit_transform(X)\n",
    "scaled_X[:4,:]"
   ]
  },
  {
   "cell_type": "code",
   "execution_count": 98,
   "id": "78c2b54e",
   "metadata": {
    "scrolled": true
   },
   "outputs": [
    {
     "name": "stderr",
     "output_type": "stream",
     "text": [
      "C:\\ProgramData\\Anaconda3\\lib\\site-packages\\seaborn\\distributions.py:2557: FutureWarning: `distplot` is a deprecated function and will be removed in a future version. Please adapt your code to use either `displot` (a figure-level function with similar flexibility) or `histplot` (an axes-level function for histograms).\n",
      "  warnings.warn(msg, FutureWarning)\n",
      "C:\\ProgramData\\Anaconda3\\lib\\site-packages\\seaborn\\distributions.py:2557: FutureWarning: `distplot` is a deprecated function and will be removed in a future version. Please adapt your code to use either `displot` (a figure-level function with similar flexibility) or `histplot` (an axes-level function for histograms).\n",
      "  warnings.warn(msg, FutureWarning)\n"
     ]
    },
    {
     "data": {
      "image/png": "[encoded data removed]",
      "text/plain": [
       "<Figure size 720x576 with 2 Axes>"
      ]
     },
     "metadata": {},
     "output_type": "display_data"
    }
   ],
   "source": [
    "# plot both together to compare\n",
    "fig, ax=plt.subplots(1,2)\n",
    "fig.set_size_inches(10, 8)\n",
    "\n",
    "sns.distplot(X.iloc[1,:], ax=ax[0])\n",
    "ax[0].vlines(np.mean(X.iloc[1,:]), ymin = 0, ymax = .3, \n",
    "                               color = 'orange', label = 'mean')\n",
    "ax[0].vlines(np.median(X.iloc[1,:]), ymin = 0, ymax = .3, \n",
    "                            color = 'red', label = 'median')\n",
    "ax[0].vlines(np.mean(X.iloc[1,:]) - np.std(X.iloc[1,:], ddof = 1), ymin = 0, ymax = .3, \n",
    "                               color = 'green', label = '1-std below')\n",
    "ax[0].vlines(np.mean(X.iloc[1,:]) + np.std(X.iloc[1,:], ddof = 1), ymin = 0, ymax = .3, \n",
    "                               color = 'purple', label = '1-std above')\n",
    "ax[0].set_title(\"X.TV\")\n",
    "\n",
    "\n",
    "sns.distplot(scaled_X[:,0], ax=ax[1])\n",
    "ax[1].set_title(\"PowerTransform: X.TV\")\n",
    "ax[1].vlines(np.mean(scaled_X[:,0]), ymin = 0, ymax = .5, \n",
    "                               color = 'orange', label = 'mean')\n",
    "ax[1].vlines(np.median(scaled_X[:,0]), ymin = 0, ymax = .5, \n",
    "                            color = 'red', label = 'median')\n",
    "ax[1].vlines(np.mean(scaled_X[:,0]) - np.std(scaled_X[:,0], ddof = 1), ymin = 0, ymax = .5, \n",
    "                               color = 'green', label = '1-std belo')\n",
    "ax[1].vlines(np.mean(scaled_X[:,0]) + np.std(scaled_X[:,0], ddof = 1), ymin = 0, ymax = .5, \n",
    "                               color = 'purple', label = '1-std above')\n",
    "\n",
    "plt.legend()\n",
    "plt.show()"
   ]
  },
  {
   "cell_type": "code",
   "execution_count": 101,
   "id": "2e3f5542",
   "metadata": {},
   "outputs": [
    {
     "name": "stdout",
     "output_type": "stream",
     "text": [
      "R2 of MLR :        0.8972106381789522\n",
      "MSE of MLR:        2.784126314510936\n",
      "\n",
      "TV ad MLR :        0.04576464545539761\n",
      "\n",
      "Radio ad MLR:     0.18853001691820462\n",
      "\n",
      "Newspaper ad MLR: -0.0010374930424762972\n"
     ]
    }
   ],
   "source": [
    "model = LinearRegression().fit(X, sales[\"sales\"])\n",
    "\n",
    "r2score = r2_score(sales[\"sales\"], model.predict(X))\n",
    "print(\"R2 of MLR :        {}\".format(r2score))\n",
    "print(\"MSE of MLR:        {}\".format(mean_squared_error(sales[\"sales\"], model.predict(X))))\n",
    "\n",
    "\n",
    "print()\n",
    "print(\"TV ad MLR :        {}\".format(model.coef_[0]))\n",
    "print()\n",
    "print(\"Radio ad MLR:     {}\".format(model.coef_[1]))\n",
    "print()\n",
    "print(\"Newspaper ad MLR: {}\".format(model.coef_[2]))"
   ]
  },
  {
   "cell_type": "code",
   "execution_count": 100,
   "id": "bc8a51a3",
   "metadata": {},
   "outputs": [
    {
     "name": "stdout",
     "output_type": "stream",
     "text": [
      "R2 of MLR:        0.9074639862122942\n",
      "MSE of MLR:        2.5064067571002666\n",
      "\n",
      "TV ad MLR:        3.9707553863143206\n",
      "\n",
      "Radio ad MLR:     2.764248080722213\n",
      "\n",
      "Newspaper ad MLR: 0.0643293016332074\n"
     ]
    }
   ],
   "source": [
    "model_scaled = LinearRegression().fit(scaled_X, sales[\"sales\"])\n",
    "\n",
    "r2score = r2_score(sales[\"sales\"], model_scaled.predict(scaled_X))\n",
    "print(\"R2 of MLR:        {}\".format(r2score))\n",
    "print(\"MSE of MLR:        {}\".format(mean_squared_error(sales[\"sales\"], model_scaled.predict(scaled_X))))\n",
    "\n",
    "\n",
    "print()\n",
    "print(\"TV ad MLR:        {}\".format(model_scaled.coef_[0]))\n",
    "print()\n",
    "print(\"Radio ad MLR:     {}\".format(model_scaled.coef_[1]))\n",
    "print()\n",
    "print(\"Newspaper ad MLR: {}\".format(model_scaled.coef_[2]))"
   ]
  },
  {
   "cell_type": "markdown",
   "id": "7d99ed01",
   "metadata": {},
   "source": [
    "## Handling Categorical Predictors with Two Categories\n",
    "\n",
    "Up to now, all of our predictors have been numeric. What if one of our predictors was categorical?\n",
    "\n",
    "Let's create a new feature called **Size**, and randomly assign observations to be **small or large**:"
   ]
  },
  {
   "cell_type": "code",
   "execution_count": 103,
   "id": "3c36eda9",
   "metadata": {},
   "outputs": [
    {
     "data": {
      "text/html": [
       "<div>\n",
       "<style scoped>\n",
       "    .dataframe tbody tr th:only-of-type {\n",
       "        vertical-align: middle;\n",
       "    }\n",
       "\n",
       "    .dataframe tbody tr th {\n",
       "        vertical-align: top;\n",
       "    }\n",
       "\n",
       "    .dataframe thead th {\n",
       "        text-align: right;\n",
       "    }\n",
       "</style>\n",
       "<table border=\"1\" class=\"dataframe\">\n",
       "  <thead>\n",
       "    <tr style=\"text-align: right;\">\n",
       "      <th></th>\n",
       "      <th>TV</th>\n",
       "      <th>radio</th>\n",
       "      <th>newspaper</th>\n",
       "      <th>sales</th>\n",
       "    </tr>\n",
       "  </thead>\n",
       "  <tbody>\n",
       "    <tr>\n",
       "      <th>1</th>\n",
       "      <td>230.1</td>\n",
       "      <td>37.8</td>\n",
       "      <td>69.2</td>\n",
       "      <td>22.1</td>\n",
       "    </tr>\n",
       "    <tr>\n",
       "      <th>2</th>\n",
       "      <td>44.5</td>\n",
       "      <td>39.3</td>\n",
       "      <td>45.1</td>\n",
       "      <td>10.4</td>\n",
       "    </tr>\n",
       "    <tr>\n",
       "      <th>3</th>\n",
       "      <td>17.2</td>\n",
       "      <td>45.9</td>\n",
       "      <td>69.3</td>\n",
       "      <td>9.3</td>\n",
       "    </tr>\n",
       "    <tr>\n",
       "      <th>4</th>\n",
       "      <td>151.5</td>\n",
       "      <td>41.3</td>\n",
       "      <td>58.5</td>\n",
       "      <td>18.5</td>\n",
       "    </tr>\n",
       "    <tr>\n",
       "      <th>5</th>\n",
       "      <td>180.8</td>\n",
       "      <td>10.8</td>\n",
       "      <td>58.4</td>\n",
       "      <td>12.9</td>\n",
       "    </tr>\n",
       "  </tbody>\n",
       "</table>\n",
       "</div>"
      ],
      "text/plain": [
       "      TV  radio  newspaper  sales\n",
       "1  230.1   37.8       69.2   22.1\n",
       "2   44.5   39.3       45.1   10.4\n",
       "3   17.2   45.9       69.3    9.3\n",
       "4  151.5   41.3       58.5   18.5\n",
       "5  180.8   10.8       58.4   12.9"
      ]
     },
     "execution_count": 103,
     "metadata": {},
     "output_type": "execute_result"
    }
   ],
   "source": [
    "sales.head()"
   ]
  },
  {
   "cell_type": "code",
   "execution_count": 108,
   "id": "175cc09a",
   "metadata": {},
   "outputs": [
    {
     "data": {
      "text/html": [
       "<div>\n",
       "<style scoped>\n",
       "    .dataframe tbody tr th:only-of-type {\n",
       "        vertical-align: middle;\n",
       "    }\n",
       "\n",
       "    .dataframe tbody tr th {\n",
       "        vertical-align: top;\n",
       "    }\n",
       "\n",
       "    .dataframe thead th {\n",
       "        text-align: right;\n",
       "    }\n",
       "</style>\n",
       "<table border=\"1\" class=\"dataframe\">\n",
       "  <thead>\n",
       "    <tr style=\"text-align: right;\">\n",
       "      <th></th>\n",
       "      <th>TV</th>\n",
       "      <th>radio</th>\n",
       "      <th>newspaper</th>\n",
       "      <th>sales</th>\n",
       "      <th>Size</th>\n",
       "    </tr>\n",
       "  </thead>\n",
       "  <tbody>\n",
       "    <tr>\n",
       "      <th>1</th>\n",
       "      <td>230.1</td>\n",
       "      <td>37.8</td>\n",
       "      <td>69.2</td>\n",
       "      <td>22.1</td>\n",
       "      <td>small</td>\n",
       "    </tr>\n",
       "    <tr>\n",
       "      <th>2</th>\n",
       "      <td>44.5</td>\n",
       "      <td>39.3</td>\n",
       "      <td>45.1</td>\n",
       "      <td>10.4</td>\n",
       "      <td>large</td>\n",
       "    </tr>\n",
       "    <tr>\n",
       "      <th>3</th>\n",
       "      <td>17.2</td>\n",
       "      <td>45.9</td>\n",
       "      <td>69.3</td>\n",
       "      <td>9.3</td>\n",
       "      <td>large</td>\n",
       "    </tr>\n",
       "    <tr>\n",
       "      <th>4</th>\n",
       "      <td>151.5</td>\n",
       "      <td>41.3</td>\n",
       "      <td>58.5</td>\n",
       "      <td>18.5</td>\n",
       "      <td>large</td>\n",
       "    </tr>\n",
       "    <tr>\n",
       "      <th>5</th>\n",
       "      <td>180.8</td>\n",
       "      <td>10.8</td>\n",
       "      <td>58.4</td>\n",
       "      <td>12.9</td>\n",
       "      <td>small</td>\n",
       "    </tr>\n",
       "  </tbody>\n",
       "</table>\n",
       "</div>"
      ],
      "text/plain": [
       "      TV  radio  newspaper  sales   Size\n",
       "1  230.1   37.8       69.2   22.1  small\n",
       "2   44.5   39.3       45.1   10.4  large\n",
       "3   17.2   45.9       69.3    9.3  large\n",
       "4  151.5   41.3       58.5   18.5  large\n",
       "5  180.8   10.8       58.4   12.9  small"
      ]
     },
     "execution_count": 108,
     "metadata": {},
     "output_type": "execute_result"
    }
   ],
   "source": [
    "# set a seed for reproducibility\n",
    "np.random.seed(42)\n",
    "\n",
    "# create a Series of booleans in which roughly half are True\n",
    "nums = np.random.rand(len(sales))\n",
    "mask_large = nums > 0.5\n",
    "\n",
    "# initially set Size to s mall, then change roughly half to be large\n",
    "sales_size = sales.copy()\n",
    "sales_size['Size'] = 'small'\n",
    "sales_size.loc[mask_large, 'Size'] = 'large'\n",
    "sales_size.head()"
   ]
  },
  {
   "cell_type": "code",
   "execution_count": 111,
   "id": "c68bd6cd",
   "metadata": {},
   "outputs": [
    {
     "data": {
      "text/html": [
       "<div>\n",
       "<style scoped>\n",
       "    .dataframe tbody tr th:only-of-type {\n",
       "        vertical-align: middle;\n",
       "    }\n",
       "\n",
       "    .dataframe tbody tr th {\n",
       "        vertical-align: top;\n",
       "    }\n",
       "\n",
       "    .dataframe thead th {\n",
       "        text-align: right;\n",
       "    }\n",
       "</style>\n",
       "<table border=\"1\" class=\"dataframe\">\n",
       "  <thead>\n",
       "    <tr style=\"text-align: right;\">\n",
       "      <th></th>\n",
       "      <th>Size_large</th>\n",
       "      <th>Size_small</th>\n",
       "    </tr>\n",
       "  </thead>\n",
       "  <tbody>\n",
       "    <tr>\n",
       "      <th>1</th>\n",
       "      <td>0</td>\n",
       "      <td>1</td>\n",
       "    </tr>\n",
       "    <tr>\n",
       "      <th>2</th>\n",
       "      <td>1</td>\n",
       "      <td>0</td>\n",
       "    </tr>\n",
       "    <tr>\n",
       "      <th>3</th>\n",
       "      <td>1</td>\n",
       "      <td>0</td>\n",
       "    </tr>\n",
       "    <tr>\n",
       "      <th>4</th>\n",
       "      <td>1</td>\n",
       "      <td>0</td>\n",
       "    </tr>\n",
       "    <tr>\n",
       "      <th>5</th>\n",
       "      <td>0</td>\n",
       "      <td>1</td>\n",
       "    </tr>\n",
       "  </tbody>\n",
       "</table>\n",
       "</div>"
      ],
      "text/plain": [
       "   Size_large  Size_small\n",
       "1           0           1\n",
       "2           1           0\n",
       "3           1           0\n",
       "4           1           0\n",
       "5           0           1"
      ]
     },
     "execution_count": 111,
     "metadata": {},
     "output_type": "execute_result"
    }
   ],
   "source": [
    "# create a new Series called IsLarge\n",
    "size_dummies = pd.get_dummies(sales_size.Size, prefix='Size')\n",
    "size_dummies1 = size_dummies.iloc[:, 1]\n",
    "size_dummies.head()"
   ]
  },
  {
   "cell_type": "code",
   "execution_count": 124,
   "id": "92558d79",
   "metadata": {
    "collapsed": true,
    "jupyter": {
     "outputs_hidden": true
    }
   },
   "outputs": [
    {
     "data": {
      "text/html": [
       "<div>\n",
       "<style scoped>\n",
       "    .dataframe tbody tr th:only-of-type {\n",
       "        vertical-align: middle;\n",
       "    }\n",
       "\n",
       "    .dataframe tbody tr th {\n",
       "        vertical-align: top;\n",
       "    }\n",
       "\n",
       "    .dataframe thead th {\n",
       "        text-align: right;\n",
       "    }\n",
       "</style>\n",
       "<table border=\"1\" class=\"dataframe\">\n",
       "  <thead>\n",
       "    <tr style=\"text-align: right;\">\n",
       "      <th></th>\n",
       "      <th>TV</th>\n",
       "      <th>radio</th>\n",
       "      <th>newspaper</th>\n",
       "      <th>sales</th>\n",
       "      <th>Size</th>\n",
       "      <th>Size_small</th>\n",
       "    </tr>\n",
       "  </thead>\n",
       "  <tbody>\n",
       "    <tr>\n",
       "      <th>1</th>\n",
       "      <td>230.1</td>\n",
       "      <td>37.8</td>\n",
       "      <td>69.2</td>\n",
       "      <td>22.1</td>\n",
       "      <td>small</td>\n",
       "      <td>1</td>\n",
       "    </tr>\n",
       "    <tr>\n",
       "      <th>2</th>\n",
       "      <td>44.5</td>\n",
       "      <td>39.3</td>\n",
       "      <td>45.1</td>\n",
       "      <td>10.4</td>\n",
       "      <td>large</td>\n",
       "      <td>0</td>\n",
       "    </tr>\n",
       "    <tr>\n",
       "      <th>3</th>\n",
       "      <td>17.2</td>\n",
       "      <td>45.9</td>\n",
       "      <td>69.3</td>\n",
       "      <td>9.3</td>\n",
       "      <td>large</td>\n",
       "      <td>0</td>\n",
       "    </tr>\n",
       "    <tr>\n",
       "      <th>4</th>\n",
       "      <td>151.5</td>\n",
       "      <td>41.3</td>\n",
       "      <td>58.5</td>\n",
       "      <td>18.5</td>\n",
       "      <td>large</td>\n",
       "      <td>0</td>\n",
       "    </tr>\n",
       "    <tr>\n",
       "      <th>5</th>\n",
       "      <td>180.8</td>\n",
       "      <td>10.8</td>\n",
       "      <td>58.4</td>\n",
       "      <td>12.9</td>\n",
       "      <td>small</td>\n",
       "      <td>1</td>\n",
       "    </tr>\n",
       "  </tbody>\n",
       "</table>\n",
       "</div>"
      ],
      "text/plain": [
       "      TV  radio  newspaper  sales   Size  Size_small\n",
       "1  230.1   37.8       69.2   22.1  small           1\n",
       "2   44.5   39.3       45.1   10.4  large           0\n",
       "3   17.2   45.9       69.3    9.3  large           0\n",
       "4  151.5   41.3       58.5   18.5  large           0\n",
       "5  180.8   10.8       58.4   12.9  small           1"
      ]
     },
     "execution_count": 124,
     "metadata": {},
     "output_type": "execute_result"
    }
   ],
   "source": [
    "size_dummies1 = size_dummies.iloc[:, 1]\n",
    "sales_size1 = pd.concat([sales_size, size_dummies1], axis=1)\n",
    "sales_size1.head()"
   ]
  },
  {
   "cell_type": "code",
   "execution_count": 125,
   "id": "72f51e06",
   "metadata": {
    "collapsed": true,
    "jupyter": {
     "outputs_hidden": true
    }
   },
   "outputs": [
    {
     "data": {
      "text/html": [
       "<div>\n",
       "<style scoped>\n",
       "    .dataframe tbody tr th:only-of-type {\n",
       "        vertical-align: middle;\n",
       "    }\n",
       "\n",
       "    .dataframe tbody tr th {\n",
       "        vertical-align: top;\n",
       "    }\n",
       "\n",
       "    .dataframe thead th {\n",
       "        text-align: right;\n",
       "    }\n",
       "</style>\n",
       "<table border=\"1\" class=\"dataframe\">\n",
       "  <thead>\n",
       "    <tr style=\"text-align: right;\">\n",
       "      <th></th>\n",
       "      <th>TV</th>\n",
       "      <th>radio</th>\n",
       "      <th>newspaper</th>\n",
       "      <th>sales</th>\n",
       "      <th>Size</th>\n",
       "      <th>Size_large</th>\n",
       "    </tr>\n",
       "  </thead>\n",
       "  <tbody>\n",
       "    <tr>\n",
       "      <th>1</th>\n",
       "      <td>230.1</td>\n",
       "      <td>37.8</td>\n",
       "      <td>69.2</td>\n",
       "      <td>22.1</td>\n",
       "      <td>small</td>\n",
       "      <td>0</td>\n",
       "    </tr>\n",
       "    <tr>\n",
       "      <th>2</th>\n",
       "      <td>44.5</td>\n",
       "      <td>39.3</td>\n",
       "      <td>45.1</td>\n",
       "      <td>10.4</td>\n",
       "      <td>large</td>\n",
       "      <td>1</td>\n",
       "    </tr>\n",
       "    <tr>\n",
       "      <th>3</th>\n",
       "      <td>17.2</td>\n",
       "      <td>45.9</td>\n",
       "      <td>69.3</td>\n",
       "      <td>9.3</td>\n",
       "      <td>large</td>\n",
       "      <td>1</td>\n",
       "    </tr>\n",
       "    <tr>\n",
       "      <th>4</th>\n",
       "      <td>151.5</td>\n",
       "      <td>41.3</td>\n",
       "      <td>58.5</td>\n",
       "      <td>18.5</td>\n",
       "      <td>large</td>\n",
       "      <td>1</td>\n",
       "    </tr>\n",
       "    <tr>\n",
       "      <th>5</th>\n",
       "      <td>180.8</td>\n",
       "      <td>10.8</td>\n",
       "      <td>58.4</td>\n",
       "      <td>12.9</td>\n",
       "      <td>small</td>\n",
       "      <td>0</td>\n",
       "    </tr>\n",
       "  </tbody>\n",
       "</table>\n",
       "</div>"
      ],
      "text/plain": [
       "      TV  radio  newspaper  sales   Size  Size_large\n",
       "1  230.1   37.8       69.2   22.1  small           0\n",
       "2   44.5   39.3       45.1   10.4  large           1\n",
       "3   17.2   45.9       69.3    9.3  large           1\n",
       "4  151.5   41.3       58.5   18.5  large           1\n",
       "5  180.8   10.8       58.4   12.9  small           0"
      ]
     },
     "execution_count": 125,
     "metadata": {},
     "output_type": "execute_result"
    }
   ],
   "source": [
    "#MC \n",
    "size_dummies0 = size_dummies.iloc[:, 0]\n",
    "sales_size2 = pd.concat([sales_size, size_dummies0], axis=1)\n",
    "sales_size2.head()"
   ]
  },
  {
   "cell_type": "code",
   "execution_count": 120,
   "id": "a393eaa4",
   "metadata": {},
   "outputs": [
    {
     "name": "stdout",
     "output_type": "stream",
     "text": [
      "{('TV', 0.045799839396507544), ('Size_small', 0.04564635201792487), ('radio', 0.18841737406834347), ('newspaper', -0.0009987157346825065)}\n",
      "\n",
      "R2 of MLR:        0.8972294440532784\n",
      "MSE of MLR:       2.7836169434179383\n"
     ]
    }
   ],
   "source": [
    "# create X and y\n",
    "feature_cols = ['TV', 'radio', 'newspaper', 'Size_small']\n",
    "X = sales_size1[feature_cols]\n",
    "y = sales.sales\n",
    "\n",
    "# instantiate, fit\n",
    "lm = LinearRegression()\n",
    "lm.fit(X, y)\n",
    "\n",
    "# print coefficients\n",
    "result = zip(feature_cols, lm.coef_)\n",
    "resultSet = set(result)\n",
    "print(resultSet)\n",
    "print()\n",
    "\n",
    "r2score = r2_score(sales[\"sales\"], lm.predict(X))\n",
    "print(\"R2 of MLR:        {}\".format(r2score))\n",
    "print(\"MSE of MLR:       {}\".format(mean_squared_error(y, lm.predict(X))))\n",
    "\n"
   ]
  },
  {
   "cell_type": "code",
   "execution_count": 121,
   "id": "b387d0bb",
   "metadata": {},
   "outputs": [
    {
     "name": "stdout",
     "output_type": "stream",
     "text": [
      "Coefficients: [ 0.04579984  0.18841737 -0.00099872  0.04564635]\n"
     ]
    }
   ],
   "source": [
    "print(\"Coefficients: {}\".format(lm.coef_))"
   ]
  },
  {
   "cell_type": "code",
   "execution_count": 126,
   "id": "23db5a50",
   "metadata": {},
   "outputs": [
    {
     "name": "stdout",
     "output_type": "stream",
     "text": [
      "{('Size_large', -0.04564635201792487), ('TV', 0.045799839396507544), ('radio', 0.18841737406834347), ('newspaper', -0.0009987157346825065)}\n",
      "\n",
      "R2 of MLR:        0.8972294440532784\n",
      "MSE of MLR:        2.783616943417938\n"
     ]
    }
   ],
   "source": [
    "#MC\n",
    "feature_cols = ['TV', 'radio', 'newspaper', 'Size_large']\n",
    "X = sales_size2[feature_cols]\n",
    "y = sales.sales\n",
    "\n",
    "# instantiate, fit\n",
    "lm = LinearRegression()\n",
    "lm.fit(X, y)\n",
    "\n",
    "# print coefficients\n",
    "result = zip(feature_cols, lm.coef_)\n",
    "resultSet = set(result)\n",
    "print(resultSet)\n",
    "print()\n",
    "r2score = r2_score(\n",
    "    sales[\"sales\"], lm.predict(X))\n",
    "print(\"R2 of MLR:        {}\".format(r2score))\n",
    "print(\"MSE of MLR:        {}\".format(mean_squared_error(y, lm.predict(X))))"
   ]
  },
  {
   "cell_type": "markdown",
   "id": "872fe787",
   "metadata": {},
   "source": [
    "## Handling Categorical Predictors with More than Two Categories\n",
    "\n",
    "Let's create a new feature called **Area**, and randomly assign observations to be **rural, suburban, or urban**:"
   ]
  },
  {
   "cell_type": "code",
   "execution_count": 146,
   "id": "ce4ba146",
   "metadata": {
    "scrolled": true
   },
   "outputs": [
    {
     "data": {
      "text/html": [
       "<div>\n",
       "<style scoped>\n",
       "    .dataframe tbody tr th:only-of-type {\n",
       "        vertical-align: middle;\n",
       "    }\n",
       "\n",
       "    .dataframe tbody tr th {\n",
       "        vertical-align: top;\n",
       "    }\n",
       "\n",
       "    .dataframe thead th {\n",
       "        text-align: right;\n",
       "    }\n",
       "</style>\n",
       "<table border=\"1\" class=\"dataframe\">\n",
       "  <thead>\n",
       "    <tr style=\"text-align: right;\">\n",
       "      <th></th>\n",
       "      <th>TV</th>\n",
       "      <th>radio</th>\n",
       "      <th>newspaper</th>\n",
       "      <th>sales</th>\n",
       "      <th>Size</th>\n",
       "      <th>Area</th>\n",
       "    </tr>\n",
       "  </thead>\n",
       "  <tbody>\n",
       "    <tr>\n",
       "      <th>1</th>\n",
       "      <td>230.1</td>\n",
       "      <td>37.8</td>\n",
       "      <td>69.2</td>\n",
       "      <td>22.1</td>\n",
       "      <td>small</td>\n",
       "      <td>rural</td>\n",
       "    </tr>\n",
       "    <tr>\n",
       "      <th>2</th>\n",
       "      <td>44.5</td>\n",
       "      <td>39.3</td>\n",
       "      <td>45.1</td>\n",
       "      <td>10.4</td>\n",
       "      <td>large</td>\n",
       "      <td>urban</td>\n",
       "    </tr>\n",
       "    <tr>\n",
       "      <th>3</th>\n",
       "      <td>17.2</td>\n",
       "      <td>45.9</td>\n",
       "      <td>69.3</td>\n",
       "      <td>9.3</td>\n",
       "      <td>large</td>\n",
       "      <td>rural</td>\n",
       "    </tr>\n",
       "    <tr>\n",
       "      <th>4</th>\n",
       "      <td>151.5</td>\n",
       "      <td>41.3</td>\n",
       "      <td>58.5</td>\n",
       "      <td>18.5</td>\n",
       "      <td>large</td>\n",
       "      <td>urban</td>\n",
       "    </tr>\n",
       "    <tr>\n",
       "      <th>5</th>\n",
       "      <td>180.8</td>\n",
       "      <td>10.8</td>\n",
       "      <td>58.4</td>\n",
       "      <td>12.9</td>\n",
       "      <td>small</td>\n",
       "      <td>suburban</td>\n",
       "    </tr>\n",
       "  </tbody>\n",
       "</table>\n",
       "</div>"
      ],
      "text/plain": [
       "      TV  radio  newspaper  sales   Size      Area\n",
       "1  230.1   37.8       69.2   22.1  small     rural\n",
       "2   44.5   39.3       45.1   10.4  large     urban\n",
       "3   17.2   45.9       69.3    9.3  large     rural\n",
       "4  151.5   41.3       58.5   18.5  large     urban\n",
       "5  180.8   10.8       58.4   12.9  small  suburban"
      ]
     },
     "execution_count": 146,
     "metadata": {},
     "output_type": "execute_result"
    }
   ],
   "source": [
    "# set a seed for reproducibility\n",
    "np.random.seed(123456)\n",
    "\n",
    "# assign roughly one third of observations to each group\n",
    "nums = np.random.rand(len(sales))\n",
    "mask_suburban = (nums > 0.33) & (nums < 0.66)\n",
    "mask_urban = nums > 0.66\n",
    "sales_Area = sales_size.copy()\n",
    "sales_Area['Area'] = 'rural'\n",
    "sales_Area.loc[mask_suburban, 'Area'] = 'suburban'\n",
    "sales_Area.loc[mask_urban, 'Area'] = 'urban'\n",
    "sales_Area.head()"
   ]
  },
  {
   "cell_type": "code",
   "execution_count": 147,
   "id": "aad6648d",
   "metadata": {},
   "outputs": [
    {
     "data": {
      "text/html": [
       "<div>\n",
       "<style scoped>\n",
       "    .dataframe tbody tr th:only-of-type {\n",
       "        vertical-align: middle;\n",
       "    }\n",
       "\n",
       "    .dataframe tbody tr th {\n",
       "        vertical-align: top;\n",
       "    }\n",
       "\n",
       "    .dataframe thead th {\n",
       "        text-align: right;\n",
       "    }\n",
       "</style>\n",
       "<table border=\"1\" class=\"dataframe\">\n",
       "  <thead>\n",
       "    <tr style=\"text-align: right;\">\n",
       "      <th></th>\n",
       "      <th>TV</th>\n",
       "      <th>radio</th>\n",
       "      <th>newspaper</th>\n",
       "      <th>sales</th>\n",
       "      <th>Size</th>\n",
       "      <th>Area</th>\n",
       "      <th>Area_suburban</th>\n",
       "      <th>Area_urban</th>\n",
       "    </tr>\n",
       "  </thead>\n",
       "  <tbody>\n",
       "    <tr>\n",
       "      <th>1</th>\n",
       "      <td>230.1</td>\n",
       "      <td>37.8</td>\n",
       "      <td>69.2</td>\n",
       "      <td>22.1</td>\n",
       "      <td>small</td>\n",
       "      <td>rural</td>\n",
       "      <td>0</td>\n",
       "      <td>0</td>\n",
       "    </tr>\n",
       "    <tr>\n",
       "      <th>2</th>\n",
       "      <td>44.5</td>\n",
       "      <td>39.3</td>\n",
       "      <td>45.1</td>\n",
       "      <td>10.4</td>\n",
       "      <td>large</td>\n",
       "      <td>urban</td>\n",
       "      <td>0</td>\n",
       "      <td>1</td>\n",
       "    </tr>\n",
       "    <tr>\n",
       "      <th>3</th>\n",
       "      <td>17.2</td>\n",
       "      <td>45.9</td>\n",
       "      <td>69.3</td>\n",
       "      <td>9.3</td>\n",
       "      <td>large</td>\n",
       "      <td>rural</td>\n",
       "      <td>0</td>\n",
       "      <td>0</td>\n",
       "    </tr>\n",
       "    <tr>\n",
       "      <th>4</th>\n",
       "      <td>151.5</td>\n",
       "      <td>41.3</td>\n",
       "      <td>58.5</td>\n",
       "      <td>18.5</td>\n",
       "      <td>large</td>\n",
       "      <td>urban</td>\n",
       "      <td>0</td>\n",
       "      <td>1</td>\n",
       "    </tr>\n",
       "    <tr>\n",
       "      <th>5</th>\n",
       "      <td>180.8</td>\n",
       "      <td>10.8</td>\n",
       "      <td>58.4</td>\n",
       "      <td>12.9</td>\n",
       "      <td>small</td>\n",
       "      <td>suburban</td>\n",
       "      <td>1</td>\n",
       "      <td>0</td>\n",
       "    </tr>\n",
       "  </tbody>\n",
       "</table>\n",
       "</div>"
      ],
      "text/plain": [
       "      TV  radio  newspaper  sales   Size      Area  Area_suburban  Area_urban\n",
       "1  230.1   37.8       69.2   22.1  small     rural              0           0\n",
       "2   44.5   39.3       45.1   10.4  large     urban              0           1\n",
       "3   17.2   45.9       69.3    9.3  large     rural              0           0\n",
       "4  151.5   41.3       58.5   18.5  large     urban              0           1\n",
       "5  180.8   10.8       58.4   12.9  small  suburban              1           0"
      ]
     },
     "execution_count": 147,
     "metadata": {},
     "output_type": "execute_result"
    }
   ],
   "source": [
    "# create three dummy variables using get_dummies, then exclude the first dummy column\n",
    "area_dummies = pd.get_dummies(sales_Area.Area, prefix='Area').iloc[:, 1:]\n",
    "\n",
    "# concatenate the dummy variable columns onto the original DataFrame (axis=0 means rows, axis=1 means columns)\n",
    "sales_Area = pd.concat([sales_Area, area_dummies], axis=1)\n",
    "sales_Area.head()"
   ]
  },
  {
   "cell_type": "markdown",
   "id": "ae463850",
   "metadata": {},
   "source": [
    "Here is how we interpret the coding:\n",
    "- **rural** is coded as Area_suburban=0 and Area_urban=0\n",
    "- **suburban** is coded as Area_suburban=1 and Area_urban=0\n",
    "- **urban** is coded as Area_suburban=0 and Area_urban=1\n",
    "\n",
    "Let's include the two new dummy variables in the model:"
   ]
  },
  {
   "cell_type": "code",
   "execution_count": 148,
   "id": "59db53e3",
   "metadata": {},
   "outputs": [
    {
     "data": {
      "text/html": [
       "<div>\n",
       "<style scoped>\n",
       "    .dataframe tbody tr th:only-of-type {\n",
       "        vertical-align: middle;\n",
       "    }\n",
       "\n",
       "    .dataframe tbody tr th {\n",
       "        vertical-align: top;\n",
       "    }\n",
       "\n",
       "    .dataframe thead th {\n",
       "        text-align: right;\n",
       "    }\n",
       "</style>\n",
       "<table border=\"1\" class=\"dataframe\">\n",
       "  <thead>\n",
       "    <tr style=\"text-align: right;\">\n",
       "      <th></th>\n",
       "      <th>TV</th>\n",
       "      <th>radio</th>\n",
       "      <th>newspaper</th>\n",
       "      <th>Size</th>\n",
       "      <th>Area</th>\n",
       "    </tr>\n",
       "  </thead>\n",
       "  <tbody>\n",
       "    <tr>\n",
       "      <th>1</th>\n",
       "      <td>230.1</td>\n",
       "      <td>37.8</td>\n",
       "      <td>69.2</td>\n",
       "      <td>small</td>\n",
       "      <td>rural</td>\n",
       "    </tr>\n",
       "    <tr>\n",
       "      <th>2</th>\n",
       "      <td>44.5</td>\n",
       "      <td>39.3</td>\n",
       "      <td>45.1</td>\n",
       "      <td>large</td>\n",
       "      <td>urban</td>\n",
       "    </tr>\n",
       "    <tr>\n",
       "      <th>3</th>\n",
       "      <td>17.2</td>\n",
       "      <td>45.9</td>\n",
       "      <td>69.3</td>\n",
       "      <td>large</td>\n",
       "      <td>rural</td>\n",
       "    </tr>\n",
       "    <tr>\n",
       "      <th>4</th>\n",
       "      <td>151.5</td>\n",
       "      <td>41.3</td>\n",
       "      <td>58.5</td>\n",
       "      <td>large</td>\n",
       "      <td>urban</td>\n",
       "    </tr>\n",
       "    <tr>\n",
       "      <th>5</th>\n",
       "      <td>180.8</td>\n",
       "      <td>10.8</td>\n",
       "      <td>58.4</td>\n",
       "      <td>small</td>\n",
       "      <td>suburban</td>\n",
       "    </tr>\n",
       "    <tr>\n",
       "      <th>...</th>\n",
       "      <td>...</td>\n",
       "      <td>...</td>\n",
       "      <td>...</td>\n",
       "      <td>...</td>\n",
       "      <td>...</td>\n",
       "    </tr>\n",
       "    <tr>\n",
       "      <th>196</th>\n",
       "      <td>38.2</td>\n",
       "      <td>3.7</td>\n",
       "      <td>13.8</td>\n",
       "      <td>small</td>\n",
       "      <td>suburban</td>\n",
       "    </tr>\n",
       "    <tr>\n",
       "      <th>197</th>\n",
       "      <td>94.2</td>\n",
       "      <td>4.9</td>\n",
       "      <td>8.1</td>\n",
       "      <td>large</td>\n",
       "      <td>urban</td>\n",
       "    </tr>\n",
       "    <tr>\n",
       "      <th>198</th>\n",
       "      <td>177.0</td>\n",
       "      <td>9.3</td>\n",
       "      <td>6.4</td>\n",
       "      <td>large</td>\n",
       "      <td>suburban</td>\n",
       "    </tr>\n",
       "    <tr>\n",
       "      <th>199</th>\n",
       "      <td>283.6</td>\n",
       "      <td>42.0</td>\n",
       "      <td>66.2</td>\n",
       "      <td>large</td>\n",
       "      <td>rural</td>\n",
       "    </tr>\n",
       "    <tr>\n",
       "      <th>200</th>\n",
       "      <td>232.1</td>\n",
       "      <td>8.6</td>\n",
       "      <td>8.7</td>\n",
       "      <td>large</td>\n",
       "      <td>rural</td>\n",
       "    </tr>\n",
       "  </tbody>\n",
       "</table>\n",
       "<p>200 rows × 5 columns</p>\n",
       "</div>"
      ],
      "text/plain": [
       "        TV  radio  newspaper   Size      Area\n",
       "1    230.1   37.8       69.2  small     rural\n",
       "2     44.5   39.3       45.1  large     urban\n",
       "3     17.2   45.9       69.3  large     rural\n",
       "4    151.5   41.3       58.5  large     urban\n",
       "5    180.8   10.8       58.4  small  suburban\n",
       "..     ...    ...        ...    ...       ...\n",
       "196   38.2    3.7       13.8  small  suburban\n",
       "197   94.2    4.9        8.1  large     urban\n",
       "198  177.0    9.3        6.4  large  suburban\n",
       "199  283.6   42.0       66.2  large     rural\n",
       "200  232.1    8.6        8.7  large     rural\n",
       "\n",
       "[200 rows x 5 columns]"
      ]
     },
     "execution_count": 148,
     "metadata": {},
     "output_type": "execute_result"
    }
   ],
   "source": [
    "# create X and y\n",
    "feature_cols = ['TV', 'radio', 'newspaper', 'Size', 'Area']\n",
    "X = sales_Area[feature_cols]\n",
    "X"
   ]
  },
  {
   "cell_type": "code",
   "execution_count": 149,
   "id": "eb1f806b",
   "metadata": {},
   "outputs": [
    {
     "data": {
      "text/html": [
       "<div>\n",
       "<style scoped>\n",
       "    .dataframe tbody tr th:only-of-type {\n",
       "        vertical-align: middle;\n",
       "    }\n",
       "\n",
       "    .dataframe tbody tr th {\n",
       "        vertical-align: top;\n",
       "    }\n",
       "\n",
       "    .dataframe thead th {\n",
       "        text-align: right;\n",
       "    }\n",
       "</style>\n",
       "<table border=\"1\" class=\"dataframe\">\n",
       "  <thead>\n",
       "    <tr style=\"text-align: right;\">\n",
       "      <th></th>\n",
       "      <th>TV</th>\n",
       "      <th>radio</th>\n",
       "      <th>newspaper</th>\n",
       "      <th>Size_small</th>\n",
       "      <th>Area_suburban</th>\n",
       "      <th>Area_urban</th>\n",
       "    </tr>\n",
       "  </thead>\n",
       "  <tbody>\n",
       "    <tr>\n",
       "      <th>1</th>\n",
       "      <td>230.1</td>\n",
       "      <td>37.8</td>\n",
       "      <td>69.2</td>\n",
       "      <td>1</td>\n",
       "      <td>0</td>\n",
       "      <td>0</td>\n",
       "    </tr>\n",
       "    <tr>\n",
       "      <th>2</th>\n",
       "      <td>44.5</td>\n",
       "      <td>39.3</td>\n",
       "      <td>45.1</td>\n",
       "      <td>0</td>\n",
       "      <td>0</td>\n",
       "      <td>1</td>\n",
       "    </tr>\n",
       "    <tr>\n",
       "      <th>3</th>\n",
       "      <td>17.2</td>\n",
       "      <td>45.9</td>\n",
       "      <td>69.3</td>\n",
       "      <td>0</td>\n",
       "      <td>0</td>\n",
       "      <td>0</td>\n",
       "    </tr>\n",
       "    <tr>\n",
       "      <th>4</th>\n",
       "      <td>151.5</td>\n",
       "      <td>41.3</td>\n",
       "      <td>58.5</td>\n",
       "      <td>0</td>\n",
       "      <td>0</td>\n",
       "      <td>1</td>\n",
       "    </tr>\n",
       "    <tr>\n",
       "      <th>5</th>\n",
       "      <td>180.8</td>\n",
       "      <td>10.8</td>\n",
       "      <td>58.4</td>\n",
       "      <td>1</td>\n",
       "      <td>1</td>\n",
       "      <td>0</td>\n",
       "    </tr>\n",
       "    <tr>\n",
       "      <th>...</th>\n",
       "      <td>...</td>\n",
       "      <td>...</td>\n",
       "      <td>...</td>\n",
       "      <td>...</td>\n",
       "      <td>...</td>\n",
       "      <td>...</td>\n",
       "    </tr>\n",
       "    <tr>\n",
       "      <th>196</th>\n",
       "      <td>38.2</td>\n",
       "      <td>3.7</td>\n",
       "      <td>13.8</td>\n",
       "      <td>1</td>\n",
       "      <td>1</td>\n",
       "      <td>0</td>\n",
       "    </tr>\n",
       "    <tr>\n",
       "      <th>197</th>\n",
       "      <td>94.2</td>\n",
       "      <td>4.9</td>\n",
       "      <td>8.1</td>\n",
       "      <td>0</td>\n",
       "      <td>0</td>\n",
       "      <td>1</td>\n",
       "    </tr>\n",
       "    <tr>\n",
       "      <th>198</th>\n",
       "      <td>177.0</td>\n",
       "      <td>9.3</td>\n",
       "      <td>6.4</td>\n",
       "      <td>0</td>\n",
       "      <td>1</td>\n",
       "      <td>0</td>\n",
       "    </tr>\n",
       "    <tr>\n",
       "      <th>199</th>\n",
       "      <td>283.6</td>\n",
       "      <td>42.0</td>\n",
       "      <td>66.2</td>\n",
       "      <td>0</td>\n",
       "      <td>0</td>\n",
       "      <td>0</td>\n",
       "    </tr>\n",
       "    <tr>\n",
       "      <th>200</th>\n",
       "      <td>232.1</td>\n",
       "      <td>8.6</td>\n",
       "      <td>8.7</td>\n",
       "      <td>0</td>\n",
       "      <td>0</td>\n",
       "      <td>0</td>\n",
       "    </tr>\n",
       "  </tbody>\n",
       "</table>\n",
       "<p>200 rows × 6 columns</p>\n",
       "</div>"
      ],
      "text/plain": [
       "        TV  radio  newspaper  Size_small  Area_suburban  Area_urban\n",
       "1    230.1   37.8       69.2           1              0           0\n",
       "2     44.5   39.3       45.1           0              0           1\n",
       "3     17.2   45.9       69.3           0              0           0\n",
       "4    151.5   41.3       58.5           0              0           1\n",
       "5    180.8   10.8       58.4           1              1           0\n",
       "..     ...    ...        ...         ...            ...         ...\n",
       "196   38.2    3.7       13.8           1              1           0\n",
       "197   94.2    4.9        8.1           0              0           1\n",
       "198  177.0    9.3        6.4           0              1           0\n",
       "199  283.6   42.0       66.2           0              0           0\n",
       "200  232.1    8.6        8.7           0              0           0\n",
       "\n",
       "[200 rows x 6 columns]"
      ]
     },
     "execution_count": 149,
     "metadata": {},
     "output_type": "execute_result"
    }
   ],
   "source": [
    "X_dummy=pd.get_dummies(X, drop_first=True)\n",
    "X_dummy"
   ]
  },
  {
   "cell_type": "code",
   "execution_count": 150,
   "id": "af16d7a1",
   "metadata": {},
   "outputs": [
    {
     "name": "stdout",
     "output_type": "stream",
     "text": [
      "{('Size_small', 0.06222071661049745), ('TV', 0.04584961686502515), ('radio', 0.1874572257165829), ('newspaper', -0.0009722908491923818), ('Area_urban', 0.24893742682404305), ('Area_suburban', -0.12728485387467364)}\n"
     ]
    }
   ],
   "source": [
    "y = sales.sales\n",
    "\n",
    "# instantiate, fit\n",
    "lm = LinearRegression()\n",
    "lm.fit(X_dummy, y)\n",
    "\n",
    "# print coefficients\n",
    "Results=zip(X_dummy.columns, lm.coef_)\n",
    "SetResults = set(Results)\n",
    "print(SetResults)"
   ]
  },
  {
   "cell_type": "code",
   "execution_count": 151,
   "id": "c93e69ff",
   "metadata": {},
   "outputs": [
    {
     "data": {
      "text/plain": [
       "Index(['TV', 'radio', 'newspaper', 'Size_small', 'Area_suburban',\n",
       "       'Area_urban'],\n",
       "      dtype='object')"
      ]
     },
     "execution_count": 151,
     "metadata": {},
     "output_type": "execute_result"
    }
   ],
   "source": [
    "X_dummy.columns"
   ]
  },
  {
   "cell_type": "code",
   "execution_count": 152,
   "id": "1683593d",
   "metadata": {},
   "outputs": [
    {
     "data": {
      "text/plain": [
       "array([ 0.04584962,  0.18745723, -0.00097229,  0.06222072, -0.12728485,\n",
       "        0.24893743])"
      ]
     },
     "execution_count": 152,
     "metadata": {},
     "output_type": "execute_result"
    }
   ],
   "source": [
    "lm.coef_"
   ]
  },
  {
   "cell_type": "code",
   "execution_count": 153,
   "id": "533de6b7",
   "metadata": {},
   "outputs": [
    {
     "data": {
      "text/plain": [
       "5.084914089199858"
      ]
     },
     "execution_count": 153,
     "metadata": {},
     "output_type": "execute_result"
    }
   ],
   "source": [
    "news=10 \n",
    "Area='suburban'\n",
    "radio=10\n",
    "Size='large'\n",
    "TV=10\n",
    "yfit=lm.intercept_ + TV*lm.coef_[0] + radio*lm.coef_[1] + news*lm.coef_[2] + 0*lm.coef_[3] + 1*lm.coef_[4] + 0*lm.coef_[5]\n",
    "yfit"
   ]
  },
  {
   "cell_type": "code",
   "execution_count": 154,
   "id": "d4416354",
   "metadata": {},
   "outputs": [
    {
     "data": {
      "text/plain": [
       "array([5.08491409])"
      ]
     },
     "execution_count": 154,
     "metadata": {},
     "output_type": "execute_result"
    }
   ],
   "source": [
    "lm.predict([[10,10,10, 0,1,0]])"
   ]
  },
  {
   "cell_type": "markdown",
   "id": "71b9b430",
   "metadata": {},
   "source": [
    "## Using Linear Regression for non-linear relations\n",
    "\n",
    "Consider the following case."
   ]
  },
  {
   "cell_type": "code",
   "execution_count": 155,
   "id": "d2910572",
   "metadata": {},
   "outputs": [
    {
     "data": {
      "image/png": "[encoded data removed]",
      "text/plain": [
       "<Figure size 432x288 with 1 Axes>"
      ]
     },
     "metadata": {},
     "output_type": "display_data"
    }
   ],
   "source": [
    "X = (10 * (2 * np.random.rand(100) - 1))[:, np.newaxis]\n",
    "# b0 = 15, b1 = 0, b2 = -1.7, b3 = 0.2\n",
    "y = 15 - 1.7 * X**2 + 0.2 * X**3 + np.random.normal(scale=5, size=X.shape)\n",
    "\n",
    "model = LinearRegression()\n",
    "model.fit(X, y)\n",
    "y_pred = model.predict(X)\n",
    "\n",
    "plt.scatter(X, y)\n",
    "plt.plot(X, y_pred);"
   ]
  },
  {
   "cell_type": "markdown",
   "id": "346137a6",
   "metadata": {},
   "source": [
    "### Basis functions\n",
    "\n",
    "A trick to adapt linear regression to nonlinear relationships between features and targets is to transform the data and generate new features from the existing ones using basis functions. A very common set of basis functions are **polynomial basis functions** $f_n(x) = x^n$, which transform a simple linear regression from\n",
    "\n",
    "$$ y = \\beta_0 + \\beta_1 x $$\n",
    "\n",
    "into\n",
    "\n",
    "$$ y = \\beta_0 + \\beta_1 x + \\beta_2 x^2 + \\beta_3 x^3 + \\ldots + \\beta_n x^n$$\n",
    "\n",
    "We are free to choose how many polynomials to include. In fact, the basis functions $f(x)$ can be practically anything; we are free to transform features however we deem necessary.\n",
    "\n",
    "This can, of course, also be extended to multiple linear regression so that, e.g.\n",
    "\n",
    "$$ y = \\beta_0 + \\beta_1 x_1 + \\beta_2 x_2 $$\n",
    "\n",
    "could become\n",
    "\n",
    "$$ y = \\beta_0 + \\beta_{1a} x_1 + \\beta_{1b} x_1^2 + \\beta_{2a} x_2 + \\beta_{2b} x_2^2$$\n",
    " \n",
    "Note that this is still a linear model. Linearity in the context of modelling means that the coefficients $\\beta_i$ are only ever added to (or subtracted from) each other. The basis functions $f(x)$ may very well be non-linear, though. For example,\n",
    "\n",
    "$$ y = \\beta_0 + \\beta_1 x_1 + \\beta_2 x_2 + \\beta_3 x_1 x_2 $$\n",
    "\n",
    "is a linear model, despite the $x_1 x_2$ term, whereas\n",
    "\n",
    "$$ y = \\beta_0 + \\frac{\\beta_1 x}{\\beta_2 + x}$$\n",
    "\n",
    "is a non-linear model, despite only having one feature, because the coefficients are divided by each other.\n",
    "\n",
    "**All we are doing is engineering new features to capture nonlinear patterns!**"
   ]
  },
  {
   "cell_type": "markdown",
   "id": "138bdb2c",
   "metadata": {},
   "source": [
    "### Regression with polynomial basis functions\n",
    "\n",
    "The polynomial basis functions are so common and useful that this transformation is built into Scikit-Learn."
   ]
  },
  {
   "cell_type": "code",
   "execution_count": 156,
   "id": "4e10ea88",
   "metadata": {},
   "outputs": [
    {
     "data": {
      "text/plain": [
       "array([[2],\n",
       "       [3],\n",
       "       [4]])"
      ]
     },
     "execution_count": 156,
     "metadata": {},
     "output_type": "execute_result"
    }
   ],
   "source": [
    "x_1d = np.array([2, 3, 4])[:, np.newaxis]\n",
    "x_1d"
   ]
  },
  {
   "cell_type": "code",
   "execution_count": 157,
   "id": "c7ed89d2",
   "metadata": {},
   "outputs": [],
   "source": [
    "from sklearn.preprocessing import PolynomialFeatures"
   ]
  },
  {
   "cell_type": "code",
   "execution_count": 158,
   "id": "ab57c04d",
   "metadata": {},
   "outputs": [
    {
     "data": {
      "text/plain": [
       "array([[  2.,   4.,   8.,  16.],\n",
       "       [  3.,   9.,  27.,  81.],\n",
       "       [  4.,  16.,  64., 256.]])"
      ]
     },
     "execution_count": 158,
     "metadata": {},
     "output_type": "execute_result"
    }
   ],
   "source": [
    "poly = PolynomialFeatures(degree=4, include_bias=False)\n",
    "poly.fit(x_1d)\n",
    "x_poly = poly.transform(x_1d)\n",
    "x_poly"
   ]
  },
  {
   "cell_type": "code",
   "execution_count": 159,
   "id": "38222667",
   "metadata": {},
   "outputs": [
    {
     "data": {
      "text/plain": [
       "array([[  1.,   2.,   4.,   8.,  16.],\n",
       "       [  1.,   3.,   9.,  27.,  81.],\n",
       "       [  1.,   4.,  16.,  64., 256.]])"
      ]
     },
     "execution_count": 159,
     "metadata": {},
     "output_type": "execute_result"
    }
   ],
   "source": [
    "poly = PolynomialFeatures(degree=4, include_bias=True)\n",
    "poly.fit(x_1d)\n",
    "x_poly = poly.transform(x_1d)\n",
    "x_poly"
   ]
  },
  {
   "cell_type": "code",
   "execution_count": 160,
   "id": "ee4ea265",
   "metadata": {},
   "outputs": [],
   "source": [
    "from sklearn.pipeline import make_pipeline"
   ]
  },
  {
   "cell_type": "code",
   "execution_count": 161,
   "id": "0b38dec9",
   "metadata": {},
   "outputs": [
    {
     "data": {
      "text/plain": [
       "Pipeline(steps=[('polynomialfeatures',\n",
       "                 PolynomialFeatures(degree=3, include_bias=False)),\n",
       "                ('minmaxscaler', MinMaxScaler()),\n",
       "                ('linearregression', LinearRegression())])"
      ]
     },
     "execution_count": 161,
     "metadata": {},
     "output_type": "execute_result"
    }
   ],
   "source": [
    "poly_pipeline = make_pipeline(\n",
    "    PolynomialFeatures(degree=3, include_bias=False), \n",
    "    MinMaxScaler(), \n",
    "    LinearRegression())\n",
    "poly_pipeline"
   ]
  },
  {
   "cell_type": "code",
   "execution_count": 162,
   "id": "96b4e43b",
   "metadata": {},
   "outputs": [
    {
     "data": {
      "text/plain": [
       "[('polynomialfeatures', PolynomialFeatures(degree=3, include_bias=False)),\n",
       " ('minmaxscaler', MinMaxScaler()),\n",
       " ('linearregression', LinearRegression())]"
      ]
     },
     "execution_count": 162,
     "metadata": {},
     "output_type": "execute_result"
    }
   ],
   "source": [
    "poly_pipeline.steps"
   ]
  },
  {
   "cell_type": "code",
   "execution_count": 163,
   "id": "654c107c",
   "metadata": {},
   "outputs": [
    {
     "data": {
      "image/png": "[encoded data removed]",
      "text/plain": [
       "<Figure size 432x288 with 1 Axes>"
      ]
     },
     "metadata": {},
     "output_type": "display_data"
    }
   ],
   "source": [
    "poly_pipeline.fit(X, y)\n",
    "X_pred = np.linspace(X.min(), X.max(), 100)[:, np.newaxis]\n",
    "y_pred = poly_pipeline.predict(X_pred)\n",
    "plt.scatter(X, y)\n",
    "plt.plot(X_pred, y_pred, c='red');"
   ]
  },
  {
   "cell_type": "markdown",
   "id": "34718526",
   "metadata": {},
   "source": [
    "### A comment on `PolynomialFeatures`\n",
    "The `PolynomialFeatures` preprocessor doesn't just apply exponents to features but also looks at interaction terms $x_i^n x_j^m$. For example, applying `PolynomialFeatures(degree=2)` to the following linear model:\n",
    "\n",
    "$$ y = \\beta_0 + \\beta_1 x_1 + \\beta_2 x_2 $$\n",
    "\n",
    "will result in:\n",
    "\n",
    "$$ y = \\beta_0 + \\beta_1 x_1 + \\beta_2 x_2 + \\beta_3 x_1^2 + \\beta_4 x_2^2 + \\beta_5 x_1 x_2$$\n",
    "\n",
    "`PolynomialFeatures` will generate all interaction terms where the sum of the exponents is less than or equal to `degree`. So applying `PolynomialFeatures(degree=3)` to the linear model above results in:\n",
    "\n",
    "$$ \n",
    "\\begin{aligned}\n",
    "y = \\beta_0 &+ \\beta_1 x_1 + \\beta_2 x_2\\\\\n",
    "            &+ \\beta_3 x_1^2 + \\beta_4 x_2^2\\\\\n",
    "            &+ \\beta_5 x_1 x_2\\\\\n",
    "            &+ \\beta_6 x_1^3 + \\beta_7 x_2^3\\\\\n",
    "            &+ \\beta_7 x_1^2 x_2 + \\beta_8 x_2^2 x_1\\\\\n",
    "\\end{aligned}\n",
    "$$\n",
    "\n",
    "Keep this in mind when generating polynomial expansions: the number of resulting features can become computationally problematic if `degree` is too large. For example, if we start with 10 features, a polynomial expansion with `degree=4` will result in 1000 features:"
   ]
  },
  {
   "cell_type": "code",
   "execution_count": 164,
   "id": "0c0561dc",
   "metadata": {
    "scrolled": true
   },
   "outputs": [
    {
     "data": {
      "text/plain": [
       "array([[-3,  1, -3, -3, -3,  1, -2, -2,  3, -3],\n",
       "       [-4,  2, -3,  0, -4,  0,  4,  3, -5, -4],\n",
       "       [ 0, -5, -1,  4,  1, -3, -2, -5,  1,  0],\n",
       "       [-1,  1,  3, -4,  1,  2,  1, -4,  1, -3],\n",
       "       [-2, -4, -2, -5,  1, -3,  2,  2,  1,  2]])"
      ]
     },
     "execution_count": 164,
     "metadata": {},
     "output_type": "execute_result"
    }
   ],
   "source": [
    "x_1d = np.random.randint(low=-5, high=5, size=(5, 10))\n",
    "x_1d"
   ]
  },
  {
   "cell_type": "code",
   "execution_count": 167,
   "id": "8ae1d880",
   "metadata": {},
   "outputs": [
    {
     "data": {
      "text/plain": [
       "(5, 10)"
      ]
     },
     "execution_count": 167,
     "metadata": {},
     "output_type": "execute_result"
    }
   ],
   "source": [
    "x_1d.shape"
   ]
  },
  {
   "cell_type": "code",
   "execution_count": 165,
   "id": "765288e7",
   "metadata": {},
   "outputs": [
    {
     "data": {
      "text/plain": [
       "(5, 1001)"
      ]
     },
     "execution_count": 165,
     "metadata": {},
     "output_type": "execute_result"
    }
   ],
   "source": [
    "x_poly = PolynomialFeatures(degree=4).fit_transform(x_1d)\n",
    "x_poly.shape"
   ]
  },
  {
   "cell_type": "code",
   "execution_count": 166,
   "id": "d1a1bcf2",
   "metadata": {},
   "outputs": [
    {
     "name": "stdout",
     "output_type": "stream",
     "text": [
      "Original shape:    (5, 10)\n",
      "Transformed shape: (5, 1001)\n",
      "Interaction Only Transformed shape: (5, 386)\n"
     ]
    }
   ],
   "source": [
    "x_1d = np.random.randint(low=-5, high=5, size=(5, 10))\n",
    "x_poly = PolynomialFeatures(degree=4).fit_transform(x_1d)\n",
    "print(\"Original shape:    {}\".format(x_1d.shape))\n",
    "print(\"Transformed shape: {}\".format(x_poly.shape))\n",
    "\n",
    "# set interaction_only = True only creates x_i * x_j for i != j\n",
    "x_poly_inter = PolynomialFeatures(degree=4, interaction_only = True).fit_transform(x_1d)\n",
    "print(\"Interaction Only Transformed shape: {}\".format(x_poly_inter.shape))"
   ]
  },
  {
   "cell_type": "markdown",
   "id": "e6776b5b",
   "metadata": {},
   "source": [
    "## Best Practice for Machine Learning\n",
    "In the previous examples and exercises, we have assessed the performance of the trained model on the data it was trained on. This is problematic, as we have no guarantee that the model will capture the true relationship between the features and target values. Consider the following example:\n",
    "\n",
    "<center><img src=\"../images/overfitting.png\" /></center>\n",
    "\n",
    "The black dots represent the raw input data and the two lines represent two models trained on this data.\n",
    "\n",
    "- The blue line perfectly predicts the target value for each data point. This model has a perfect performance, i.e. $R^2 = 1$, when assessed on the training data. However, it clearly does not capture the true relationship between the feature and the target value.\n",
    "- The black line, although not a perfect fit, i.e. $R^2 < 1$, much more accurately describes the true relationship between feature and target.\n",
    "\n",
    "To avoid this phenomenon, called **overfitting**, we can split our data into a training and a test data set. This allows us to train the model on one part of the data and then assess its performance on data it has never seen to determine how well it generalizes to new data.\n",
    "\n",
    "We can use the `sklearn.model_selection.train_test_split` function to divide the data into 2 sets for us. "
   ]
  },
  {
   "cell_type": "code",
   "execution_count": 168,
   "id": "fa99c108",
   "metadata": {},
   "outputs": [],
   "source": [
    "from sklearn.model_selection import train_test_split"
   ]
  },
  {
   "cell_type": "code",
   "execution_count": 169,
   "id": "7d59ad6c",
   "metadata": {},
   "outputs": [],
   "source": [
    "# Generate random data\n",
    "rng = np.random.RandomState(42)\n",
    "X = 10 * rng.rand(100, 3)\n",
    "y = 0.5 + np.dot(X, [1.5, -2., 1.]) + np.random.randn(100)"
   ]
  },
  {
   "cell_type": "code",
   "execution_count": 170,
   "id": "e5512352",
   "metadata": {},
   "outputs": [
    {
     "name": "stdout",
     "output_type": "stream",
     "text": [
      "X.shape (100, 3)\n",
      "y.shape (100,)\n"
     ]
    }
   ],
   "source": [
    "print(\"X.shape\", X.shape)\n",
    "print(\"y.shape\", y.shape)"
   ]
  },
  {
   "cell_type": "code",
   "execution_count": 171,
   "id": "13a16743",
   "metadata": {},
   "outputs": [],
   "source": [
    "X_train, X_test, y_train, y_test = train_test_split(X, y, test_size=0.25)"
   ]
  },
  {
   "cell_type": "code",
   "execution_count": 172,
   "id": "bfb3e0db",
   "metadata": {},
   "outputs": [
    {
     "name": "stdout",
     "output_type": "stream",
     "text": [
      "X_train.shape (75, 3)\n",
      "y_train.shape (75,)\n",
      "X_test.shape (25, 3)\n",
      "y_test.shape (25,)\n"
     ]
    }
   ],
   "source": [
    "print(\"X_train.shape\", X_train.shape)\n",
    "print(\"y_train.shape\", y_train.shape)\n",
    "print(\"X_test.shape\", X_test.shape)\n",
    "print(\"y_test.shape\", y_test.shape)"
   ]
  },
  {
   "cell_type": "code",
   "execution_count": 173,
   "id": "3917e072",
   "metadata": {},
   "outputs": [
    {
     "name": "stdout",
     "output_type": "stream",
     "text": [
      "Intercept: 0.8884378466445928\n",
      "Slope:     [ 1.44218794 -2.04659793  1.02453991]\n"
     ]
    }
   ],
   "source": [
    "model = LinearRegression().fit(X_train, y_train)\n",
    "print(\"Intercept: {}\".format(model.intercept_))\n",
    "print(\"Slope:     {}\".format(model.coef_))"
   ]
  },
  {
   "cell_type": "code",
   "execution_count": 174,
   "id": "b6f74944",
   "metadata": {},
   "outputs": [
    {
     "name": "stdout",
     "output_type": "stream",
     "text": [
      "Train R2 Score: 0.9856224019215895\n",
      "Test R2 Score:  0.9738315278503855\n"
     ]
    }
   ],
   "source": [
    "y_train_pred = model.predict(X_train)\n",
    "y_test_pred = model.predict(X_test)\n",
    "r2_train = r2_score(y_train, y_train_pred)\n",
    "r2_test = r2_score(y_test, y_test_pred)\n",
    "print(\"Train R2 Score: {}\".format(r2_train))\n",
    "print(\"Test R2 Score:  {}\".format(r2_test))"
   ]
  },
  {
   "cell_type": "markdown",
   "id": "b36a4ea5",
   "metadata": {},
   "source": [
    "### train-test split in one cell"
   ]
  },
  {
   "cell_type": "code",
   "execution_count": 175,
   "id": "e7b9c117",
   "metadata": {},
   "outputs": [
    {
     "name": "stdout",
     "output_type": "stream",
     "text": [
      "X.shape (100, 3)\n",
      "y.shape (100,)\n",
      "X_train.shape (75, 3)\n",
      "y_train.shape (75,)\n",
      "X_test.shape (25, 3)\n",
      "y_test.shape (25,)\n",
      "Intercept: 0.7910543974829567\n",
      "Slope:     [ 1.47925651 -1.99290372  0.92413227]\n",
      "Train R2 Score: 0.9878030324500066\n",
      "Test R2 Score:  0.9707588434928615\n"
     ]
    }
   ],
   "source": [
    "# Generate random data\n",
    "rng = np.random.RandomState(42)\n",
    "X = 10 * rng.rand(100, 3)\n",
    "y = 0.5 + np.dot(X, [1.5, -2., 1.]) + np.random.randn(100)\n",
    "\n",
    "print(\"X.shape\", X.shape)\n",
    "print(\"y.shape\", y.shape)\n",
    "\n",
    "X_train, X_test, y_train, y_test = train_test_split(X, y, test_size=0.25)\n",
    "\n",
    "print(\"X_train.shape\", X_train.shape)\n",
    "print(\"y_train.shape\", y_train.shape)\n",
    "print(\"X_test.shape\", X_test.shape)\n",
    "print(\"y_test.shape\", y_test.shape)\n",
    "\n",
    "model = LinearRegression().fit(X_train, y_train)\n",
    "print(\"Intercept: {}\".format(model.intercept_))\n",
    "print(\"Slope:     {}\".format(model.coef_))\n",
    "\n",
    "y_train_pred = model.predict(X_train)\n",
    "y_test_pred = model.predict(X_test)\n",
    "r2_train = r2_score(y_train, y_train_pred)\n",
    "r2_test = r2_score(y_test, y_test_pred)\n",
    "print(\"Train R2 Score: {}\".format(r2_train))\n",
    "print(\"Test R2 Score:  {}\".format(r2_test))"
   ]
  },
  {
   "cell_type": "markdown",
   "id": "1ada9512",
   "metadata": {},
   "source": [
    "### Exercise - Train and test the advertising dataset\n",
    "\n",
    "Train a multiple linear regression on the advertising dataset as above, but this time reserve a fraction of the data as a test set to assess the performance. Do this with the following splits:\n",
    "- Training: 50%, Test: 50%\n",
    "- Training 95%, Test: 5%\n",
    "- Training 5%, Test: 95%\n",
    "\n",
    "Hint: The `test_size` argument of `train_test_split` takes a number between 0 and 1 indicating the relative size of the test set, e.g. 0.3 corresponds to \"Reserve 30% of the data as a test set\""
   ]
  },
  {
   "cell_type": "code",
   "execution_count": 181,
   "id": "a0b539db",
   "metadata": {},
   "outputs": [],
   "source": [
    "X = sales[[\"TV\", \"radio\", \"newspaper\"]]\n",
    "y = sales[\"sales\"]"
   ]
  },
  {
   "cell_type": "code",
   "execution_count": 182,
   "id": "55c7d35a",
   "metadata": {},
   "outputs": [
    {
     "name": "stdout",
     "output_type": "stream",
     "text": [
      "=== Test Size 50% ===\n",
      "   R2 Train: 0.883\n",
      "   R2 Test:  0.909\n",
      "=====================\n"
     ]
    }
   ],
   "source": [
    "#Training: 50%, Test: 50%\n",
    "X_train, X_test, y_train, y_test = train_test_split(X, y, test_size=0.5, random_state=101)\n",
    "\n",
    "model = LinearRegression().fit(X_train, y_train)\n",
    "\n",
    "r2_train = r2_score(y_train, model.predict(X_train))\n",
    "r2_test = r2_score(y_test, model.predict(X_test))\n",
    "\n",
    "print(\"=== Test Size 50% ===\")\n",
    "print(\"   R2 Train: {:.3f}\".format(r2_train))\n",
    "print(\"   R2 Test:  {:.3f}\".format(r2_test))\n",
    "print(\"=====================\")    "
   ]
  },
  {
   "cell_type": "code",
   "execution_count": 183,
   "id": "36af87ad",
   "metadata": {},
   "outputs": [
    {
     "name": "stdout",
     "output_type": "stream",
     "text": [
      "=== Test Size 50% ===\n",
      "   R2 Train: 0.893\n",
      "   R2 Test:  0.987\n",
      "=====================\n"
     ]
    }
   ],
   "source": [
    "#Training 95%, Test: 5%\n",
    "\n",
    "X_train, X_test, y_train, y_test = train_test_split(X, y, test_size=0.05, random_state=101)\n",
    "\n",
    "model = LinearRegression().fit(X_train, y_train)\n",
    "\n",
    "r2_train = r2_score(y_train, model.predict(X_train))\n",
    "r2_test = r2_score(y_test, model.predict(X_test))\n",
    "\n",
    "print(\"=== Test Size 50% ===\")\n",
    "print(\"   R2 Train: {:.3f}\".format(r2_train))\n",
    "print(\"   R2 Test:  {:.3f}\".format(r2_test))\n",
    "print(\"=====================\")    "
   ]
  },
  {
   "cell_type": "code",
   "execution_count": 184,
   "id": "77b0f938",
   "metadata": {},
   "outputs": [
    {
     "name": "stdout",
     "output_type": "stream",
     "text": [
      "=== Test Size 50% ===\n",
      "   R2 Train: 0.970\n",
      "   R2 Test:  0.601\n",
      "=====================\n"
     ]
    }
   ],
   "source": [
    "#Training 5%, Test: 95%\n",
    "X_train, X_test, y_train, y_test = train_test_split(X, y, test_size=0.95, random_state=101)\n",
    "\n",
    "model = LinearRegression().fit(X_train, y_train)\n",
    "\n",
    "r2_train = r2_score(y_train, model.predict(X_train))\n",
    "r2_test = r2_score(y_test, model.predict(X_test))\n",
    "\n",
    "print(\"=== Test Size 50% ===\")\n",
    "print(\"   R2 Train: {:.3f}\".format(r2_train))\n",
    "print(\"   R2 Test:  {:.3f}\".format(r2_test))\n",
    "print(\"=====================\")    "
   ]
  },
  {
   "cell_type": "markdown",
   "id": "9f209d50",
   "metadata": {},
   "source": [
    "## Explore sklearns datasets\n",
    "\n",
    "Sklearn provides both toy as well as real-world datasets: https://scikit-learn.org/stable/datasets/index.html.\n",
    "\n",
    "We can load these with the built-in `sklearn.datasets.load_*()` or `sklearn.datasets.fetch_*()` functions. Python will download these datasets if they are not already saved locally."
   ]
  },
  {
   "cell_type": "code",
   "execution_count": null,
   "id": "1bb53123",
   "metadata": {},
   "outputs": [],
   "source": [
    "diabetes = sklearn.datasets.load_diabetes()"
   ]
  },
  {
   "cell_type": "code",
   "execution_count": null,
   "id": "aaac50b1",
   "metadata": {},
   "outputs": [],
   "source": []
  },
  {
   "cell_type": "code",
   "execution_count": null,
   "id": "814d8028",
   "metadata": {},
   "outputs": [],
   "source": []
  },
  {
   "cell_type": "code",
   "execution_count": null,
   "id": "b6c0c441",
   "metadata": {},
   "outputs": [],
   "source": []
  },
  {
   "cell_type": "code",
   "execution_count": null,
   "id": "ec11083e",
   "metadata": {},
   "outputs": [],
   "source": []
  },
  {
   "cell_type": "markdown",
   "id": "bb0a6745",
   "metadata": {},
   "source": [
    "**Exercise - Boston Housing Data**\n",
    "\n",
    "We're going to predict housing prices\n",
    "\n",
    "1. Load the sklearn dataset of the Boston house prices. \n",
    "2. Use a multiple linear regression to predict housing prices\n",
    "    - Divide the data into a training and test data set (70% training/30% test split)\n",
    "    - Train a multiple linear regression model\n",
    "    - Assess the performance of the model using the $R^2$ score\n",
    "    - Play around with the train/test split size to see how the fit changes"
   ]
  },
  {
   "cell_type": "code",
   "execution_count": 185,
   "id": "6fba44cc",
   "metadata": {},
   "outputs": [
    {
     "name": "stdout",
     "output_type": "stream",
     "text": [
      "Keys in Boston dataset: dict_keys(['data', 'target', 'feature_names', 'DESCR', 'filename'])\n",
      ".. _boston_dataset:\n",
      "\n",
      "Boston house prices dataset\n",
      "---------------------------\n",
      "\n",
      "**Data Set Characteristics:**  \n",
      "\n",
      "    :Number of Instances: 506 \n",
      "\n",
      "    :Number of Attributes: 13 numeric/categorical predictive. Median Value (attribute 14) is usually the target.\n",
      "\n",
      "    :Attribute Information (in order):\n",
      "        - CRIM     per capita crime rate by town\n",
      "        - ZN       proportion of residential land zoned for lots over 25,000 sq.ft.\n",
      "        - INDUS    proportion of non-retail business acres per town\n",
      "        - CHAS     Charles River dummy variable (= 1 if tract bounds river; 0 otherwise)\n",
      "        - NOX      nitric oxides concentration (parts per 10 million)\n",
      "        - RM       average number of rooms per dwelling\n",
      "        - AGE      proportion of owner-occupied units built prior to 1940\n",
      "        - DIS      weighted distances to five Boston employment centres\n",
      "        - RAD      index of accessibility to radial highways\n",
      "        - TAX      full-value property-tax rate per $10,000\n",
      "        - PTRATIO  pupil-teacher ratio by town\n",
      "        - B        1000(Bk - 0.63)^2 where Bk is the proportion of blacks by town\n",
      "        - LSTAT    % lower status of the population\n",
      "        - MEDV     Median value of owner-occupied homes in $1000's\n",
      "\n",
      "    :Missing Attribute Values: None\n",
      "\n",
      "    :Creator: Harrison, D. and Rubinfeld, D.L.\n",
      "\n",
      "This is a copy of UCI ML housing dataset.\n",
      "https://archive.ics.uci.edu/ml/machine-learning-databases/housing/\n",
      "\n",
      "\n",
      "This dataset was taken from the StatLib library which is maintained at Carnegie Mellon University.\n",
      "\n",
      "The Boston house-price data of Harrison, D. and Rubinfeld, D.L. 'Hedonic\n",
      "prices and the demand for clean air', J. Environ. Economics & Management,\n",
      "vol.5, 81-102, 1978.   Used in Belsley, Kuh & Welsch, 'Regression diagnostics\n",
      "...', Wiley, 1980.   N.B. Various transformations are used in the table on\n",
      "pages 244-261 of the latter.\n",
      "\n",
      "The Boston house-price data has been used in many machine learning papers that address regression\n",
      "problems.   \n",
      "     \n",
      ".. topic:: References\n",
      "\n",
      "   - Belsley, Kuh & Welsch, 'Regression diagnostics: Identifying Influential Data and Sources of Collinearity', Wiley, 1980. 244-261.\n",
      "   - Quinlan,R. (1993). Combining Instance-Based and Model-Based Learning. In Proceedings on the Tenth International Conference of Machine Learning, 236-243, University of Massachusetts, Amherst. Morgan Kaufmann.\n",
      "\n"
     ]
    }
   ],
   "source": [
    "boston = sklearn.datasets.load_boston()\n",
    "print(\"Keys in Boston dataset: {}\".format(boston.keys()))\n",
    "print(boston.DESCR)"
   ]
  },
  {
   "cell_type": "code",
   "execution_count": null,
   "id": "2f191a63",
   "metadata": {},
   "outputs": [],
   "source": []
  },
  {
   "cell_type": "code",
   "execution_count": null,
   "id": "f8561383",
   "metadata": {},
   "outputs": [],
   "source": []
  },
  {
   "cell_type": "code",
   "execution_count": null,
   "id": "a1bb96de",
   "metadata": {},
   "outputs": [],
   "source": []
  },
  {
   "cell_type": "code",
   "execution_count": null,
   "id": "2541014d",
   "metadata": {},
   "outputs": [],
   "source": []
  },
  {
   "cell_type": "code",
   "execution_count": null,
   "id": "693c379c",
   "metadata": {},
   "outputs": [],
   "source": []
  },
  {
   "cell_type": "code",
   "execution_count": null,
   "id": "5b175593",
   "metadata": {},
   "outputs": [],
   "source": []
  },
  {
   "cell_type": "code",
   "execution_count": null,
   "id": "04af45f9",
   "metadata": {},
   "outputs": [],
   "source": []
  },
  {
   "cell_type": "code",
   "execution_count": null,
   "id": "fd9a3735",
   "metadata": {},
   "outputs": [],
   "source": []
  },
  {
   "cell_type": "code",
   "execution_count": null,
   "id": "6c1d397e",
   "metadata": {},
   "outputs": [],
   "source": []
  },
  {
   "cell_type": "code",
   "execution_count": null,
   "id": "7edfb275",
   "metadata": {},
   "outputs": [],
   "source": []
  },
  {
   "cell_type": "code",
   "execution_count": null,
   "id": "508535f5",
   "metadata": {},
   "outputs": [],
   "source": []
  },
  {
   "cell_type": "code",
   "execution_count": null,
   "id": "294419f3",
   "metadata": {},
   "outputs": [],
   "source": []
  },
  {
   "cell_type": "code",
   "execution_count": null,
   "id": "be86dc10",
   "metadata": {},
   "outputs": [],
   "source": []
  },
  {
   "cell_type": "code",
   "execution_count": null,
   "id": "c5e8f4bc",
   "metadata": {},
   "outputs": [],
   "source": []
  }
 ],
 "metadata": {
  "kernelspec": {
   "display_name": "Python 3 (ipykernel)",
   "language": "python",
   "name": "python3"
  },
  "language_info": {
   "codemirror_mode": {
    "name": "ipython",
    "version": 3
   },
   "file_extension": ".py",
   "mimetype": "text/x-python",
   "name": "python",
   "nbconvert_exporter": "python",
   "pygments_lexer": "ipython3",
   "version": "3.8.11"
  }
 },
 "nbformat": 4,
 "nbformat_minor": 5
}

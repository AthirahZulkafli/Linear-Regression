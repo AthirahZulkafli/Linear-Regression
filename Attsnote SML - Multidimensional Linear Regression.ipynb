{
 "cells": [
  {
   "cell_type": "markdown",
   "id": "10833be1",
   "metadata": {
    "tags": []
   },
   "source": [
    "# Supervised Machine Learning by @attzulkafli."
   ]
  },
  {
   "cell_type": "markdown",
   "id": "a1b359e1-2d7a-47f5-a431-016f0caf5708",
   "metadata": {},
   "source": [
    "## Multidimensional linear regression\n",
    "The ``LinearRegression`` estimator is much more capable than this, however—in addition to simple straight-line fits, it can also handle multidimensional linear models of the form\n",
    "\n",
    "$$y=\\beta_0+\\beta_1x_1+\\beta_2x_2+⋯+\\beta_nx_n$$\n",
    "\n",
    "where there are multiple $x$ values. Geometrically, this is akin to fitting a plane to points in three dimensions, or fitting a hyper-plane to points in higher dimensions.\n",
    "\n",
    "The multidimensional nature of such regressions makes them more difficult to visualize. Nonetheless, the general steps for fitting a model to data outlined for the one-dimensional case above remain the same."
   ]
  },
  {
   "cell_type": "markdown",
   "id": "3f9f7134-c6e2-4c97-a113-fa82c8bb15ca",
   "metadata": {},
   "source": [
    "$$y=\\beta_0+\\beta_1x_1+\\beta_2x_2+⋯+\\beta_nx_n$$\n",
    "Example for below\n",
    "$$y=c+1.5x_1-2x_2+x_n$$\n",
    "\n"
   ]
  },
  {
   "cell_type": "code",
   "execution_count": 4,
   "id": "81abd86a-620d-467c-8bc1-940f68d453a6",
   "metadata": {},
   "outputs": [],
   "source": [
    "import numpy as np\n",
    "from sklearn.linear_model import LinearRegression"
   ]
  },
  {
   "cell_type": "code",
   "execution_count": 8,
   "id": "527bf594-579d-4838-bb7c-9038b3fe2b24",
   "metadata": {},
   "outputs": [],
   "source": [
    "from sklearn.metrics import mean_squared_error\n",
    "from sklearn.metrics import r2_score"
   ]
  },
  {
   "cell_type": "code",
   "execution_count": 11,
   "id": "d0f7c956-1cd9-46a7-a5a4-a2e76dc2dcc9",
   "metadata": {},
   "outputs": [],
   "source": [
    "import pandas as pd"
   ]
  },
  {
   "cell_type": "code",
   "execution_count": 14,
   "id": "da66edc0-62e6-43c5-851b-b47e84e43dfc",
   "metadata": {},
   "outputs": [],
   "source": [
    "import matplotlib.pyplot as plt"
   ]
  },
  {
   "cell_type": "code",
   "execution_count": 5,
   "id": "dbf8ca58",
   "metadata": {},
   "outputs": [
    {
     "name": "stdout",
     "output_type": "stream",
     "text": [
      "Intercept:    0.38963135776138436\n",
      "Coefficients: [ 1.55248413 -2.03236311  1.002092  ]\n"
     ]
    }
   ],
   "source": [
    "rng = np.random.RandomState(1)\n",
    "X = 10 * rng.rand(100, 3)\n",
    "# b0 = 0.5, b1 = 1.5, b2 = -2, b3 = 1\n",
    "y = 0.5 + 1.5 * X[:, 0] - 2 * X[:, 1] + 1 * X[:, 2] + np.random.randn(100)\n",
    "\n",
    "#create and fit\n",
    "model = LinearRegression()\n",
    "model.fit(X, y)\n",
    "yfit=model.predict(X)\n",
    "\n",
    "print(\"Intercept:    {}\".format(model.intercept_))\n",
    "print(\"Coefficients: {}\".format(model.coef_))"
   ]
  },
  {
   "cell_type": "code",
   "execution_count": 6,
   "id": "90b89837",
   "metadata": {
    "scrolled": true
   },
   "outputs": [
    {
     "data": {
      "text/plain": [
       "(100, 3)"
      ]
     },
     "execution_count": 6,
     "metadata": {},
     "output_type": "execute_result"
    }
   ],
   "source": [
    "X.shape"
   ]
  },
  {
   "cell_type": "code",
   "execution_count": 9,
   "id": "cf49a9ff",
   "metadata": {
    "scrolled": true
   },
   "outputs": [
    {
     "name": "stdout",
     "output_type": "stream",
     "text": [
      "Intercept:    0.38963135776138436\n",
      "Coefficients: [ 1.55248413 -2.03236311  1.002092  ]\n",
      "MSE: 1.0105429202303846\n",
      "R-squares: 0.9853152882937759\n"
     ]
    }
   ],
   "source": [
    "print(\"Intercept:    {}\".format(model.intercept_))\n",
    "print(\"Coefficients: {}\".format(model.coef_))\n",
    "print(\"MSE: {}\". format(mean_squared_error(y,yfit)))\n",
    "print(\"R-squares: {}\". format(r2_score(y,yfit)))"
   ]
  },
  {
   "cell_type": "code",
   "execution_count": 10,
   "id": "458b879e",
   "metadata": {},
   "outputs": [
    {
     "name": "stdout",
     "output_type": "stream",
     "text": [
      "Coefficients: 1.5524841250643013\n"
     ]
    }
   ],
   "source": [
    "print(\"Coefficients: {}\".format(model.coef_[0]))"
   ]
  },
  {
   "cell_type": "markdown",
   "id": "1584a089",
   "metadata": {},
   "source": [
    "### Exercise - Effects of Advertising on Sales\n",
    "\n",
    "Imagine that your company wants to increase sales on a certain product. You cannot increase sales directly, but you can adjust advertising.\n",
    "\n",
    "The advertising dataset in the file `data/advertising.csv` contains information on money spent on advertising via various channels as well as revenue for a product. Each row represents a separate time interval, e.g. a week's worth of sales. For the sake of simplicity we'll ignore confounding factors like seasonality.\n",
    "\n",
    "The features are:\n",
    "- TV: advertising dollars spent on TV\n",
    "- Radio: advertising dollars spent on Radio\n",
    "- Newspaper: advertising dollars spent on Newspaper\n",
    "\n",
    "and the response is:\n",
    "- Sales: sales of a single product in a given market\n",
    "\n",
    "All numbers are in thousands of dollars, e.g. 14.4 is equivalent to \\$14,400."
   ]
  },
  {
   "cell_type": "code",
   "execution_count": 12,
   "id": "d4b54506",
   "metadata": {},
   "outputs": [
    {
     "data": {
      "text/html": [
       "<div>\n",
       "<style scoped>\n",
       "    .dataframe tbody tr th:only-of-type {\n",
       "        vertical-align: middle;\n",
       "    }\n",
       "\n",
       "    .dataframe tbody tr th {\n",
       "        vertical-align: top;\n",
       "    }\n",
       "\n",
       "    .dataframe thead th {\n",
       "        text-align: right;\n",
       "    }\n",
       "</style>\n",
       "<table border=\"1\" class=\"dataframe\">\n",
       "  <thead>\n",
       "    <tr style=\"text-align: right;\">\n",
       "      <th></th>\n",
       "      <th>TV</th>\n",
       "      <th>radio</th>\n",
       "      <th>newspaper</th>\n",
       "      <th>sales</th>\n",
       "    </tr>\n",
       "  </thead>\n",
       "  <tbody>\n",
       "    <tr>\n",
       "      <th>1</th>\n",
       "      <td>230.1</td>\n",
       "      <td>37.8</td>\n",
       "      <td>69.2</td>\n",
       "      <td>22.1</td>\n",
       "    </tr>\n",
       "    <tr>\n",
       "      <th>2</th>\n",
       "      <td>44.5</td>\n",
       "      <td>39.3</td>\n",
       "      <td>45.1</td>\n",
       "      <td>10.4</td>\n",
       "    </tr>\n",
       "    <tr>\n",
       "      <th>3</th>\n",
       "      <td>17.2</td>\n",
       "      <td>45.9</td>\n",
       "      <td>69.3</td>\n",
       "      <td>9.3</td>\n",
       "    </tr>\n",
       "    <tr>\n",
       "      <th>4</th>\n",
       "      <td>151.5</td>\n",
       "      <td>41.3</td>\n",
       "      <td>58.5</td>\n",
       "      <td>18.5</td>\n",
       "    </tr>\n",
       "    <tr>\n",
       "      <th>5</th>\n",
       "      <td>180.8</td>\n",
       "      <td>10.8</td>\n",
       "      <td>58.4</td>\n",
       "      <td>12.9</td>\n",
       "    </tr>\n",
       "  </tbody>\n",
       "</table>\n",
       "</div>"
      ],
      "text/plain": [
       "      TV  radio  newspaper  sales\n",
       "1  230.1   37.8       69.2   22.1\n",
       "2   44.5   39.3       45.1   10.4\n",
       "3   17.2   45.9       69.3    9.3\n",
       "4  151.5   41.3       58.5   18.5\n",
       "5  180.8   10.8       58.4   12.9"
      ]
     },
     "execution_count": 12,
     "metadata": {},
     "output_type": "execute_result"
    }
   ],
   "source": [
    "sales = pd.read_csv(\"../data/advertising.csv\", index_col=0)\n",
    "sales.head()"
   ]
  },
  {
   "cell_type": "code",
   "execution_count": 15,
   "id": "2be2822c",
   "metadata": {},
   "outputs": [
    {
     "name": "stdout",
     "output_type": "stream",
     "text": [
      "TV ad intercept: 7.032593549127693\n",
      "TV ad slope:     0.047536640433019764\n",
      "R2 for TV:       0.611875050850071\n"
     ]
    },
    {
     "data": {
      "image/png": "[encoded data removed]",
      "text/plain": [
       "<Figure size 432x288 with 1 Axes>"
      ]
     },
     "metadata": {
      "needs_background": "light"
     },
     "output_type": "display_data"
    }
   ],
   "source": [
    "model_tv = LinearRegression().fit(sales[[\"TV\"]], sales[\"sales\"])\n",
    "print(\"TV ad intercept: {}\".format(model_tv.intercept_))\n",
    "print(\"TV ad slope:     {}\".format(model_tv.coef_[0]))\n",
    "\n",
    "r2score_tv = r2_score(sales[\"sales\"], model_tv.predict(sales[[\"TV\"]]))\n",
    "print(\"R2 for TV:       {}\".format(r2score_tv))\n",
    "\n",
    "sales.plot(x=\"TV\", y=\"sales\", kind=\"scatter\")\n",
    "plt.plot(sales[[\"TV\"]], model_tv.predict(sales[[\"TV\"]]), c='red');"
   ]
  },
  {
   "cell_type": "code",
   "execution_count": 16,
   "id": "f058caea",
   "metadata": {
    "scrolled": true
   },
   "outputs": [
    {
     "name": "stdout",
     "output_type": "stream",
     "text": [
      "Radio ad intercept: 9.311638095158283\n",
      "Radio ad slope:     [0.20249578]\n",
      "R2 for Radio:       0.33203245544529525\n"
     ]
    },
    {
     "data": {
      "image/png": "[encoded data removed]",
      "text/plain": [
       "<Figure size 432x288 with 1 Axes>"
      ]
     },
     "metadata": {
      "needs_background": "light"
     },
     "output_type": "display_data"
    }
   ],
   "source": [
    "model_radio = LinearRegression().fit(sales[[\"radio\"]], sales[\"sales\"])\n",
    "r2score_radio = r2_score(sales[\"sales\"],model_radio.predict(sales[[\"radio\"]]))\n",
    "\n",
    "sales.plot(\"radio\", \"sales\", \"scatter\")\n",
    "plt.plot(sales[[\"radio\"]], model_radio.predict(sales[[\"radio\"]]), 'red');\n",
    "\n",
    "print(\"Radio ad intercept: {}\".format(model_radio.intercept_))\n",
    "print(\"Radio ad slope:     {}\".format(model_radio.coef_))\n",
    "print(\"R2 for Radio:       {}\".format(r2score_radio))"
   ]
  },
  {
   "cell_type": "code",
   "execution_count": 23,
   "id": "4f3935ef",
   "metadata": {},
   "outputs": [
    {
     "name": "stdout",
     "output_type": "stream",
     "text": [
      "Newspaper ad intercept: 12.35140706927816\n",
      "Newspaper ad slope:     [0.0546931]\n",
      "R2 for newspaper:       0.05212044544430516\n"
     ]
    },
    {
     "data": {
      "image/png": "[encoded data removed]",
      "text/plain": [
       "<Figure size 432x288 with 1 Axes>"
      ]
     },
     "metadata": {
      "needs_background": "light"
     },
     "output_type": "display_data"
    }
   ],
   "source": [
    "model_np = LinearRegression().fit(sales[[\"newspaper\"]], sales[\"sales\"])\n",
    "r2score_np = r2_score(sales[\"sales\"],model_np.predict(sales[[\"newspaper\"]]))\n",
    "\n",
    "sales.plot(\"newspaper\", \"sales\", \"scatter\")\n",
    "plt.plot(sales[[\"newspaper\"]], model_np.predict(sales[[\"newspaper\"]]), 'red');\n",
    "\n",
    "print(\"Newspaper ad intercept: {}\".format(model_np.intercept_))\n",
    "print(\"Newspaper ad slope:     {}\".format(model_np.coef_))\n",
    "print(\"R2 for newspaper:       {}\".format(r2score_np))"
   ]
  },
  {
   "cell_type": "code",
   "execution_count": 17,
   "id": "cac9427a",
   "metadata": {},
   "outputs": [
    {
     "name": "stdout",
     "output_type": "stream",
     "text": [
      "TV ad intercept: 7.032593549127693\n",
      "TV ad slope:     [0.04753664]\n",
      "R2 for TV:       0.611875050850071\n"
     ]
    },
    {
     "data": {
      "image/png": "[encoded data removed]",
      "text/plain": [
       "<Figure size 432x288 with 1 Axes>"
      ]
     },
     "metadata": {
      "needs_background": "light"
     },
     "output_type": "display_data"
    }
   ],
   "source": [
    "# you can do this too / alternative\n",
    "\n",
    "X=sales[[\"TV\"]]\n",
    "Y=sales[\"sales\"]\n",
    "\n",
    "model_tv = LinearRegression()\n",
    "model_tv.fit(X,Y)\n",
    "print(\"TV ad intercept: {}\".format(model_tv.intercept_))\n",
    "print(\"TV ad slope:     {}\".format(model_tv.coef_))\n",
    "\n",
    "\n",
    "yfit = model_tv.predict(X)\n",
    "r2score_tv = r2_score(Y,yfit)\n",
    "print(\"R2 for TV:       {}\".format(r2score_tv))\n",
    "\n",
    "plt.scatter(X,Y)\n",
    "plt.xlabel(\"TV ad cost\")\n",
    "plt.ylabel(\"Sales\");\n",
    "plt.plot(X, yfit, c='red');"
   ]
  },
  {
   "cell_type": "markdown",
   "id": "80008957",
   "metadata": {},
   "source": [
    "**Discussion questions:**\n",
    "\n",
    "#### Which ad types have the strongest and weakest influence on sales?\n",
    "\n",
    "The R2 score indicates how good a fit is and therefore how strong a feature's influence is.\n",
    "A low R2 score means that the model is extremely unreliable and a large fraction of the variation\n",
    "in the target values (i.e. sales) cannot be explained by the model. That means even if we \n",
    "increased the budget for newspaper ads, we can't be sure that would actually lead to an \n",
    "increase in sales. A look at the plot above shows that there is virtually no correlation between \n",
    "sales and newspaper ad budget.\n",
    "\n",
    "On the other hand, the budget for TV predict sales quite accurately, i.e. the model trained only on \n",
    "the TV ad budget explains a large fraction of the variance in the sales numbers. We can be reasonably\n",
    "certain that an increase in the TV ad budget will lead to an increase in sales.\n",
    "\n",
    "\n",
    "#### For each ad type, how much is the expected sales given an additional budget of 10 thousand dollar for that ad type?\n",
    "\n",
    "If the target value, sales, is expressed as\n",
    "sales = intercept_ + coef_ * ad_budget\n",
    "then the slope (coef_) indicates how much the sales value changes when ad_budget changes.\n",
    "The increase in expected sales can be determined via\n",
    "\n",
    "  sales = intercept_ + coef_ * (ad_budget + 10)\n",
    "  \n",
    "        = intercept_ + coef_ * ad_budget + 10 * coef_\n",
    "        \n",
    "        \n",
    "So that an increase of 10k in an advertisement's budget leads to an increase of 10 * coef_ in sales"
   ]
  },
  {
   "cell_type": "code",
   "execution_count": 20,
   "id": "b4d32583",
   "metadata": {},
   "outputs": [],
   "source": [
    "sale_pred1 = model_tv.intercept_ +  model_tv.coef_*X\n",
    "sale_pred2 = sale_pred1 + model_tv.coef_*10"
   ]
  },
  {
   "cell_type": "code",
   "execution_count": 25,
   "id": "a70b52d2-85b9-45c5-b3e8-deb3bade8228",
   "metadata": {},
   "outputs": [
    {
     "data": {
      "text/plain": [
       "array([0.4753664])"
      ]
     },
     "execution_count": 25,
     "metadata": {},
     "output_type": "execute_result"
    }
   ],
   "source": [
    "# for TV\n",
    "model_tv.coef_ * (10)       # increase"
   ]
  },
  {
   "cell_type": "code",
   "execution_count": 21,
   "id": "8560e789",
   "metadata": {},
   "outputs": [
    {
     "data": {
      "text/plain": [
       "array([2.02495783])"
      ]
     },
     "execution_count": 21,
     "metadata": {},
     "output_type": "execute_result"
    }
   ],
   "source": [
    "# for radio\n",
    "model_radio.coef_ * (10)       # increase"
   ]
  },
  {
   "cell_type": "code",
   "execution_count": 24,
   "id": "cece3597",
   "metadata": {},
   "outputs": [
    {
     "data": {
      "text/plain": [
       "array([0.54693098])"
      ]
     },
     "execution_count": 24,
     "metadata": {},
     "output_type": "execute_result"
    }
   ],
   "source": [
    "# for newspaper\n",
    "model_np.coef_ * (10)       # increase"
   ]
  },
  {
   "cell_type": "markdown",
   "id": "ca741d7f-1f4c-4724-8dc1-836bfadc0b6f",
   "metadata": {},
   "source": [
    "Let's see if we can improve the model performance with a multiple linear regression\n",
    "- Train a multiple linear regression model on all ad types simultaneously. How well does it perform?\n",
    "- How do the coefficients change versus the simple linear regression?"
   ]
  },
  {
   "cell_type": "code",
   "execution_count": 26,
   "id": "98b04d15",
   "metadata": {},
   "outputs": [
    {
     "name": "stdout",
     "output_type": "stream",
     "text": [
      "R2 of MLR:        0.8972106381789522\n",
      "\n",
      "TV ad SLR:        0.047536640433019764\n",
      "TV ad MLR:        0.04576464545539761\n",
      "\n",
      "Radio ad SLR:     0.20249578339243965\n",
      "Radio ad MLR:     0.18853001691820462\n",
      "\n",
      "Newspaper ad SLR: 0.05469309847227336\n",
      "Newspaper ad MLR: -0.0010374930424762972\n"
     ]
    }
   ],
   "source": [
    "# MC\n",
    "model = LinearRegression().fit(sales[[\"TV\", \"radio\", \"newspaper\"]], sales[\"sales\"])\n",
    "\n",
    "r2score = r2_score(sales[\"sales\"], model.predict(sales[[\"TV\", \"radio\", \"newspaper\"]]))\n",
    "print(\"R2 of MLR:        {}\".format(r2score))\n",
    "print()\n",
    "print(\"TV ad SLR:        {}\".format(model_tv.coef_[0]))\n",
    "print(\"TV ad MLR:        {}\".format(model.coef_[0]))\n",
    "print()\n",
    "print(\"Radio ad SLR:     {}\".format(model_radio.coef_[0]))\n",
    "print(\"Radio ad MLR:     {}\".format(model.coef_[1]))\n",
    "print()\n",
    "print(\"Newspaper ad SLR: {}\".format(model_np.coef_[0]))\n",
    "print(\"Newspaper ad MLR: {}\".format(model.coef_[2]))"
   ]
  },
  {
   "cell_type": "markdown",
   "id": "aa76afeb",
   "metadata": {},
   "source": [
    "- What are the expected sales given a new budget of TV=100, Radio=25 and Newspaper=25?"
   ]
  },
  {
   "cell_type": "code",
   "execution_count": 80,
   "id": "b142a6a4",
   "metadata": {},
   "outputs": [
    {
     "data": {
      "text/plain": [
       "array([12.20266701])"
      ]
     },
     "execution_count": 80,
     "metadata": {},
     "output_type": "execute_result"
    }
   ],
   "source": [
    "model.predict(X=[[100, 25, 25]])"
   ]
  },
  {
   "cell_type": "markdown",
   "id": "b499cd5f",
   "metadata": {},
   "source": [
    "# Feature Scaling\n",
    "\n",
    "\n",
    "#### Standardisation:\n",
    "\n",
    "$$x_{scaled} = \\frac{x - \\bar {x}}{s}$$\n",
    "\n",
    "Where $\\bar{x} =  mean(x)$, and $s = std(x)$.\n",
    "\n",
    "Therefore, $mean(x_{scaled}) = 0$ , and $std(x_{scaled}) = 1$. \n",
    "In case of presence of outliers for the feature x, this method is not helpful to set the range of $x_{scaled}$. \n",
    "\n",
    "\n",
    "#### Min-Max Scaling: \n",
    "\n",
    "$$x_{scaled}=\\frac{x-x_{min}}{x_{max} - x_{min}} $$\n",
    "\n",
    "Therefore, $range(x_{scaled}) = [0 , 1]$\n",
    "\n",
    "\n",
    "#### Mapping to a Gaussian distribution, PowerTransformer:\n",
    "\n",
    "PowerTransformer aims to map data from any distribution to as close to a Gaussian (Normal) distribution as possible in order to stabilize variance and minimize skewness. In general, you'll only want to normalize your data if you're going to use a machine learning or statistics technique that assumes your data is normally distributed. Some examples of these include t-tests, ANOVAs, linear regression, and Gaussian naive Bayes. \n",
    "\n",
    "\n",
    "### Feature Scaling in Python:\n",
    "\n",
    "For each scaling methods \"Standardisation\" and Min-Max Scaling, we can call the relevant methods from `sklearn.preprocessing`. \n",
    "\n",
    "\n",
    "#### Standardisation in Python:\n",
    "\n",
    "`from sklearn.preprocessing import StandardScaler`\n",
    "\n",
    "`scaler = StandardScaler().fit(x)`\n",
    "\n",
    "`x_scaled = scaler.transform(x)`\n",
    "\n",
    "\n",
    "#### Min-Max Scaling in Python: \n",
    "\n",
    "`from sklearn.preprocessing import MinMaxScaler`\n",
    "\n",
    "`scaler = MinMaxScaler().fit(x)`\n",
    "\n",
    "`x_scaled = scaler.transform(x)`\n",
    "\n",
    "\n",
    "#### Mapping to a Gaussian distribution, PowerTransformer:\n",
    "\n",
    "`from sklearn.preprocessing import PowerTransformer`\n",
    "\n",
    "`pt = PowerTransformer(method='box-cox', standardize=True)`\n",
    "\n",
    "In PowerTransformer, you need to set the hyperparameter `method='box-cox'` if the data is positive. For negative data you need to set `method='yeo-johnson'`. Hyperparameter `standardize=True` applies zero-mean, unit-variance normalization to the transformed output.\n",
    "\n",
    "`x_scaled = pt.fit_transform(x)` "
   ]
  },
  {
   "cell_type": "code",
   "execution_count": 28,
   "id": "44408163-cff3-4ff9-8a49-893de5747d30",
   "metadata": {},
   "outputs": [],
   "source": [
    "from sklearn.preprocessing import StandardScaler, MinMaxScaler, PowerTransformer "
   ]
  },
  {
   "cell_type": "code",
   "execution_count": 29,
   "id": "d1d133fa-14f9-4783-a238-8695a31ba2e3",
   "metadata": {},
   "outputs": [],
   "source": [
    "import seaborn as sns"
   ]
  },
  {
   "cell_type": "code",
   "execution_count": 30,
   "id": "5a58e718",
   "metadata": {
    "scrolled": true
   },
   "outputs": [
    {
     "name": "stderr",
     "output_type": "stream",
     "text": [
      "C:\\ProgramData\\Anaconda3\\lib\\site-packages\\seaborn\\distributions.py:2619: FutureWarning: `distplot` is a deprecated function and will be removed in a future version. Please adapt your code to use either `displot` (a figure-level function with similar flexibility) or `histplot` (an axes-level function for histograms).\n",
      "  warnings.warn(msg, FutureWarning)\n",
      "C:\\ProgramData\\Anaconda3\\lib\\site-packages\\seaborn\\distributions.py:2619: FutureWarning: `distplot` is a deprecated function and will be removed in a future version. Please adapt your code to use either `displot` (a figure-level function with similar flexibility) or `histplot` (an axes-level function for histograms).\n",
      "  warnings.warn(msg, FutureWarning)\n",
      "C:\\ProgramData\\Anaconda3\\lib\\site-packages\\seaborn\\distributions.py:2619: FutureWarning: `distplot` is a deprecated function and will be removed in a future version. Please adapt your code to use either `displot` (a figure-level function with similar flexibility) or `histplot` (an axes-level function for histograms).\n",
      "  warnings.warn(msg, FutureWarning)\n",
      "C:\\ProgramData\\Anaconda3\\lib\\site-packages\\seaborn\\distributions.py:2619: FutureWarning: `distplot` is a deprecated function and will be removed in a future version. Please adapt your code to use either `displot` (a figure-level function with similar flexibility) or `histplot` (an axes-level function for histograms).\n",
      "  warnings.warn(msg, FutureWarning)\n"
     ]
    },
    {
     "data": {
      "image/png": "[encoded data removed]",
      "text/plain": [
       "<Figure size 720x1080 with 4 Axes>"
      ]
     },
     "metadata": {
      "needs_background": "light"
     },
     "output_type": "display_data"
    }
   ],
   "source": [
    "# set seed for reproducibility\n",
    "np.random.seed(0)\n",
    "\n",
    "# generate 1000 data points randomly drawn from an exponential distribution\n",
    "original_data = np.random.exponential(size = 1000)[:,np.newaxis]\n",
    "\n",
    "# StandardScaler scale the datba between 0 and 1\n",
    "scaler_std = StandardScaler().fit(original_data)\n",
    "scaled_std = scaler_std.transform(original_data)\n",
    "\n",
    "# MinMaxScaler scale the data between 0 and 1\n",
    "scaler_Mm = MinMaxScaler().fit(original_data)\n",
    "scaled_Mm = scaler_Mm.transform(original_data)\n",
    "\n",
    "# MinMaxScaler scale the data between 0 and 1\n",
    "scaler_PT = PowerTransformer().fit(original_data)\n",
    "scaled_PT = scaler_PT.transform(original_data)\n",
    "\n",
    "# plot both together to compare\n",
    "fig, ax=plt.subplots(4,1)\n",
    "fig.set_size_inches(10, 15)\n",
    "\n",
    "sns.distplot(original_data, ax=ax[0])\n",
    "ax[0].vlines(np.mean(original_data), ymin = 0, ymax = 1, \n",
    "                               color = 'orange', label = 'mean')\n",
    "ax[0].vlines(np.median(original_data), ymin = 0, ymax = 1, \n",
    "                            color = 'red', label = 'median')\n",
    "ax[0].vlines(np.mean(original_data) - np.std(original_data, ddof = 1), ymin = 0, ymax = 1, \n",
    "                               color = 'green', label = '1-std below')\n",
    "ax[0].vlines(np.mean(original_data) + np.std(original_data, ddof = 1), ymin = 0, ymax = 1, \n",
    "                               color = 'purple', label = '1-std above')\n",
    "ax[0].set_title(\"Original Data\")\n",
    "\n",
    "\n",
    "sns.distplot(scaled_std, ax=ax[1])\n",
    "ax[1].set_title(\"StandardScaler: Scaled data\")\n",
    "ax[1].vlines(np.mean(scaled_std), ymin = 0, ymax = 1, \n",
    "                               color = 'orange', label = 'mean')\n",
    "ax[1].vlines(np.median(scaled_std), ymin = 0, ymax = 1, \n",
    "                            color = 'red', label = 'median')\n",
    "ax[1].vlines(np.mean(scaled_std) - np.std(scaled_std, ddof = 1), ymin = 0, ymax = 1, \n",
    "                               color = 'green', label = '1-std below')\n",
    "ax[1].vlines(np.mean(scaled_std) + np.std(scaled_std, ddof = 1), ymin = 0, ymax = 1, \n",
    "                               color = 'purple', label = '1-std above')\n",
    "\n",
    "\n",
    "sns.distplot(scaled_Mm, ax=ax[2])\n",
    "ax[2].set_title(\"MinMaxScaler: Scaled data\")\n",
    "ax[2].vlines(np.mean(scaled_Mm), ymin = 0, ymax = 8, \n",
    "                               color = 'orange', label = 'mean')\n",
    "ax[2].vlines(np.median(scaled_Mm), ymin = 0, ymax = 8, \n",
    "                            color = 'red', label = 'median')\n",
    "ax[2].vlines(np.mean(scaled_Mm) - np.std(scaled_Mm, ddof = 1), ymin = 0, ymax = 8, \n",
    "                               color = 'green', label = '1-std below')\n",
    "ax[2].vlines(np.mean(scaled_Mm) + np.std(scaled_Mm, ddof = 1), ymin = 0, ymax = 8, \n",
    "                               color = 'purple', label = '1-std above')\n",
    "\n",
    "\n",
    "sns.distplot(scaled_PT, ax=ax[3])\n",
    "ax[3].set_title(\"PowerTransformer: Scaled data\")\n",
    "ax[3].vlines(np.mean(scaled_PT), ymin = 0, ymax = .4, \n",
    "                               color = 'orange', label = 'mean')\n",
    "ax[3].vlines(np.median(scaled_PT), ymin = 0, ymax = .4, \n",
    "                            color = 'red', label = 'median')\n",
    "ax[3].vlines(np.mean(scaled_PT) - np.std(scaled_PT, ddof = 1), ymin = 0, ymax = .4, \n",
    "                               color = 'green', label = '1-std below')\n",
    "ax[3].vlines(np.mean(scaled_PT) + np.std(scaled_PT, ddof = 1), ymin = 0, ymax = .4, \n",
    "                               color = 'purple', label = '1-std above')\n",
    "\n",
    "plt.legend()\n",
    "plt.show()"
   ]
  },
  {
   "cell_type": "markdown",
   "id": "3ee7f3ff",
   "metadata": {},
   "source": [
    "**Example: Impact of scaling on sales dataset**"
   ]
  },
  {
   "cell_type": "code",
   "execution_count": 31,
   "id": "94377615-e378-4898-829a-de688d9bfecd",
   "metadata": {},
   "outputs": [],
   "source": [
    "X = sales[[\"TV\", \"radio\", \"newspaper\"]]\n",
    "scaled_X = PowerTransformer().fit_transform(X)"
   ]
  },
  {
   "cell_type": "code",
   "execution_count": 32,
   "id": "dff82567-b5a1-49eb-90ab-f9d52e64e8af",
   "metadata": {},
   "outputs": [
    {
     "name": "stderr",
     "output_type": "stream",
     "text": [
      "C:\\ProgramData\\Anaconda3\\lib\\site-packages\\seaborn\\distributions.py:2619: FutureWarning: `distplot` is a deprecated function and will be removed in a future version. Please adapt your code to use either `displot` (a figure-level function with similar flexibility) or `histplot` (an axes-level function for histograms).\n",
      "  warnings.warn(msg, FutureWarning)\n",
      "C:\\ProgramData\\Anaconda3\\lib\\site-packages\\seaborn\\distributions.py:2619: FutureWarning: `distplot` is a deprecated function and will be removed in a future version. Please adapt your code to use either `displot` (a figure-level function with similar flexibility) or `histplot` (an axes-level function for histograms).\n",
      "  warnings.warn(msg, FutureWarning)\n"
     ]
    },
    {
     "data": {
      "image/png": "[encoded data removed]",
      "text/plain": [
       "<Figure size 720x576 with 2 Axes>"
      ]
     },
     "metadata": {
      "needs_background": "light"
     },
     "output_type": "display_data"
    }
   ],
   "source": [
    "# plot both together to compare\n",
    "fig, ax=plt.subplots(1,2)\n",
    "fig.set_size_inches(10, 8)\n",
    "\n",
    "sns.distplot(X.iloc[1,:], ax=ax[0])\n",
    "ax[0].vlines(np.mean(X.iloc[1,:]), ymin = 0, ymax = .3, \n",
    "                               color = 'orange', label = 'mean')\n",
    "ax[0].vlines(np.median(X.iloc[1,:]), ymin = 0, ymax = .3, \n",
    "                            color = 'red', label = 'median')\n",
    "ax[0].vlines(np.mean(X.iloc[1,:]) - np.std(X.iloc[1,:], ddof = 1), ymin = 0, ymax = .3, \n",
    "                               color = 'green', label = '1-std below')\n",
    "ax[0].vlines(np.mean(X.iloc[1,:]) + np.std(X.iloc[1,:], ddof = 1), ymin = 0, ymax = .3, \n",
    "                               color = 'purple', label = '1-std above')\n",
    "ax[0].set_title(\"X.TV\")\n",
    "\n",
    "\n",
    "sns.distplot(scaled_X[:,0], ax=ax[1])\n",
    "ax[1].set_title(\"PowerTransform: X.TV\")\n",
    "ax[1].vlines(np.mean(scaled_X[:,0]), ymin = 0, ymax = .5, \n",
    "                               color = 'orange', label = 'mean')\n",
    "ax[1].vlines(np.median(scaled_X[:,0]), ymin = 0, ymax = .5, \n",
    "                            color = 'red', label = 'median')\n",
    "ax[1].vlines(np.mean(scaled_X[:,0]) - np.std(scaled_X[:,0], ddof = 1), ymin = 0, ymax = .5, \n",
    "                               color = 'green', label = '1-std belo')\n",
    "ax[1].vlines(np.mean(scaled_X[:,0]) + np.std(scaled_X[:,0], ddof = 1), ymin = 0, ymax = .5, \n",
    "                               color = 'purple', label = '1-std above')\n",
    "\n",
    "plt.legend()\n",
    "plt.show()"
   ]
  },
  {
   "cell_type": "code",
   "execution_count": 33,
   "id": "2e3f5542",
   "metadata": {},
   "outputs": [
    {
     "name": "stdout",
     "output_type": "stream",
     "text": [
      "R2 of MLR :        0.8972106381789522\n",
      "MSE of MLR:        2.784126314510936\n",
      "\n",
      "TV ad MLR :        0.04576464545539761\n",
      "\n",
      "Radio ad MLR:     0.18853001691820462\n",
      "\n",
      "Newspaper ad MLR: -0.0010374930424762972\n"
     ]
    }
   ],
   "source": [
    "model = LinearRegression().fit(X, sales[\"sales\"])\n",
    "\n",
    "r2score = r2_score(sales[\"sales\"], model.predict(X))\n",
    "print(\"R2 of MLR :        {}\".format(r2score))\n",
    "print(\"MSE of MLR:        {}\".format(mean_squared_error(sales[\"sales\"], model.predict(X))))\n",
    "\n",
    "\n",
    "print()\n",
    "print(\"TV ad MLR :        {}\".format(model.coef_[0]))\n",
    "print()\n",
    "print(\"Radio ad MLR:     {}\".format(model.coef_[1]))\n",
    "print()\n",
    "print(\"Newspaper ad MLR: {}\".format(model.coef_[2]))"
   ]
  },
  {
   "cell_type": "code",
   "execution_count": 100,
   "id": "bc8a51a3",
   "metadata": {},
   "outputs": [
    {
     "name": "stdout",
     "output_type": "stream",
     "text": [
      "R2 of MLR:        0.9074639862122942\n",
      "MSE of MLR:        2.5064067571002666\n",
      "\n",
      "TV ad MLR:        3.9707553863143206\n",
      "\n",
      "Radio ad MLR:     2.764248080722213\n",
      "\n",
      "Newspaper ad MLR: 0.0643293016332074\n"
     ]
    }
   ],
   "source": [
    "model_scaled = LinearRegression().fit(scaled_X, sales[\"sales\"])\n",
    "\n",
    "r2score = r2_score(sales[\"sales\"], model_scaled.predict(scaled_X))\n",
    "print(\"R2 of MLR:        {}\".format(r2score))\n",
    "print(\"MSE of MLR:        {}\".format(mean_squared_error(sales[\"sales\"], model_scaled.predict(scaled_X))))\n",
    "\n",
    "\n",
    "print()\n",
    "print(\"TV ad MLR:        {}\".format(model_scaled.coef_[0]))\n",
    "print()\n",
    "print(\"Radio ad MLR:     {}\".format(model_scaled.coef_[1]))\n",
    "print()\n",
    "print(\"Newspaper ad MLR: {}\".format(model_scaled.coef_[2]))"
   ]
  },
  {
   "cell_type": "markdown",
   "id": "7d99ed01",
   "metadata": {},
   "source": [
    "## Handling Categorical Predictors with Two Categories\n",
    "\n",
    "Up to now, all of our predictors have been numeric. What if one of our predictors was categorical?\n",
    "\n",
    "Let's create a new feature called **Size**, and randomly assign observations to be **small or large**:"
   ]
  },
  {
   "cell_type": "code",
   "execution_count": 34,
   "id": "3c36eda9",
   "metadata": {},
   "outputs": [
    {
     "data": {
      "text/html": [
       "<div>\n",
       "<style scoped>\n",
       "    .dataframe tbody tr th:only-of-type {\n",
       "        vertical-align: middle;\n",
       "    }\n",
       "\n",
       "    .dataframe tbody tr th {\n",
       "        vertical-align: top;\n",
       "    }\n",
       "\n",
       "    .dataframe thead th {\n",
       "        text-align: right;\n",
       "    }\n",
       "</style>\n",
       "<table border=\"1\" class=\"dataframe\">\n",
       "  <thead>\n",
       "    <tr style=\"text-align: right;\">\n",
       "      <th></th>\n",
       "      <th>TV</th>\n",
       "      <th>radio</th>\n",
       "      <th>newspaper</th>\n",
       "      <th>sales</th>\n",
       "    </tr>\n",
       "  </thead>\n",
       "  <tbody>\n",
       "    <tr>\n",
       "      <th>1</th>\n",
       "      <td>230.1</td>\n",
       "      <td>37.8</td>\n",
       "      <td>69.2</td>\n",
       "      <td>22.1</td>\n",
       "    </tr>\n",
       "    <tr>\n",
       "      <th>2</th>\n",
       "      <td>44.5</td>\n",
       "      <td>39.3</td>\n",
       "      <td>45.1</td>\n",
       "      <td>10.4</td>\n",
       "    </tr>\n",
       "    <tr>\n",
       "      <th>3</th>\n",
       "      <td>17.2</td>\n",
       "      <td>45.9</td>\n",
       "      <td>69.3</td>\n",
       "      <td>9.3</td>\n",
       "    </tr>\n",
       "    <tr>\n",
       "      <th>4</th>\n",
       "      <td>151.5</td>\n",
       "      <td>41.3</td>\n",
       "      <td>58.5</td>\n",
       "      <td>18.5</td>\n",
       "    </tr>\n",
       "    <tr>\n",
       "      <th>5</th>\n",
       "      <td>180.8</td>\n",
       "      <td>10.8</td>\n",
       "      <td>58.4</td>\n",
       "      <td>12.9</td>\n",
       "    </tr>\n",
       "  </tbody>\n",
       "</table>\n",
       "</div>"
      ],
      "text/plain": [
       "      TV  radio  newspaper  sales\n",
       "1  230.1   37.8       69.2   22.1\n",
       "2   44.5   39.3       45.1   10.4\n",
       "3   17.2   45.9       69.3    9.3\n",
       "4  151.5   41.3       58.5   18.5\n",
       "5  180.8   10.8       58.4   12.9"
      ]
     },
     "execution_count": 34,
     "metadata": {},
     "output_type": "execute_result"
    }
   ],
   "source": [
    "sales.head()"
   ]
  },
  {
   "cell_type": "code",
   "execution_count": 35,
   "id": "175cc09a",
   "metadata": {},
   "outputs": [
    {
     "data": {
      "text/html": [
       "<div>\n",
       "<style scoped>\n",
       "    .dataframe tbody tr th:only-of-type {\n",
       "        vertical-align: middle;\n",
       "    }\n",
       "\n",
       "    .dataframe tbody tr th {\n",
       "        vertical-align: top;\n",
       "    }\n",
       "\n",
       "    .dataframe thead th {\n",
       "        text-align: right;\n",
       "    }\n",
       "</style>\n",
       "<table border=\"1\" class=\"dataframe\">\n",
       "  <thead>\n",
       "    <tr style=\"text-align: right;\">\n",
       "      <th></th>\n",
       "      <th>TV</th>\n",
       "      <th>radio</th>\n",
       "      <th>newspaper</th>\n",
       "      <th>sales</th>\n",
       "      <th>Size</th>\n",
       "    </tr>\n",
       "  </thead>\n",
       "  <tbody>\n",
       "    <tr>\n",
       "      <th>1</th>\n",
       "      <td>230.1</td>\n",
       "      <td>37.8</td>\n",
       "      <td>69.2</td>\n",
       "      <td>22.1</td>\n",
       "      <td>small</td>\n",
       "    </tr>\n",
       "    <tr>\n",
       "      <th>2</th>\n",
       "      <td>44.5</td>\n",
       "      <td>39.3</td>\n",
       "      <td>45.1</td>\n",
       "      <td>10.4</td>\n",
       "      <td>large</td>\n",
       "    </tr>\n",
       "    <tr>\n",
       "      <th>3</th>\n",
       "      <td>17.2</td>\n",
       "      <td>45.9</td>\n",
       "      <td>69.3</td>\n",
       "      <td>9.3</td>\n",
       "      <td>large</td>\n",
       "    </tr>\n",
       "    <tr>\n",
       "      <th>4</th>\n",
       "      <td>151.5</td>\n",
       "      <td>41.3</td>\n",
       "      <td>58.5</td>\n",
       "      <td>18.5</td>\n",
       "      <td>large</td>\n",
       "    </tr>\n",
       "    <tr>\n",
       "      <th>5</th>\n",
       "      <td>180.8</td>\n",
       "      <td>10.8</td>\n",
       "      <td>58.4</td>\n",
       "      <td>12.9</td>\n",
       "      <td>small</td>\n",
       "    </tr>\n",
       "  </tbody>\n",
       "</table>\n",
       "</div>"
      ],
      "text/plain": [
       "      TV  radio  newspaper  sales   Size\n",
       "1  230.1   37.8       69.2   22.1  small\n",
       "2   44.5   39.3       45.1   10.4  large\n",
       "3   17.2   45.9       69.3    9.3  large\n",
       "4  151.5   41.3       58.5   18.5  large\n",
       "5  180.8   10.8       58.4   12.9  small"
      ]
     },
     "execution_count": 35,
     "metadata": {},
     "output_type": "execute_result"
    }
   ],
   "source": [
    "# set a seed for reproducibility\n",
    "np.random.seed(42)\n",
    "\n",
    "# create a Series of booleans in which roughly half are True\n",
    "nums = np.random.rand(len(sales))\n",
    "mask_large = nums > 0.5\n",
    "\n",
    "# initially set Size to s mall, then change roughly half to be large\n",
    "sales_size = sales.copy()\n",
    "sales_size['Size'] = 'small'\n",
    "sales_size.loc[mask_large, 'Size'] = 'large'\n",
    "sales_size.head()"
   ]
  },
  {
   "cell_type": "code",
   "execution_count": 36,
   "id": "c68bd6cd",
   "metadata": {},
   "outputs": [
    {
     "data": {
      "text/html": [
       "<div>\n",
       "<style scoped>\n",
       "    .dataframe tbody tr th:only-of-type {\n",
       "        vertical-align: middle;\n",
       "    }\n",
       "\n",
       "    .dataframe tbody tr th {\n",
       "        vertical-align: top;\n",
       "    }\n",
       "\n",
       "    .dataframe thead th {\n",
       "        text-align: right;\n",
       "    }\n",
       "</style>\n",
       "<table border=\"1\" class=\"dataframe\">\n",
       "  <thead>\n",
       "    <tr style=\"text-align: right;\">\n",
       "      <th></th>\n",
       "      <th>Size_large</th>\n",
       "      <th>Size_small</th>\n",
       "    </tr>\n",
       "  </thead>\n",
       "  <tbody>\n",
       "    <tr>\n",
       "      <th>1</th>\n",
       "      <td>0</td>\n",
       "      <td>1</td>\n",
       "    </tr>\n",
       "    <tr>\n",
       "      <th>2</th>\n",
       "      <td>1</td>\n",
       "      <td>0</td>\n",
       "    </tr>\n",
       "    <tr>\n",
       "      <th>3</th>\n",
       "      <td>1</td>\n",
       "      <td>0</td>\n",
       "    </tr>\n",
       "    <tr>\n",
       "      <th>4</th>\n",
       "      <td>1</td>\n",
       "      <td>0</td>\n",
       "    </tr>\n",
       "    <tr>\n",
       "      <th>5</th>\n",
       "      <td>0</td>\n",
       "      <td>1</td>\n",
       "    </tr>\n",
       "  </tbody>\n",
       "</table>\n",
       "</div>"
      ],
      "text/plain": [
       "   Size_large  Size_small\n",
       "1           0           1\n",
       "2           1           0\n",
       "3           1           0\n",
       "4           1           0\n",
       "5           0           1"
      ]
     },
     "execution_count": 36,
     "metadata": {},
     "output_type": "execute_result"
    }
   ],
   "source": [
    "# create a new Series called IsLarge\n",
    "size_dummies = pd.get_dummies(sales_size.Size, prefix='Size')\n",
    "size_dummies1 = size_dummies.iloc[:, 1]\n",
    "size_dummies.head()"
   ]
  },
  {
   "cell_type": "code",
   "execution_count": 37,
   "id": "92558d79",
   "metadata": {
    "tags": []
   },
   "outputs": [
    {
     "data": {
      "text/html": [
       "<div>\n",
       "<style scoped>\n",
       "    .dataframe tbody tr th:only-of-type {\n",
       "        vertical-align: middle;\n",
       "    }\n",
       "\n",
       "    .dataframe tbody tr th {\n",
       "        vertical-align: top;\n",
       "    }\n",
       "\n",
       "    .dataframe thead th {\n",
       "        text-align: right;\n",
       "    }\n",
       "</style>\n",
       "<table border=\"1\" class=\"dataframe\">\n",
       "  <thead>\n",
       "    <tr style=\"text-align: right;\">\n",
       "      <th></th>\n",
       "      <th>TV</th>\n",
       "      <th>radio</th>\n",
       "      <th>newspaper</th>\n",
       "      <th>sales</th>\n",
       "      <th>Size</th>\n",
       "      <th>Size_small</th>\n",
       "    </tr>\n",
       "  </thead>\n",
       "  <tbody>\n",
       "    <tr>\n",
       "      <th>1</th>\n",
       "      <td>230.1</td>\n",
       "      <td>37.8</td>\n",
       "      <td>69.2</td>\n",
       "      <td>22.1</td>\n",
       "      <td>small</td>\n",
       "      <td>1</td>\n",
       "    </tr>\n",
       "    <tr>\n",
       "      <th>2</th>\n",
       "      <td>44.5</td>\n",
       "      <td>39.3</td>\n",
       "      <td>45.1</td>\n",
       "      <td>10.4</td>\n",
       "      <td>large</td>\n",
       "      <td>0</td>\n",
       "    </tr>\n",
       "    <tr>\n",
       "      <th>3</th>\n",
       "      <td>17.2</td>\n",
       "      <td>45.9</td>\n",
       "      <td>69.3</td>\n",
       "      <td>9.3</td>\n",
       "      <td>large</td>\n",
       "      <td>0</td>\n",
       "    </tr>\n",
       "    <tr>\n",
       "      <th>4</th>\n",
       "      <td>151.5</td>\n",
       "      <td>41.3</td>\n",
       "      <td>58.5</td>\n",
       "      <td>18.5</td>\n",
       "      <td>large</td>\n",
       "      <td>0</td>\n",
       "    </tr>\n",
       "    <tr>\n",
       "      <th>5</th>\n",
       "      <td>180.8</td>\n",
       "      <td>10.8</td>\n",
       "      <td>58.4</td>\n",
       "      <td>12.9</td>\n",
       "      <td>small</td>\n",
       "      <td>1</td>\n",
       "    </tr>\n",
       "  </tbody>\n",
       "</table>\n",
       "</div>"
      ],
      "text/plain": [
       "      TV  radio  newspaper  sales   Size  Size_small\n",
       "1  230.1   37.8       69.2   22.1  small           1\n",
       "2   44.5   39.3       45.1   10.4  large           0\n",
       "3   17.2   45.9       69.3    9.3  large           0\n",
       "4  151.5   41.3       58.5   18.5  large           0\n",
       "5  180.8   10.8       58.4   12.9  small           1"
      ]
     },
     "execution_count": 37,
     "metadata": {},
     "output_type": "execute_result"
    }
   ],
   "source": [
    "size_dummies1 = size_dummies.iloc[:, 1]\n",
    "sales_size1 = pd.concat([sales_size, size_dummies1], axis=1)\n",
    "sales_size1.head()"
   ]
  },
  {
   "cell_type": "code",
   "execution_count": 38,
   "id": "72f51e06",
   "metadata": {
    "tags": []
   },
   "outputs": [
    {
     "data": {
      "text/html": [
       "<div>\n",
       "<style scoped>\n",
       "    .dataframe tbody tr th:only-of-type {\n",
       "        vertical-align: middle;\n",
       "    }\n",
       "\n",
       "    .dataframe tbody tr th {\n",
       "        vertical-align: top;\n",
       "    }\n",
       "\n",
       "    .dataframe thead th {\n",
       "        text-align: right;\n",
       "    }\n",
       "</style>\n",
       "<table border=\"1\" class=\"dataframe\">\n",
       "  <thead>\n",
       "    <tr style=\"text-align: right;\">\n",
       "      <th></th>\n",
       "      <th>TV</th>\n",
       "      <th>radio</th>\n",
       "      <th>newspaper</th>\n",
       "      <th>sales</th>\n",
       "      <th>Size</th>\n",
       "      <th>Size_large</th>\n",
       "    </tr>\n",
       "  </thead>\n",
       "  <tbody>\n",
       "    <tr>\n",
       "      <th>1</th>\n",
       "      <td>230.1</td>\n",
       "      <td>37.8</td>\n",
       "      <td>69.2</td>\n",
       "      <td>22.1</td>\n",
       "      <td>small</td>\n",
       "      <td>0</td>\n",
       "    </tr>\n",
       "    <tr>\n",
       "      <th>2</th>\n",
       "      <td>44.5</td>\n",
       "      <td>39.3</td>\n",
       "      <td>45.1</td>\n",
       "      <td>10.4</td>\n",
       "      <td>large</td>\n",
       "      <td>1</td>\n",
       "    </tr>\n",
       "    <tr>\n",
       "      <th>3</th>\n",
       "      <td>17.2</td>\n",
       "      <td>45.9</td>\n",
       "      <td>69.3</td>\n",
       "      <td>9.3</td>\n",
       "      <td>large</td>\n",
       "      <td>1</td>\n",
       "    </tr>\n",
       "    <tr>\n",
       "      <th>4</th>\n",
       "      <td>151.5</td>\n",
       "      <td>41.3</td>\n",
       "      <td>58.5</td>\n",
       "      <td>18.5</td>\n",
       "      <td>large</td>\n",
       "      <td>1</td>\n",
       "    </tr>\n",
       "    <tr>\n",
       "      <th>5</th>\n",
       "      <td>180.8</td>\n",
       "      <td>10.8</td>\n",
       "      <td>58.4</td>\n",
       "      <td>12.9</td>\n",
       "      <td>small</td>\n",
       "      <td>0</td>\n",
       "    </tr>\n",
       "  </tbody>\n",
       "</table>\n",
       "</div>"
      ],
      "text/plain": [
       "      TV  radio  newspaper  sales   Size  Size_large\n",
       "1  230.1   37.8       69.2   22.1  small           0\n",
       "2   44.5   39.3       45.1   10.4  large           1\n",
       "3   17.2   45.9       69.3    9.3  large           1\n",
       "4  151.5   41.3       58.5   18.5  large           1\n",
       "5  180.8   10.8       58.4   12.9  small           0"
      ]
     },
     "execution_count": 38,
     "metadata": {},
     "output_type": "execute_result"
    }
   ],
   "source": [
    "#MC \n",
    "size_dummies0 = size_dummies.iloc[:, 0]\n",
    "sales_size2 = pd.concat([sales_size, size_dummies0], axis=1)\n",
    "sales_size2.head()"
   ]
  },
  {
   "cell_type": "code",
   "execution_count": 45,
   "id": "a393eaa4",
   "metadata": {},
   "outputs": [
    {
     "name": "stdout",
     "output_type": "stream",
     "text": [
      "{('Size_small', 0.04564635201792487), ('newspaper', -0.0009987157346825065), ('TV', 0.045799839396507544), ('radio', 0.18841737406834347)}\n",
      "\n",
      "R2 of MLR:        0.8972294440532784\n",
      "MSE of MLR:       2.783616943417938\n"
     ]
    }
   ],
   "source": [
    "# create X and y\n",
    "feature_cols = ['TV', 'radio', 'newspaper', 'Size_small']\n",
    "X = sales_size1[feature_cols]\n",
    "y = sales.sales\n",
    "\n",
    "# instantiate, fit\n",
    "lm = LinearRegression()\n",
    "lm.fit(X, y)\n",
    "\n",
    "# print coefficients\n",
    "result = zip(feature_cols, lm.coef_)\n",
    "resultSet = set(result)\n",
    "print(resultSet)\n",
    "print()\n",
    "\n",
    "r2score = r2_score(y, lm.predict(X))\n",
    "print(\"R2 of MLR:        {}\".format(r2score))\n",
    "print(\"MSE of MLR:       {}\".format(mean_squared_error(y, lm.predict(X))))\n",
    "\n"
   ]
  },
  {
   "cell_type": "markdown",
   "id": "872fe787",
   "metadata": {},
   "source": [
    "## Handling Categorical Predictors with More than Two Categories\n",
    "\n",
    "Let's create a new feature called **Area**, and randomly assign observations to be **rural, suburban, or urban**:"
   ]
  },
  {
   "cell_type": "code",
   "execution_count": 46,
   "id": "ce4ba146",
   "metadata": {
    "scrolled": true
   },
   "outputs": [
    {
     "data": {
      "text/html": [
       "<div>\n",
       "<style scoped>\n",
       "    .dataframe tbody tr th:only-of-type {\n",
       "        vertical-align: middle;\n",
       "    }\n",
       "\n",
       "    .dataframe tbody tr th {\n",
       "        vertical-align: top;\n",
       "    }\n",
       "\n",
       "    .dataframe thead th {\n",
       "        text-align: right;\n",
       "    }\n",
       "</style>\n",
       "<table border=\"1\" class=\"dataframe\">\n",
       "  <thead>\n",
       "    <tr style=\"text-align: right;\">\n",
       "      <th></th>\n",
       "      <th>TV</th>\n",
       "      <th>radio</th>\n",
       "      <th>newspaper</th>\n",
       "      <th>sales</th>\n",
       "      <th>Size</th>\n",
       "      <th>Area</th>\n",
       "    </tr>\n",
       "  </thead>\n",
       "  <tbody>\n",
       "    <tr>\n",
       "      <th>1</th>\n",
       "      <td>230.1</td>\n",
       "      <td>37.8</td>\n",
       "      <td>69.2</td>\n",
       "      <td>22.1</td>\n",
       "      <td>small</td>\n",
       "      <td>rural</td>\n",
       "    </tr>\n",
       "    <tr>\n",
       "      <th>2</th>\n",
       "      <td>44.5</td>\n",
       "      <td>39.3</td>\n",
       "      <td>45.1</td>\n",
       "      <td>10.4</td>\n",
       "      <td>large</td>\n",
       "      <td>urban</td>\n",
       "    </tr>\n",
       "    <tr>\n",
       "      <th>3</th>\n",
       "      <td>17.2</td>\n",
       "      <td>45.9</td>\n",
       "      <td>69.3</td>\n",
       "      <td>9.3</td>\n",
       "      <td>large</td>\n",
       "      <td>rural</td>\n",
       "    </tr>\n",
       "    <tr>\n",
       "      <th>4</th>\n",
       "      <td>151.5</td>\n",
       "      <td>41.3</td>\n",
       "      <td>58.5</td>\n",
       "      <td>18.5</td>\n",
       "      <td>large</td>\n",
       "      <td>urban</td>\n",
       "    </tr>\n",
       "    <tr>\n",
       "      <th>5</th>\n",
       "      <td>180.8</td>\n",
       "      <td>10.8</td>\n",
       "      <td>58.4</td>\n",
       "      <td>12.9</td>\n",
       "      <td>small</td>\n",
       "      <td>suburban</td>\n",
       "    </tr>\n",
       "  </tbody>\n",
       "</table>\n",
       "</div>"
      ],
      "text/plain": [
       "      TV  radio  newspaper  sales   Size      Area\n",
       "1  230.1   37.8       69.2   22.1  small     rural\n",
       "2   44.5   39.3       45.1   10.4  large     urban\n",
       "3   17.2   45.9       69.3    9.3  large     rural\n",
       "4  151.5   41.3       58.5   18.5  large     urban\n",
       "5  180.8   10.8       58.4   12.9  small  suburban"
      ]
     },
     "execution_count": 46,
     "metadata": {},
     "output_type": "execute_result"
    }
   ],
   "source": [
    "# set a seed for reproducibility\n",
    "np.random.seed(123456)\n",
    "\n",
    "# assign roughly one third of observations to each group\n",
    "nums = np.random.rand(len(sales))\n",
    "mask_suburban = (nums > 0.33) & (nums < 0.66)\n",
    "mask_urban = nums > 0.66\n",
    "sales_Area = sales_size.copy()\n",
    "sales_Area['Area'] = 'rural'\n",
    "sales_Area.loc[mask_suburban, 'Area'] = 'suburban'\n",
    "sales_Area.loc[mask_urban, 'Area'] = 'urban'\n",
    "sales_Area.head()"
   ]
  },
  {
   "cell_type": "code",
   "execution_count": 47,
   "id": "aad6648d",
   "metadata": {},
   "outputs": [
    {
     "data": {
      "text/html": [
       "<div>\n",
       "<style scoped>\n",
       "    .dataframe tbody tr th:only-of-type {\n",
       "        vertical-align: middle;\n",
       "    }\n",
       "\n",
       "    .dataframe tbody tr th {\n",
       "        vertical-align: top;\n",
       "    }\n",
       "\n",
       "    .dataframe thead th {\n",
       "        text-align: right;\n",
       "    }\n",
       "</style>\n",
       "<table border=\"1\" class=\"dataframe\">\n",
       "  <thead>\n",
       "    <tr style=\"text-align: right;\">\n",
       "      <th></th>\n",
       "      <th>TV</th>\n",
       "      <th>radio</th>\n",
       "      <th>newspaper</th>\n",
       "      <th>sales</th>\n",
       "      <th>Size</th>\n",
       "      <th>Area</th>\n",
       "      <th>Area_suburban</th>\n",
       "      <th>Area_urban</th>\n",
       "    </tr>\n",
       "  </thead>\n",
       "  <tbody>\n",
       "    <tr>\n",
       "      <th>1</th>\n",
       "      <td>230.1</td>\n",
       "      <td>37.8</td>\n",
       "      <td>69.2</td>\n",
       "      <td>22.1</td>\n",
       "      <td>small</td>\n",
       "      <td>rural</td>\n",
       "      <td>0</td>\n",
       "      <td>0</td>\n",
       "    </tr>\n",
       "    <tr>\n",
       "      <th>2</th>\n",
       "      <td>44.5</td>\n",
       "      <td>39.3</td>\n",
       "      <td>45.1</td>\n",
       "      <td>10.4</td>\n",
       "      <td>large</td>\n",
       "      <td>urban</td>\n",
       "      <td>0</td>\n",
       "      <td>1</td>\n",
       "    </tr>\n",
       "    <tr>\n",
       "      <th>3</th>\n",
       "      <td>17.2</td>\n",
       "      <td>45.9</td>\n",
       "      <td>69.3</td>\n",
       "      <td>9.3</td>\n",
       "      <td>large</td>\n",
       "      <td>rural</td>\n",
       "      <td>0</td>\n",
       "      <td>0</td>\n",
       "    </tr>\n",
       "    <tr>\n",
       "      <th>4</th>\n",
       "      <td>151.5</td>\n",
       "      <td>41.3</td>\n",
       "      <td>58.5</td>\n",
       "      <td>18.5</td>\n",
       "      <td>large</td>\n",
       "      <td>urban</td>\n",
       "      <td>0</td>\n",
       "      <td>1</td>\n",
       "    </tr>\n",
       "    <tr>\n",
       "      <th>5</th>\n",
       "      <td>180.8</td>\n",
       "      <td>10.8</td>\n",
       "      <td>58.4</td>\n",
       "      <td>12.9</td>\n",
       "      <td>small</td>\n",
       "      <td>suburban</td>\n",
       "      <td>1</td>\n",
       "      <td>0</td>\n",
       "    </tr>\n",
       "  </tbody>\n",
       "</table>\n",
       "</div>"
      ],
      "text/plain": [
       "      TV  radio  newspaper  sales   Size      Area  Area_suburban  Area_urban\n",
       "1  230.1   37.8       69.2   22.1  small     rural              0           0\n",
       "2   44.5   39.3       45.1   10.4  large     urban              0           1\n",
       "3   17.2   45.9       69.3    9.3  large     rural              0           0\n",
       "4  151.5   41.3       58.5   18.5  large     urban              0           1\n",
       "5  180.8   10.8       58.4   12.9  small  suburban              1           0"
      ]
     },
     "execution_count": 47,
     "metadata": {},
     "output_type": "execute_result"
    }
   ],
   "source": [
    "# create three dummy variables using get_dummies, then exclude the first dummy column\n",
    "area_dummies = pd.get_dummies(sales_Area.Area, prefix='Area').iloc[:, 1:]\n",
    "\n",
    "# concatenate the dummy variable columns onto the original DataFrame (axis=0 means rows, axis=1 means columns)\n",
    "sales_Area = pd.concat([sales_Area, area_dummies], axis=1)\n",
    "sales_Area.head()"
   ]
  },
  {
   "cell_type": "markdown",
   "id": "ae463850",
   "metadata": {},
   "source": [
    "Here is how we interpret the coding:\n",
    "- **rural** is coded as Area_suburban=0 and Area_urban=0\n",
    "- **suburban** is coded as Area_suburban=1 and Area_urban=0\n",
    "- **urban** is coded as Area_suburban=0 and Area_urban=1\n",
    "\n",
    "Let's include the two new dummy variables in the model:"
   ]
  },
  {
   "cell_type": "code",
   "execution_count": 48,
   "id": "59db53e3",
   "metadata": {},
   "outputs": [
    {
     "data": {
      "text/html": [
       "<div>\n",
       "<style scoped>\n",
       "    .dataframe tbody tr th:only-of-type {\n",
       "        vertical-align: middle;\n",
       "    }\n",
       "\n",
       "    .dataframe tbody tr th {\n",
       "        vertical-align: top;\n",
       "    }\n",
       "\n",
       "    .dataframe thead th {\n",
       "        text-align: right;\n",
       "    }\n",
       "</style>\n",
       "<table border=\"1\" class=\"dataframe\">\n",
       "  <thead>\n",
       "    <tr style=\"text-align: right;\">\n",
       "      <th></th>\n",
       "      <th>TV</th>\n",
       "      <th>radio</th>\n",
       "      <th>newspaper</th>\n",
       "      <th>Size</th>\n",
       "      <th>Area</th>\n",
       "    </tr>\n",
       "  </thead>\n",
       "  <tbody>\n",
       "    <tr>\n",
       "      <th>1</th>\n",
       "      <td>230.1</td>\n",
       "      <td>37.8</td>\n",
       "      <td>69.2</td>\n",
       "      <td>small</td>\n",
       "      <td>rural</td>\n",
       "    </tr>\n",
       "    <tr>\n",
       "      <th>2</th>\n",
       "      <td>44.5</td>\n",
       "      <td>39.3</td>\n",
       "      <td>45.1</td>\n",
       "      <td>large</td>\n",
       "      <td>urban</td>\n",
       "    </tr>\n",
       "    <tr>\n",
       "      <th>3</th>\n",
       "      <td>17.2</td>\n",
       "      <td>45.9</td>\n",
       "      <td>69.3</td>\n",
       "      <td>large</td>\n",
       "      <td>rural</td>\n",
       "    </tr>\n",
       "    <tr>\n",
       "      <th>4</th>\n",
       "      <td>151.5</td>\n",
       "      <td>41.3</td>\n",
       "      <td>58.5</td>\n",
       "      <td>large</td>\n",
       "      <td>urban</td>\n",
       "    </tr>\n",
       "    <tr>\n",
       "      <th>5</th>\n",
       "      <td>180.8</td>\n",
       "      <td>10.8</td>\n",
       "      <td>58.4</td>\n",
       "      <td>small</td>\n",
       "      <td>suburban</td>\n",
       "    </tr>\n",
       "    <tr>\n",
       "      <th>...</th>\n",
       "      <td>...</td>\n",
       "      <td>...</td>\n",
       "      <td>...</td>\n",
       "      <td>...</td>\n",
       "      <td>...</td>\n",
       "    </tr>\n",
       "    <tr>\n",
       "      <th>196</th>\n",
       "      <td>38.2</td>\n",
       "      <td>3.7</td>\n",
       "      <td>13.8</td>\n",
       "      <td>small</td>\n",
       "      <td>suburban</td>\n",
       "    </tr>\n",
       "    <tr>\n",
       "      <th>197</th>\n",
       "      <td>94.2</td>\n",
       "      <td>4.9</td>\n",
       "      <td>8.1</td>\n",
       "      <td>large</td>\n",
       "      <td>urban</td>\n",
       "    </tr>\n",
       "    <tr>\n",
       "      <th>198</th>\n",
       "      <td>177.0</td>\n",
       "      <td>9.3</td>\n",
       "      <td>6.4</td>\n",
       "      <td>large</td>\n",
       "      <td>suburban</td>\n",
       "    </tr>\n",
       "    <tr>\n",
       "      <th>199</th>\n",
       "      <td>283.6</td>\n",
       "      <td>42.0</td>\n",
       "      <td>66.2</td>\n",
       "      <td>large</td>\n",
       "      <td>rural</td>\n",
       "    </tr>\n",
       "    <tr>\n",
       "      <th>200</th>\n",
       "      <td>232.1</td>\n",
       "      <td>8.6</td>\n",
       "      <td>8.7</td>\n",
       "      <td>large</td>\n",
       "      <td>rural</td>\n",
       "    </tr>\n",
       "  </tbody>\n",
       "</table>\n",
       "<p>200 rows × 5 columns</p>\n",
       "</div>"
      ],
      "text/plain": [
       "        TV  radio  newspaper   Size      Area\n",
       "1    230.1   37.8       69.2  small     rural\n",
       "2     44.5   39.3       45.1  large     urban\n",
       "3     17.2   45.9       69.3  large     rural\n",
       "4    151.5   41.3       58.5  large     urban\n",
       "5    180.8   10.8       58.4  small  suburban\n",
       "..     ...    ...        ...    ...       ...\n",
       "196   38.2    3.7       13.8  small  suburban\n",
       "197   94.2    4.9        8.1  large     urban\n",
       "198  177.0    9.3        6.4  large  suburban\n",
       "199  283.6   42.0       66.2  large     rural\n",
       "200  232.1    8.6        8.7  large     rural\n",
       "\n",
       "[200 rows x 5 columns]"
      ]
     },
     "execution_count": 48,
     "metadata": {},
     "output_type": "execute_result"
    }
   ],
   "source": [
    "# create X and y\n",
    "feature_cols = ['TV', 'radio', 'newspaper', 'Size', 'Area']\n",
    "X = sales_Area[feature_cols]\n",
    "X"
   ]
  },
  {
   "cell_type": "code",
   "execution_count": 49,
   "id": "eb1f806b",
   "metadata": {},
   "outputs": [
    {
     "data": {
      "text/html": [
       "<div>\n",
       "<style scoped>\n",
       "    .dataframe tbody tr th:only-of-type {\n",
       "        vertical-align: middle;\n",
       "    }\n",
       "\n",
       "    .dataframe tbody tr th {\n",
       "        vertical-align: top;\n",
       "    }\n",
       "\n",
       "    .dataframe thead th {\n",
       "        text-align: right;\n",
       "    }\n",
       "</style>\n",
       "<table border=\"1\" class=\"dataframe\">\n",
       "  <thead>\n",
       "    <tr style=\"text-align: right;\">\n",
       "      <th></th>\n",
       "      <th>TV</th>\n",
       "      <th>radio</th>\n",
       "      <th>newspaper</th>\n",
       "      <th>Size_small</th>\n",
       "      <th>Area_suburban</th>\n",
       "      <th>Area_urban</th>\n",
       "    </tr>\n",
       "  </thead>\n",
       "  <tbody>\n",
       "    <tr>\n",
       "      <th>1</th>\n",
       "      <td>230.1</td>\n",
       "      <td>37.8</td>\n",
       "      <td>69.2</td>\n",
       "      <td>1</td>\n",
       "      <td>0</td>\n",
       "      <td>0</td>\n",
       "    </tr>\n",
       "    <tr>\n",
       "      <th>2</th>\n",
       "      <td>44.5</td>\n",
       "      <td>39.3</td>\n",
       "      <td>45.1</td>\n",
       "      <td>0</td>\n",
       "      <td>0</td>\n",
       "      <td>1</td>\n",
       "    </tr>\n",
       "    <tr>\n",
       "      <th>3</th>\n",
       "      <td>17.2</td>\n",
       "      <td>45.9</td>\n",
       "      <td>69.3</td>\n",
       "      <td>0</td>\n",
       "      <td>0</td>\n",
       "      <td>0</td>\n",
       "    </tr>\n",
       "    <tr>\n",
       "      <th>4</th>\n",
       "      <td>151.5</td>\n",
       "      <td>41.3</td>\n",
       "      <td>58.5</td>\n",
       "      <td>0</td>\n",
       "      <td>0</td>\n",
       "      <td>1</td>\n",
       "    </tr>\n",
       "    <tr>\n",
       "      <th>5</th>\n",
       "      <td>180.8</td>\n",
       "      <td>10.8</td>\n",
       "      <td>58.4</td>\n",
       "      <td>1</td>\n",
       "      <td>1</td>\n",
       "      <td>0</td>\n",
       "    </tr>\n",
       "    <tr>\n",
       "      <th>...</th>\n",
       "      <td>...</td>\n",
       "      <td>...</td>\n",
       "      <td>...</td>\n",
       "      <td>...</td>\n",
       "      <td>...</td>\n",
       "      <td>...</td>\n",
       "    </tr>\n",
       "    <tr>\n",
       "      <th>196</th>\n",
       "      <td>38.2</td>\n",
       "      <td>3.7</td>\n",
       "      <td>13.8</td>\n",
       "      <td>1</td>\n",
       "      <td>1</td>\n",
       "      <td>0</td>\n",
       "    </tr>\n",
       "    <tr>\n",
       "      <th>197</th>\n",
       "      <td>94.2</td>\n",
       "      <td>4.9</td>\n",
       "      <td>8.1</td>\n",
       "      <td>0</td>\n",
       "      <td>0</td>\n",
       "      <td>1</td>\n",
       "    </tr>\n",
       "    <tr>\n",
       "      <th>198</th>\n",
       "      <td>177.0</td>\n",
       "      <td>9.3</td>\n",
       "      <td>6.4</td>\n",
       "      <td>0</td>\n",
       "      <td>1</td>\n",
       "      <td>0</td>\n",
       "    </tr>\n",
       "    <tr>\n",
       "      <th>199</th>\n",
       "      <td>283.6</td>\n",
       "      <td>42.0</td>\n",
       "      <td>66.2</td>\n",
       "      <td>0</td>\n",
       "      <td>0</td>\n",
       "      <td>0</td>\n",
       "    </tr>\n",
       "    <tr>\n",
       "      <th>200</th>\n",
       "      <td>232.1</td>\n",
       "      <td>8.6</td>\n",
       "      <td>8.7</td>\n",
       "      <td>0</td>\n",
       "      <td>0</td>\n",
       "      <td>0</td>\n",
       "    </tr>\n",
       "  </tbody>\n",
       "</table>\n",
       "<p>200 rows × 6 columns</p>\n",
       "</div>"
      ],
      "text/plain": [
       "        TV  radio  newspaper  Size_small  Area_suburban  Area_urban\n",
       "1    230.1   37.8       69.2           1              0           0\n",
       "2     44.5   39.3       45.1           0              0           1\n",
       "3     17.2   45.9       69.3           0              0           0\n",
       "4    151.5   41.3       58.5           0              0           1\n",
       "5    180.8   10.8       58.4           1              1           0\n",
       "..     ...    ...        ...         ...            ...         ...\n",
       "196   38.2    3.7       13.8           1              1           0\n",
       "197   94.2    4.9        8.1           0              0           1\n",
       "198  177.0    9.3        6.4           0              1           0\n",
       "199  283.6   42.0       66.2           0              0           0\n",
       "200  232.1    8.6        8.7           0              0           0\n",
       "\n",
       "[200 rows x 6 columns]"
      ]
     },
     "execution_count": 49,
     "metadata": {},
     "output_type": "execute_result"
    }
   ],
   "source": [
    "X_dummy=pd.get_dummies(X, drop_first=True)\n",
    "X_dummy"
   ]
  },
  {
   "cell_type": "code",
   "execution_count": 50,
   "id": "af16d7a1",
   "metadata": {},
   "outputs": [
    {
     "name": "stdout",
     "output_type": "stream",
     "text": [
      "{('TV', 0.04584961686502515), ('Size_small', 0.06222071661049745), ('radio', 0.1874572257165829), ('newspaper', -0.0009722908491923818), ('Area_urban', 0.24893742682404305), ('Area_suburban', -0.12728485387467364)}\n"
     ]
    }
   ],
   "source": [
    "y = sales.sales\n",
    "\n",
    "# instantiate, fit\n",
    "lm = LinearRegression()\n",
    "lm.fit(X_dummy, y)\n",
    "\n",
    "# print coefficients\n",
    "Results=zip(X_dummy.columns, lm.coef_)\n",
    "SetResults = set(Results)\n",
    "print(SetResults)"
   ]
  },
  {
   "cell_type": "code",
   "execution_count": 51,
   "id": "c93e69ff",
   "metadata": {},
   "outputs": [
    {
     "data": {
      "text/plain": [
       "Index(['TV', 'radio', 'newspaper', 'Size_small', 'Area_suburban',\n",
       "       'Area_urban'],\n",
       "      dtype='object')"
      ]
     },
     "execution_count": 51,
     "metadata": {},
     "output_type": "execute_result"
    }
   ],
   "source": [
    "X_dummy.columns"
   ]
  },
  {
   "cell_type": "code",
   "execution_count": 52,
   "id": "1683593d",
   "metadata": {},
   "outputs": [
    {
     "data": {
      "text/plain": [
       "array([ 0.04584962,  0.18745723, -0.00097229,  0.06222072, -0.12728485,\n",
       "        0.24893743])"
      ]
     },
     "execution_count": 52,
     "metadata": {},
     "output_type": "execute_result"
    }
   ],
   "source": [
    "lm.coef_"
   ]
  },
  {
   "cell_type": "code",
   "execution_count": 53,
   "id": "533de6b7",
   "metadata": {},
   "outputs": [
    {
     "data": {
      "text/plain": [
       "5.084914089199856"
      ]
     },
     "execution_count": 53,
     "metadata": {},
     "output_type": "execute_result"
    }
   ],
   "source": [
    "news=10 \n",
    "Area='suburban'\n",
    "radio=10\n",
    "Size='large'\n",
    "TV=10\n",
    "yfit=lm.intercept_ + TV*lm.coef_[0] + radio*lm.coef_[1] + news*lm.coef_[2] + 0*lm.coef_[3] + 1*lm.coef_[4] + 0*lm.coef_[5]\n",
    "yfit"
   ]
  },
  {
   "cell_type": "code",
   "execution_count": 54,
   "id": "d4416354",
   "metadata": {},
   "outputs": [
    {
     "data": {
      "text/plain": [
       "array([5.08491409])"
      ]
     },
     "execution_count": 54,
     "metadata": {},
     "output_type": "execute_result"
    }
   ],
   "source": [
    "lm.predict([[10,10,10, 0,1,0]])"
   ]
  },
  {
   "cell_type": "markdown",
   "id": "49e0b211-ebfb-4ad6-9bcd-7d36664bb9cd",
   "metadata": {},
   "source": [
    "How do we interpret the coefficients?\n",
    "- Holding all other variables fixed, being a **suburban** area is associated with an average **decrease** in Sales of 127.28 (as compared to the baseline level, which is rural).\n",
    "- Being an **urban** area is associated with an average **increase** in Sales of 248.93 (as compared to rural).\n",
    "\n",
    "**A final note about dummy encoding:** If you have categories that can be ranked (i.e., strongly disagree, disagree, neutral, agree, strongly agree), you can potentially use a single dummy variable and represent the categories numerically (such as 1, 2, 3, 4, 5)."
   ]
  }
 ],
 "metadata": {
  "kernelspec": {
   "display_name": "Python 3 (ipykernel)",
   "language": "python",
   "name": "python3"
  },
  "language_info": {
   "codemirror_mode": {
    "name": "ipython",
    "version": 3
   },
   "file_extension": ".py",
   "mimetype": "text/x-python",
   "name": "python",
   "nbconvert_exporter": "python",
   "pygments_lexer": "ipython3",
   "version": "3.8.11"
  }
 },
 "nbformat": 4,
 "nbformat_minor": 5
}
